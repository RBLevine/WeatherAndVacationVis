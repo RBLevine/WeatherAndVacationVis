{
 "cells": [
  {
   "cell_type": "markdown",
   "metadata": {},
   "source": [
    "# WeatherPy\n",
    "----\n",
    "\n",
    "#### Observations\n",
    "* 1. There is a strong correlation between latitude and max temp for both hemispheres. Northern hemisphere gets colder the further north you go from he equator while the southern hemisphere gets colder the further south you go from the equator.\n",
    "* 2. The vast majority of locations have a humidity percentage of over 50%. This has little to no reliance on latitude. \n",
    "* 3. The vast majority of locations have a wind speed of 15mph or less. This also has little to no reliance on latitude.\n",
    "* 4. Cloudiness is completely unaffected by the latitude of a location. "
   ]
  },
  {
   "cell_type": "code",
   "execution_count": 1,
   "metadata": {
    "scrolled": true
   },
   "outputs": [],
   "source": [
    "# Dependencies and Setup\n",
    "import matplotlib.pyplot as plt\n",
    "import pandas as pd\n",
    "import numpy as np\n",
    "import requests\n",
    "import time\n",
    "from scipy.stats import linregress\n",
    "\n",
    "# Import API key\n",
    "from api_keys import weather_api_key\n",
    "\n",
    "# Incorporate citipy to determine city based on latitude and longitude\n",
    "from citipy import citipy\n",
    "\n",
    "# Output File (CSV)\n",
    "output_data_file = \"output_data/cities.csv\"\n",
    "\n",
    "# Range of latitudes and longitudes\n",
    "lat_range = (-90, 90)\n",
    "lng_range = (-180, 180)"
   ]
  },
  {
   "cell_type": "markdown",
   "metadata": {},
   "source": [
    "## Generate Cities List"
   ]
  },
  {
   "cell_type": "code",
   "execution_count": 2,
   "metadata": {},
   "outputs": [
    {
     "data": {
      "text/plain": [
       "630"
      ]
     },
     "execution_count": 2,
     "metadata": {},
     "output_type": "execute_result"
    }
   ],
   "source": [
    "# List for holding lat_lngs and cities\n",
    "lat_lngs = []\n",
    "cities = []\n",
    "\n",
    "# Create a set of random lat and lng combinations\n",
    "lats = np.random.uniform(lat_range[0], lat_range[1], size=1500) #size should be 1500 in this and below\n",
    "lngs = np.random.uniform(lng_range[0], lng_range[1], size=1500)\n",
    "lat_lngs = zip(lats, lngs)\n",
    "\n",
    "# Identify nearest city for each lat, lng combination\n",
    "for lat_lng in lat_lngs:\n",
    "    city = citipy.nearest_city(lat_lng[0], lat_lng[1]).city_name\n",
    "    \n",
    "    # If statement that determines if the city is unique, then adds it to a our cities list (only if unique)\n",
    "    if city not in cities:\n",
    "        cities.append(city)\n",
    "\n",
    "# Print the city count to confirm sufficient count\n",
    "len(cities)"
   ]
  },
  {
   "cell_type": "markdown",
   "metadata": {},
   "source": [
    "### Perform API Calls\n",
    "* Perform a weather check on each city using a series of successive API calls.\n",
    "* Include a print log of each city as it'sbeing processed (with the city number and city name).\n"
   ]
  },
  {
   "cell_type": "code",
   "execution_count": 3,
   "metadata": {
    "scrolled": true
   },
   "outputs": [
    {
     "name": "stdout",
     "output_type": "stream",
     "text": [
      "Beginning Data Retrieval\n",
      "-------------------------------\n",
      "The city, karamay, was not found. Skipping...\n",
      "Processing Record 2 of Set 1 | rikitea\n",
      "Processing Record 3 of Set 1 | saint anthony\n",
      "Processing Record 4 of Set 1 | acarau\n",
      "Processing Record 5 of Set 1 | norman wells\n",
      "Processing Record 6 of Set 1 | husavik\n",
      "Processing Record 7 of Set 1 | kapaa\n",
      "Processing Record 8 of Set 1 | zhireken\n",
      "Processing Record 9 of Set 1 | lakselv\n",
      "Processing Record 10 of Set 1 | punta arenas\n",
      "Processing Record 11 of Set 1 | awbari\n",
      "Processing Record 12 of Set 1 | hilo\n",
      "Processing Record 13 of Set 1 | butaritari\n",
      "Processing Record 14 of Set 1 | hambantota\n",
      "Processing Record 15 of Set 1 | port alfred\n",
      "The city, belushya guba, was not found. Skipping...\n",
      "Processing Record 17 of Set 1 | goderich\n",
      "Processing Record 18 of Set 1 | castro\n",
      "The city, sentyabrskiy, was not found. Skipping...\n",
      "Processing Record 20 of Set 1 | vermilion\n",
      "Processing Record 21 of Set 1 | cape town\n",
      "The city, attawapiskat, was not found. Skipping...\n",
      "Processing Record 23 of Set 1 | touba\n",
      "Processing Record 24 of Set 1 | mataura\n",
      "The city, taolanaro, was not found. Skipping...\n",
      "Processing Record 26 of Set 1 | soe\n",
      "Processing Record 27 of Set 1 | bandarbeyla\n",
      "Processing Record 28 of Set 1 | albany\n",
      "Processing Record 29 of Set 1 | busselton\n",
      "Processing Record 30 of Set 1 | the pas\n",
      "Processing Record 31 of Set 1 | port elizabeth\n",
      "Processing Record 32 of Set 1 | coahuayana\n",
      "Processing Record 33 of Set 1 | valparaiso\n",
      "Processing Record 34 of Set 1 | kaitangata\n",
      "Processing Record 35 of Set 1 | ushuaia\n",
      "Processing Record 36 of Set 1 | clyde river\n",
      "Processing Record 37 of Set 1 | kavaratti\n",
      "Processing Record 38 of Set 1 | polunochnoye\n",
      "Processing Record 39 of Set 1 | lufilufi\n",
      "Processing Record 40 of Set 1 | jamestown\n",
      "Processing Record 41 of Set 1 | college\n",
      "Processing Record 42 of Set 1 | tiksi\n",
      "Processing Record 43 of Set 1 | whitstable\n",
      "Processing Record 44 of Set 1 | constitucion\n",
      "Processing Record 45 of Set 1 | san quintin\n",
      "Processing Record 46 of Set 1 | east london\n",
      "Processing Record 47 of Set 1 | santa cruz de tenerife\n",
      "Processing Record 48 of Set 1 | georgetown\n",
      "Processing Record 49 of Set 1 | yatou\n",
      "Processing Record 50 of Set 1 | ishigaki\n",
      "Processing Record 51 of Set 1 | dongsheng\n",
      "Processing Record 52 of Set 1 | dingle\n",
      "Processing Record 53 of Set 1 | puerto lempira\n",
      "Processing Record 54 of Set 1 | manaure\n",
      "Processing Record 55 of Set 1 | ponta do sol\n",
      "Processing Record 56 of Set 1 | tuatapere\n",
      "Processing Record 57 of Set 1 | christchurch\n",
      "Processing Record 58 of Set 1 | kruisfontein\n",
      "Processing Record 59 of Set 1 | mufumbwe\n",
      "Processing Record 60 of Set 1 | lompoc\n",
      "Processing Record 61 of Set 1 | chokurdakh\n",
      "Processing Record 62 of Set 1 | vaini\n",
      "Processing Record 63 of Set 1 | suraabad\n",
      "Processing Record 64 of Set 1 | yaan\n",
      "Processing Record 65 of Set 1 | kismayo\n",
      "Processing Record 66 of Set 1 | tena\n",
      "Processing Record 67 of Set 1 | neiafu\n",
      "Processing Record 68 of Set 1 | jasper\n",
      "Processing Record 69 of Set 1 | new norfolk\n",
      "Processing Record 70 of Set 1 | broome\n",
      "Processing Record 71 of Set 1 | abalak\n",
      "Processing Record 72 of Set 1 | klaksvik\n",
      "Processing Record 73 of Set 1 | sabang\n",
      "Processing Record 74 of Set 1 | puerto escondido\n",
      "Processing Record 75 of Set 1 | bluff\n",
      "Processing Record 76 of Set 1 | arraial do cabo\n",
      "Processing Record 77 of Set 1 | hobart\n",
      "Processing Record 78 of Set 1 | erzin\n",
      "Processing Record 79 of Set 1 | tessalit\n",
      "Processing Record 80 of Set 1 | greer\n",
      "Processing Record 81 of Set 1 | pimentel\n",
      "The city, illoqqortoormiut, was not found. Skipping...\n",
      "Processing Record 83 of Set 1 | ancud\n",
      "Processing Record 84 of Set 1 | mar del plata\n",
      "Processing Record 85 of Set 1 | san patricio\n",
      "Processing Record 86 of Set 1 | thongwa\n",
      "The city, sinkat, was not found. Skipping...\n",
      "Processing Record 88 of Set 1 | dikson\n",
      "Processing Record 89 of Set 1 | iqaluit\n",
      "Processing Record 90 of Set 1 | esperance\n",
      "Processing Record 91 of Set 1 | cidreira\n",
      "Processing Record 92 of Set 1 | adrar\n",
      "Processing Record 93 of Set 1 | marsh harbour\n",
      "Processing Record 94 of Set 1 | whitehorse\n",
      "Processing Record 95 of Set 1 | sol-iletsk\n",
      "Processing Record 96 of Set 1 | lebu\n",
      "Processing Record 97 of Set 1 | trairi\n",
      "Processing Record 98 of Set 1 | macusani\n",
      "Processing Record 99 of Set 1 | flinders\n",
      "Processing Record 100 of Set 1 | cherskiy\n",
      "Processing Record 101 of Set 1 | airai\n",
      "Processing Record 102 of Set 1 | geraldton\n",
      "The city, babanusah, was not found. Skipping...\n",
      "Processing Record 104 of Set 1 | lumeje\n",
      "Processing Record 105 of Set 1 | fukue\n",
      "The city, barentsburg, was not found. Skipping...\n",
      "Processing Record 107 of Set 1 | sao filipe\n",
      "Processing Record 108 of Set 1 | orodara\n",
      "Processing Record 109 of Set 1 | prince rupert\n",
      "Processing Record 110 of Set 1 | provideniya\n",
      "Processing Record 111 of Set 1 | douentza\n",
      "Processing Record 112 of Set 1 | hastings\n",
      "Processing Record 113 of Set 1 | amapa\n",
      "Processing Record 114 of Set 1 | hermanus\n",
      "Processing Record 115 of Set 1 | vanimo\n",
      "Processing Record 116 of Set 1 | abu kamal\n",
      "Processing Record 117 of Set 1 | bethel\n",
      "Processing Record 118 of Set 1 | avarua\n",
      "Processing Record 119 of Set 1 | nakambala\n",
      "Processing Record 120 of Set 1 | tautira\n",
      "Processing Record 121 of Set 1 | aguas formosas\n",
      "Processing Record 122 of Set 1 | saldanha\n",
      "Processing Record 123 of Set 1 | san joaquin\n",
      "Processing Record 124 of Set 1 | comodoro rivadavia\n",
      "The city, grand river south east, was not found. Skipping...\n",
      "Processing Record 126 of Set 1 | mahebourg\n",
      "Processing Record 127 of Set 1 | baffa\n",
      "Processing Record 128 of Set 1 | matara\n",
      "Processing Record 129 of Set 1 | puerto cabezas\n",
      "Processing Record 130 of Set 1 | hasaki\n",
      "Processing Record 131 of Set 1 | puerto ayora\n",
      "Processing Record 132 of Set 1 | sisimiut\n",
      "Processing Record 133 of Set 1 | batagay\n",
      "Processing Record 134 of Set 1 | yellowknife\n",
      "Processing Record 135 of Set 1 | wellington\n",
      "Processing Record 136 of Set 1 | pacific grove\n",
      "Processing Record 137 of Set 1 | praia\n",
      "Processing Record 138 of Set 1 | lensk\n",
      "Processing Record 139 of Set 1 | thompson\n",
      "Processing Record 140 of Set 1 | vila franca do campo\n",
      "Processing Record 141 of Set 1 | namibe\n",
      "Processing Record 142 of Set 1 | meulaboh\n",
      "Processing Record 143 of Set 1 | ostrovnoy\n",
      "Processing Record 144 of Set 1 | porto novo\n",
      "Processing Record 145 of Set 1 | torbay\n",
      "Processing Record 146 of Set 1 | gao\n",
      "Processing Record 147 of Set 1 | binzhou\n",
      "Processing Record 148 of Set 1 | saint-philippe\n",
      "Processing Record 149 of Set 1 | asau\n",
      "Processing Record 150 of Set 1 | nuuk\n",
      "The city, amderma, was not found. Skipping...\n",
      "Processing Record 152 of Set 1 | qui nhon\n",
      "Processing Record 153 of Set 1 | tuktoyaktuk\n",
      "Processing Record 154 of Set 1 | kavieng\n",
      "Processing Record 155 of Set 1 | nanortalik\n",
      "Processing Record 156 of Set 1 | podyuga\n",
      "Processing Record 157 of Set 1 | severo-kurilsk\n",
      "Processing Record 158 of Set 1 | mugur-aksy\n",
      "Processing Record 159 of Set 1 | kaoma\n",
      "The city, mahadday weyne, was not found. Skipping...\n",
      "Processing Record 161 of Set 1 | ofaqim\n",
      "Processing Record 162 of Set 1 | dakar\n",
      "Processing Record 163 of Set 1 | saint george\n",
      "Processing Record 164 of Set 1 | miguel hidalgo\n",
      "Processing Record 165 of Set 1 | chuy\n",
      "The city, jubayl, was not found. Skipping...\n",
      "Processing Record 167 of Set 1 | la paz\n",
      "Processing Record 168 of Set 1 | kostino\n",
      "Processing Record 169 of Set 1 | bredasdorp\n",
      "Processing Record 170 of Set 1 | hokitika\n",
      "Processing Record 171 of Set 1 | xai-xai\n",
      "Processing Record 172 of Set 1 | egvekinot\n",
      "Processing Record 173 of Set 1 | san rafael\n",
      "Processing Record 174 of Set 1 | sungaipenuh\n",
      "Processing Record 175 of Set 1 | hithadhoo\n",
      "Processing Record 176 of Set 1 | champawat\n",
      "The city, tasbuget, was not found. Skipping...\n",
      "Processing Record 178 of Set 1 | port blair\n",
      "Processing Record 179 of Set 1 | hanzhong\n",
      "Processing Record 180 of Set 1 | maniitsoq\n",
      "Processing Record 181 of Set 1 | sindor\n",
      "Processing Record 182 of Set 1 | bokoro\n",
      "Processing Record 183 of Set 1 | curico\n",
      "Processing Record 184 of Set 1 | grand gaube\n",
      "Processing Record 185 of Set 1 | barrow\n",
      "Processing Record 186 of Set 1 | snezhnogorsk\n",
      "Processing Record 187 of Set 1 | arya\n",
      "Processing Record 188 of Set 1 | naze\n",
      "Processing Record 189 of Set 1 | beloha\n",
      "Processing Record 190 of Set 1 | khatanga\n",
      "Processing Record 191 of Set 1 | akhnur\n",
      "Processing Record 192 of Set 1 | nioro\n"
     ]
    },
    {
     "name": "stdout",
     "output_type": "stream",
     "text": [
      "Processing Record 193 of Set 1 | moron\n",
      "The city, nizhneyansk, was not found. Skipping...\n",
      "Processing Record 195 of Set 1 | ribeira grande\n",
      "Processing Record 196 of Set 1 | kawalu\n",
      "Processing Record 197 of Set 1 | kahului\n",
      "Processing Record 198 of Set 1 | faanui\n",
      "Processing Record 199 of Set 1 | tadine\n",
      "Processing Record 200 of Set 1 | toba\n",
      "Processing Record 201 of Set 1 | asfi\n",
      "Processing Record 202 of Set 1 | nikolskoye\n",
      "Processing Record 203 of Set 1 | mogadishu\n",
      "Processing Record 204 of Set 1 | sumenep\n",
      "Processing Record 205 of Set 1 | emmen\n",
      "Processing Record 206 of Set 1 | newport\n",
      "Processing Record 207 of Set 1 | tilichiki\n",
      "The city, meyungs, was not found. Skipping...\n",
      "Processing Record 209 of Set 1 | maceio\n",
      "Processing Record 210 of Set 1 | south venice\n",
      "The city, kazalinsk, was not found. Skipping...\n",
      "Processing Record 212 of Set 1 | araouane\n",
      "Processing Record 213 of Set 1 | dusnok\n",
      "Processing Record 214 of Set 1 | zinacantan\n",
      "Processing Record 215 of Set 1 | carnarvon\n",
      "Processing Record 216 of Set 1 | oistins\n",
      "Processing Record 217 of Set 1 | namwala\n",
      "Processing Record 218 of Set 1 | mindelo\n",
      "Processing Record 219 of Set 1 | lazaro cardenas\n",
      "Processing Record 220 of Set 1 | saskylakh\n",
      "Processing Record 221 of Set 1 | xiongzhou\n",
      "Processing Record 222 of Set 1 | hamilton\n",
      "Processing Record 223 of Set 1 | guerrero negro\n",
      "Processing Record 224 of Set 1 | pevek\n",
      "Processing Record 225 of Set 1 | miri\n",
      "Processing Record 226 of Set 1 | karpathos\n",
      "Processing Record 227 of Set 1 | karoi\n",
      "Processing Record 228 of Set 1 | bengkulu\n",
      "Processing Record 229 of Set 1 | mweka\n",
      "Processing Record 230 of Set 1 | baruun-urt\n",
      "The city, forset, was not found. Skipping...\n",
      "Processing Record 232 of Set 1 | blackwater\n",
      "The city, mys shmidta, was not found. Skipping...\n",
      "Processing Record 234 of Set 1 | xifeng\n",
      "Processing Record 235 of Set 1 | pozo colorado\n",
      "Processing Record 236 of Set 1 | fuling\n",
      "Processing Record 237 of Set 1 | danszentmiklos\n",
      "Processing Record 238 of Set 1 | kununurra\n",
      "Processing Record 239 of Set 1 | avera\n",
      "Processing Record 240 of Set 1 | biloela\n",
      "Processing Record 241 of Set 1 | san cristobal\n",
      "Processing Record 242 of Set 1 | mattru\n",
      "Processing Record 243 of Set 1 | longyearbyen\n",
      "The city, saint combs, was not found. Skipping...\n",
      "Processing Record 245 of Set 1 | elk city\n",
      "Processing Record 246 of Set 1 | machiques\n",
      "Processing Record 247 of Set 1 | westport\n",
      "Processing Record 248 of Set 1 | point pleasant\n",
      "Processing Record 249 of Set 1 | fairbanks\n",
      "Processing Record 250 of Set 1 | bowen\n",
      "Processing Record 251 of Set 1 | victoria\n",
      "Processing Record 252 of Set 1 | taksimo\n",
      "Processing Record 253 of Set 1 | buchanan\n",
      "The city, warqla, was not found. Skipping...\n",
      "Processing Record 255 of Set 1 | zhifang\n",
      "Processing Record 256 of Set 1 | narsaq\n",
      "Processing Record 257 of Set 1 | saint-joseph\n",
      "Processing Record 258 of Set 1 | qaanaaq\n",
      "Processing Record 259 of Set 1 | pierre\n",
      "The city, tumannyy, was not found. Skipping...\n",
      "The city, dzhusaly, was not found. Skipping...\n",
      "Processing Record 262 of Set 1 | lata\n",
      "Processing Record 263 of Set 1 | bulgan\n",
      "Processing Record 264 of Set 1 | khash\n",
      "Processing Record 265 of Set 1 | san juan\n",
      "Processing Record 266 of Set 1 | launceston\n",
      "Processing Record 267 of Set 1 | alice springs\n",
      "Processing Record 268 of Set 1 | urumqi\n",
      "Processing Record 269 of Set 1 | mecca\n",
      "Processing Record 270 of Set 1 | tateyama\n",
      "Processing Record 271 of Set 1 | padilla\n",
      "Processing Record 272 of Set 1 | diego de almagro\n",
      "Processing Record 273 of Set 1 | port hawkesbury\n",
      "The city, chagda, was not found. Skipping...\n",
      "Processing Record 275 of Set 1 | ornskoldsvik\n",
      "Processing Record 276 of Set 1 | guaranesia\n",
      "Processing Record 277 of Set 1 | bambous virieux\n",
      "Processing Record 278 of Set 1 | ginir\n",
      "Processing Record 279 of Set 1 | nueve de julio\n",
      "Processing Record 280 of Set 1 | chkalovsk\n",
      "Processing Record 281 of Set 1 | lavrentiya\n",
      "Processing Record 282 of Set 1 | asekeyevo\n",
      "Processing Record 283 of Set 1 | gusau\n",
      "Processing Record 284 of Set 1 | labuhan\n",
      "Processing Record 285 of Set 1 | banda aceh\n",
      "Processing Record 286 of Set 1 | voskresenskoye\n",
      "Processing Record 287 of Set 1 | riyadh\n",
      "Processing Record 288 of Set 1 | bend\n",
      "Processing Record 289 of Set 1 | pangnirtung\n",
      "Processing Record 290 of Set 1 | baykit\n",
      "Processing Record 291 of Set 1 | tasiilaq\n",
      "Processing Record 292 of Set 1 | bandar-e lengeh\n",
      "Processing Record 293 of Set 1 | cap-aux-meules\n",
      "Processing Record 294 of Set 1 | mombaca\n",
      "Processing Record 295 of Set 1 | thohoyandou\n",
      "Processing Record 296 of Set 1 | marang\n",
      "Processing Record 297 of Set 1 | george\n",
      "Processing Record 298 of Set 1 | farmington\n",
      "Processing Record 299 of Set 1 | kudat\n",
      "Processing Record 300 of Set 1 | zaozerne\n",
      "Processing Record 301 of Set 1 | swan hill\n",
      "Processing Record 302 of Set 1 | pringsewu\n",
      "Processing Record 303 of Set 1 | hobyo\n",
      "Processing Record 304 of Set 1 | akom\n",
      "Processing Record 305 of Set 1 | panama city\n",
      "Processing Record 306 of Set 1 | ixtapa\n",
      "Processing Record 307 of Set 1 | mazatlan\n",
      "The city, umzimvubu, was not found. Skipping...\n",
      "Processing Record 309 of Set 1 | upernavik\n",
      "Processing Record 310 of Set 1 | pisco\n",
      "Processing Record 311 of Set 1 | pangody\n",
      "Processing Record 312 of Set 1 | cockburn town\n",
      "Processing Record 313 of Set 1 | gornopravdinsk\n",
      "Processing Record 314 of Set 1 | caravelas\n",
      "Processing Record 315 of Set 1 | merauke\n",
      "Processing Record 316 of Set 1 | atuona\n",
      "Processing Record 317 of Set 1 | port macquarie\n",
      "Processing Record 318 of Set 1 | anloga\n",
      "Processing Record 319 of Set 1 | oskarshamn\n",
      "Processing Record 320 of Set 1 | alofi\n",
      "Processing Record 321 of Set 1 | ilulissat\n",
      "Processing Record 322 of Set 1 | jajce\n",
      "Processing Record 323 of Set 1 | kushiro\n",
      "Processing Record 324 of Set 1 | inuvik\n",
      "Processing Record 325 of Set 1 | denpasar\n",
      "Processing Record 326 of Set 1 | krasnaya gora\n",
      "Processing Record 327 of Set 1 | skibbereen\n",
      "Processing Record 328 of Set 1 | sundumbili\n",
      "Processing Record 329 of Set 1 | selma\n",
      "Processing Record 330 of Set 1 | bada\n",
      "Processing Record 331 of Set 1 | den helder\n",
      "Processing Record 332 of Set 1 | coquimbo\n",
      "Processing Record 333 of Set 1 | strelka\n",
      "Processing Record 334 of Set 1 | north bend\n",
      "Processing Record 335 of Set 1 | yulara\n",
      "Processing Record 336 of Set 1 | barranca\n",
      "Processing Record 337 of Set 1 | port lincoln\n",
      "Processing Record 338 of Set 1 | kodiak\n",
      "Processing Record 339 of Set 1 | ukhta\n",
      "Processing Record 340 of Set 1 | muzhi\n",
      "Processing Record 341 of Set 1 | dunedin\n",
      "Processing Record 342 of Set 1 | vohibinany\n",
      "Processing Record 343 of Set 1 | cabo san lucas\n",
      "The city, solovetskiy, was not found. Skipping...\n",
      "Processing Record 345 of Set 1 | aklavik\n",
      "Processing Record 346 of Set 1 | mubi\n",
      "Processing Record 347 of Set 1 | mahibadhoo\n",
      "Processing Record 348 of Set 1 | caucaia\n",
      "Processing Record 349 of Set 1 | salalah\n",
      "Processing Record 350 of Set 1 | marchena\n",
      "Processing Record 351 of Set 1 | bolitoc\n",
      "Processing Record 352 of Set 1 | puerto baquerizo moreno\n",
      "Processing Record 353 of Set 1 | laramie\n",
      "Processing Record 354 of Set 1 | oparino\n",
      "Processing Record 355 of Set 1 | ambon\n",
      "Processing Record 356 of Set 1 | penzance\n",
      "Processing Record 357 of Set 1 | aasiaat\n",
      "Processing Record 358 of Set 1 | cap malheureux\n",
      "Processing Record 359 of Set 1 | sola\n",
      "The city, tabiauea, was not found. Skipping...\n",
      "Processing Record 361 of Set 1 | vrangel\n",
      "The city, nguiu, was not found. Skipping...\n",
      "Processing Record 363 of Set 1 | yerbogachen\n",
      "The city, louisbourg, was not found. Skipping...\n",
      "Processing Record 365 of Set 1 | benjamin constant\n",
      "Processing Record 366 of Set 1 | sabha\n",
      "Processing Record 367 of Set 1 | kurilsk\n",
      "Processing Record 368 of Set 1 | lima\n",
      "Processing Record 369 of Set 1 | malibu\n",
      "Processing Record 370 of Set 1 | leiva\n",
      "Processing Record 371 of Set 1 | rorvik\n",
      "Processing Record 372 of Set 1 | esna\n",
      "Processing Record 373 of Set 1 | sao felix do xingu\n",
      "Processing Record 374 of Set 1 | faya\n",
      "The city, karaul, was not found. Skipping...\n",
      "The city, sorvag, was not found. Skipping...\n",
      "Processing Record 377 of Set 1 | luena\n",
      "Processing Record 378 of Set 1 | minab\n",
      "Processing Record 379 of Set 1 | sitka\n",
      "Processing Record 380 of Set 1 | yei\n",
      "Processing Record 381 of Set 1 | thinadhoo\n",
      "Processing Record 382 of Set 1 | eyl\n",
      "The city, saleaula, was not found. Skipping...\n",
      "Processing Record 384 of Set 1 | maltahohe\n",
      "Processing Record 385 of Set 1 | cayenne\n"
     ]
    },
    {
     "name": "stdout",
     "output_type": "stream",
     "text": [
      "Processing Record 386 of Set 1 | acapulco\n",
      "Processing Record 387 of Set 1 | teya\n",
      "Processing Record 388 of Set 1 | lorengau\n",
      "Processing Record 389 of Set 1 | saint-donat-de-montcalm\n",
      "Processing Record 390 of Set 1 | sar-e pul\n",
      "Processing Record 391 of Set 1 | shambu\n",
      "Processing Record 392 of Set 1 | hay river\n",
      "Processing Record 393 of Set 1 | luncarty\n",
      "Processing Record 394 of Set 1 | deputatskiy\n",
      "Processing Record 395 of Set 1 | loukhi\n",
      "The city, labutta, was not found. Skipping...\n",
      "The city, samusu, was not found. Skipping...\n",
      "Processing Record 398 of Set 1 | tornio\n",
      "Processing Record 399 of Set 1 | chute-aux-outardes\n",
      "Processing Record 400 of Set 1 | okato\n",
      "Processing Record 401 of Set 1 | gamba\n",
      "Processing Record 402 of Set 1 | isiro\n",
      "Processing Record 403 of Set 1 | fairlie\n",
      "Processing Record 404 of Set 1 | grimshaw\n",
      "Processing Record 405 of Set 1 | manado\n",
      "Processing Record 406 of Set 1 | nome\n",
      "Processing Record 407 of Set 1 | rocha\n",
      "Processing Record 408 of Set 1 | puerto leguizamo\n",
      "Processing Record 409 of Set 1 | tamandare\n",
      "Processing Record 410 of Set 1 | belmonte\n",
      "Processing Record 411 of Set 1 | waipawa\n",
      "Processing Record 412 of Set 1 | walvis bay\n",
      "Processing Record 413 of Set 1 | guamuchil\n",
      "Processing Record 414 of Set 1 | mananjary\n",
      "Processing Record 415 of Set 1 | san jeronimo\n",
      "Processing Record 416 of Set 1 | kigoma\n",
      "Processing Record 417 of Set 1 | lagoa\n",
      "Processing Record 418 of Set 1 | abonnema\n",
      "Processing Record 419 of Set 1 | leirvik\n",
      "Processing Record 420 of Set 1 | vestmannaeyjar\n",
      "Processing Record 421 of Set 1 | krasnoselkup\n",
      "Processing Record 422 of Set 1 | solwezi\n",
      "Processing Record 423 of Set 1 | bilibino\n",
      "Processing Record 424 of Set 1 | along\n",
      "Processing Record 425 of Set 1 | albert\n",
      "Processing Record 426 of Set 1 | bestobe\n",
      "Processing Record 427 of Set 1 | ondangwa\n",
      "Processing Record 428 of Set 1 | choix\n",
      "Processing Record 429 of Set 1 | kavala\n",
      "Processing Record 430 of Set 1 | xiaoweizhai\n",
      "Processing Record 431 of Set 1 | port moresby\n",
      "Processing Record 432 of Set 1 | neftcala\n",
      "Processing Record 433 of Set 1 | belaya gora\n",
      "Processing Record 434 of Set 1 | mbandaka\n",
      "Processing Record 435 of Set 1 | road town\n",
      "Processing Record 436 of Set 1 | atar\n",
      "Processing Record 437 of Set 1 | mount gambier\n",
      "Processing Record 438 of Set 1 | machinga\n",
      "Processing Record 439 of Set 1 | perisoru\n",
      "Processing Record 440 of Set 1 | muravlenko\n",
      "Processing Record 441 of Set 1 | mayo\n",
      "Processing Record 442 of Set 1 | krasnovishersk\n",
      "Processing Record 443 of Set 1 | totness\n",
      "The city, halalo, was not found. Skipping...\n",
      "Processing Record 445 of Set 1 | nhulunbuy\n",
      "Processing Record 446 of Set 1 | santa maria\n",
      "Processing Record 447 of Set 1 | salta\n",
      "Processing Record 448 of Set 1 | buzuluk\n",
      "Processing Record 449 of Set 1 | harrai\n",
      "Processing Record 450 of Set 1 | mehamn\n",
      "Processing Record 451 of Set 1 | aleksin\n",
      "Processing Record 452 of Set 1 | hualmay\n",
      "Processing Record 453 of Set 1 | lerik\n",
      "The city, tsihombe, was not found. Skipping...\n",
      "Processing Record 455 of Set 1 | necochea\n",
      "Processing Record 456 of Set 1 | lunglei\n",
      "Processing Record 457 of Set 1 | ypsonas\n",
      "Processing Record 458 of Set 1 | kortkeros\n",
      "Processing Record 459 of Set 1 | kungurtug\n",
      "Processing Record 460 of Set 1 | tchibanga\n",
      "Processing Record 461 of Set 1 | poum\n",
      "Processing Record 462 of Set 1 | puerto el triunfo\n",
      "Processing Record 463 of Set 1 | richards bay\n",
      "Processing Record 464 of Set 1 | rafaela\n",
      "Processing Record 465 of Set 1 | erenhot\n",
      "Processing Record 466 of Set 1 | naberera\n",
      "Processing Record 467 of Set 1 | debre tabor\n",
      "Processing Record 468 of Set 1 | tuxtla gutierrez\n",
      "Processing Record 469 of Set 1 | port-gentil\n",
      "Processing Record 470 of Set 1 | leningradskiy\n",
      "Processing Record 471 of Set 1 | port keats\n",
      "Processing Record 472 of Set 1 | udachnyy\n",
      "Processing Record 473 of Set 1 | pavlikeni\n",
      "Processing Record 474 of Set 1 | rafsanjan\n",
      "Processing Record 475 of Set 1 | sao joao da barra\n",
      "Processing Record 476 of Set 1 | komsomolskiy\n",
      "Processing Record 477 of Set 1 | pochutla\n",
      "Processing Record 478 of Set 1 | tiarei\n",
      "Processing Record 479 of Set 1 | quelimane\n",
      "Processing Record 480 of Set 1 | dalby\n",
      "Processing Record 481 of Set 1 | zemio\n",
      "Processing Record 482 of Set 1 | isangel\n",
      "Processing Record 483 of Set 1 | kautokeino\n",
      "Processing Record 484 of Set 1 | wladyslawowo\n",
      "Processing Record 485 of Set 1 | tete\n",
      "Processing Record 486 of Set 1 | huaiyin\n",
      "Processing Record 487 of Set 1 | saryg-sep\n",
      "Processing Record 488 of Set 1 | salmas\n",
      "Processing Record 489 of Set 1 | tawau\n",
      "Processing Record 490 of Set 1 | tazmalt\n",
      "Processing Record 491 of Set 1 | tolmezzo\n",
      "Processing Record 492 of Set 1 | azangaro\n",
      "Processing Record 493 of Set 1 | codrington\n",
      "Processing Record 494 of Set 1 | makaha\n",
      "Processing Record 495 of Set 1 | kenai\n",
      "Processing Record 496 of Set 1 | fort saint james\n",
      "Processing Record 497 of Set 1 | yakeshi\n",
      "Processing Record 498 of Set 1 | wangaratta\n",
      "Processing Record 499 of Set 1 | healdsburg\n",
      "Processing Record 500 of Set 1 | bosaso\n",
      "Processing Record 501 of Set 1 | mandera\n",
      "Processing Record 502 of Set 1 | eckernforde\n",
      "Processing Record 503 of Set 1 | severodvinsk\n",
      "Processing Record 504 of Set 1 | korla\n",
      "Processing Record 505 of Set 1 | buraydah\n",
      "Processing Record 506 of Set 1 | ucluelet\n",
      "Processing Record 507 of Set 1 | karratha\n",
      "Processing Record 508 of Set 1 | lac du bonnet\n",
      "Processing Record 509 of Set 1 | evensk\n",
      "Processing Record 510 of Set 1 | fenoarivo\n",
      "Processing Record 511 of Set 1 | trinidad\n",
      "Processing Record 512 of Set 1 | worland\n",
      "Processing Record 513 of Set 1 | plettenberg bay\n",
      "Processing Record 514 of Set 1 | ust-tsilma\n",
      "Processing Record 515 of Set 1 | najran\n",
      "Processing Record 516 of Set 1 | porto walter\n",
      "The city, wulanhaote, was not found. Skipping...\n",
      "Processing Record 518 of Set 1 | seoul\n",
      "Processing Record 519 of Set 1 | tagusao\n",
      "Processing Record 520 of Set 1 | kenitra\n",
      "Processing Record 521 of Set 1 | arman\n",
      "Processing Record 522 of Set 1 | luderitz\n",
      "Processing Record 523 of Set 1 | koulikoro\n",
      "Processing Record 524 of Set 1 | manyana\n",
      "Processing Record 525 of Set 1 | novopokrovka\n",
      "Processing Record 526 of Set 1 | kirkkonummi\n",
      "Processing Record 527 of Set 1 | ostersund\n",
      "Processing Record 528 of Set 1 | nouadhibou\n",
      "Processing Record 529 of Set 1 | talnakh\n",
      "Processing Record 530 of Set 1 | birjand\n",
      "Processing Record 531 of Set 1 | manggar\n",
      "Processing Record 532 of Set 1 | nykoping\n",
      "Processing Record 533 of Set 1 | nantucket\n",
      "Processing Record 534 of Set 1 | san matias\n",
      "Processing Record 535 of Set 1 | kidal\n",
      "Processing Record 536 of Set 1 | norton\n",
      "Processing Record 537 of Set 1 | kizema\n",
      "Processing Record 538 of Set 1 | priiskovyy\n",
      "The city, hunza, was not found. Skipping...\n",
      "Processing Record 540 of Set 1 | aksum\n",
      "Processing Record 541 of Set 1 | marolambo\n",
      "Processing Record 542 of Set 1 | souillac\n",
      "Processing Record 543 of Set 1 | north platte\n",
      "Processing Record 544 of Set 1 | sterling\n",
      "Processing Record 545 of Set 1 | odweyne\n",
      "Processing Record 546 of Set 1 | bac lieu\n",
      "Processing Record 547 of Set 1 | rio grande\n",
      "Processing Record 548 of Set 1 | revda\n",
      "Processing Record 549 of Set 1 | abu samrah\n",
      "Processing Record 550 of Set 1 | dokka\n",
      "Processing Record 551 of Set 1 | hot springs\n",
      "The city, ruatoria, was not found. Skipping...\n",
      "Processing Record 553 of Set 1 | owen sound\n",
      "The city, duz, was not found. Skipping...\n",
      "Processing Record 555 of Set 1 | jamame\n",
      "Processing Record 556 of Set 1 | springville\n",
      "Processing Record 557 of Set 1 | haines junction\n",
      "The city, tapaua, was not found. Skipping...\n",
      "Processing Record 559 of Set 1 | palekh\n",
      "Processing Record 560 of Set 1 | taoudenni\n",
      "Processing Record 561 of Set 1 | raudeberg\n",
      "Processing Record 562 of Set 1 | durusu\n",
      "Processing Record 563 of Set 1 | kollam\n",
      "Processing Record 564 of Set 1 | santa margherita ligure\n",
      "Processing Record 565 of Set 1 | mataram\n",
      "Processing Record 566 of Set 1 | sakakah\n",
      "Processing Record 567 of Set 1 | manono\n",
      "Processing Record 568 of Set 1 | husum\n",
      "Processing Record 569 of Set 1 | padang\n",
      "Processing Record 570 of Set 1 | itoman\n",
      "Processing Record 571 of Set 1 | muros\n",
      "Processing Record 572 of Set 1 | isabela\n",
      "Processing Record 573 of Set 1 | namatanai\n",
      "Processing Record 574 of Set 1 | mayen\n",
      "Processing Record 575 of Set 1 | marzuq\n",
      "Processing Record 576 of Set 1 | aksarka\n",
      "Processing Record 577 of Set 1 | xinyang\n",
      "Processing Record 578 of Set 1 | annan\n"
     ]
    },
    {
     "name": "stdout",
     "output_type": "stream",
     "text": [
      "Processing Record 579 of Set 1 | male\n",
      "Processing Record 580 of Set 1 | ilebo\n",
      "Processing Record 581 of Set 1 | great falls\n",
      "Processing Record 582 of Set 1 | san policarpo\n",
      "Processing Record 583 of Set 1 | puerto del rosario\n",
      "Processing Record 584 of Set 1 | xining\n",
      "Processing Record 585 of Set 1 | hengshui\n",
      "Processing Record 586 of Set 1 | svalyava\n",
      "The city, alotau, was not found. Skipping...\n",
      "Processing Record 588 of Set 1 | kantang\n",
      "Processing Record 589 of Set 1 | chipata\n",
      "Processing Record 590 of Set 1 | ayan\n",
      "Processing Record 591 of Set 1 | coari\n",
      "Processing Record 592 of Set 1 | yar-sale\n",
      "Processing Record 593 of Set 1 | tamboril\n",
      "Processing Record 594 of Set 1 | paamiut\n",
      "Processing Record 595 of Set 1 | oranjestad\n",
      "Processing Record 596 of Set 1 | katsuura\n",
      "Processing Record 597 of Set 1 | kondinskoye\n",
      "The city, palabuhanratu, was not found. Skipping...\n",
      "Processing Record 599 of Set 1 | los llanos de aridane\n",
      "Processing Record 600 of Set 1 | mae sai\n",
      "The city, galiwinku, was not found. Skipping...\n",
      "Processing Record 602 of Set 1 | beringovskiy\n",
      "Processing Record 603 of Set 1 | mahanoro\n",
      "Processing Record 604 of Set 1 | hangu\n",
      "Processing Record 605 of Set 1 | altay\n",
      "Processing Record 606 of Set 1 | fernley\n",
      "Processing Record 607 of Set 1 | bilma\n",
      "Processing Record 608 of Set 1 | tambacounda\n",
      "Processing Record 609 of Set 1 | paracuru\n",
      "Processing Record 610 of Set 1 | hofn\n",
      "Processing Record 611 of Set 1 | long branch\n",
      "Processing Record 612 of Set 1 | meadow lake\n",
      "Processing Record 613 of Set 1 | aktash\n",
      "Processing Record 614 of Set 1 | fayaoue\n",
      "Processing Record 615 of Set 1 | stokmarknes\n",
      "Processing Record 616 of Set 1 | altea\n",
      "Processing Record 617 of Set 1 | gat\n",
      "The city, jiddah, was not found. Skipping...\n",
      "Processing Record 619 of Set 1 | brae\n",
      "Processing Record 620 of Set 1 | alta floresta\n",
      "Processing Record 621 of Set 1 | hovd\n",
      "Processing Record 622 of Set 1 | santa rosa\n",
      "Processing Record 623 of Set 1 | ravar\n",
      "Processing Record 624 of Set 1 | fortuna\n",
      "Processing Record 625 of Set 1 | turukhansk\n",
      "Processing Record 626 of Set 1 | montague\n",
      "Processing Record 627 of Set 1 | bereznik\n",
      "Processing Record 628 of Set 1 | nizhniy kuranakh\n",
      "Processing Record 629 of Set 1 | kenora\n",
      "Processing Record 630 of Set 1 | zhumadian\n"
     ]
    }
   ],
   "source": [
    "#empty lists to store info\n",
    "usedLats=[]\n",
    "usedLngs=[]\n",
    "maxTemp=[]\n",
    "humidity=[]\n",
    "cloudiness=[]\n",
    "windSpeed=[]\n",
    "country=[]\n",
    "date=[]\n",
    "usedCities=[]\n",
    "\n",
    "# Set up API call information\n",
    "url = \"http://api.openweathermap.org/data/2.5/weather?\"\n",
    "units = \"imperial\"\n",
    "query_url = f\"{url}appid={weather_api_key}&units={units}&q=\"\n",
    "\n",
    "\n",
    "print(\"Beginning Data Retrieval\")\n",
    "print(\"-------------------------------\")\n",
    "\n",
    "#iterate through each city\n",
    "for city in cities:\n",
    "    \n",
    "    #send the request\n",
    "    response = requests.get(query_url + city).json()\n",
    "    \n",
    "    #track record number\n",
    "    recordNum=cities.index(city)+1  \n",
    "    \n",
    "    try: \n",
    "        #append info to corresponding list above\n",
    "        usedLats.append(response['coord']['lat'])\n",
    "        usedLngs.append(response['coord']['lon'])\n",
    "        maxTemp.append(response['main']['temp_max'])     \n",
    "        humidity.append(response['main']['humidity'])\n",
    "        cloudiness.append(response['clouds']['all'])\n",
    "        windSpeed.append(response['wind']['speed'])\n",
    "        country.append(response['sys']['country'])\n",
    "        date.append(response['dt'])\n",
    "        usedCities.append(city)\n",
    "        \n",
    "        #print to make it known it was successful\n",
    "        print(f\"Processing Record {recordNum} of Set 1 | {city}\")\n",
    "        \n",
    "    except:\n",
    "        #if unable to retrieve some info, show skipping message\n",
    "        print(f\"The city, {city}, was not found. Skipping...\")    \n",
    "        \n"
   ]
  },
  {
   "cell_type": "markdown",
   "metadata": {},
   "source": [
    "### Convert Raw Data to DataFrame\n",
    "* Export the city data into a .csv\n",
    "* Display the DataFrame"
   ]
  },
  {
   "cell_type": "code",
   "execution_count": 4,
   "metadata": {},
   "outputs": [
    {
     "data": {
      "text/html": [
       "<div>\n",
       "<style scoped>\n",
       "    .dataframe tbody tr th:only-of-type {\n",
       "        vertical-align: middle;\n",
       "    }\n",
       "\n",
       "    .dataframe tbody tr th {\n",
       "        vertical-align: top;\n",
       "    }\n",
       "\n",
       "    .dataframe thead th {\n",
       "        text-align: right;\n",
       "    }\n",
       "</style>\n",
       "<table border=\"1\" class=\"dataframe\">\n",
       "  <thead>\n",
       "    <tr style=\"text-align: right;\">\n",
       "      <th></th>\n",
       "      <th>City</th>\n",
       "      <th>Lat</th>\n",
       "      <th>Lng</th>\n",
       "      <th>Max Temp</th>\n",
       "      <th>Humidity</th>\n",
       "      <th>Cloudiness</th>\n",
       "      <th>Wind Speed</th>\n",
       "      <th>Country</th>\n",
       "      <th>Date</th>\n",
       "    </tr>\n",
       "  </thead>\n",
       "  <tbody>\n",
       "    <tr>\n",
       "      <th>0</th>\n",
       "      <td>rikitea</td>\n",
       "      <td>-23.1203</td>\n",
       "      <td>-134.9692</td>\n",
       "      <td>71.01</td>\n",
       "      <td>67</td>\n",
       "      <td>19</td>\n",
       "      <td>4.70</td>\n",
       "      <td>PF</td>\n",
       "      <td>1627250911</td>\n",
       "    </tr>\n",
       "    <tr>\n",
       "      <th>1</th>\n",
       "      <td>saint anthony</td>\n",
       "      <td>45.0205</td>\n",
       "      <td>-93.2180</td>\n",
       "      <td>94.14</td>\n",
       "      <td>24</td>\n",
       "      <td>1</td>\n",
       "      <td>11.50</td>\n",
       "      <td>US</td>\n",
       "      <td>1627250912</td>\n",
       "    </tr>\n",
       "    <tr>\n",
       "      <th>2</th>\n",
       "      <td>acarau</td>\n",
       "      <td>-2.8856</td>\n",
       "      <td>-40.1200</td>\n",
       "      <td>78.55</td>\n",
       "      <td>75</td>\n",
       "      <td>15</td>\n",
       "      <td>15.55</td>\n",
       "      <td>BR</td>\n",
       "      <td>1627250912</td>\n",
       "    </tr>\n",
       "    <tr>\n",
       "      <th>3</th>\n",
       "      <td>norman wells</td>\n",
       "      <td>65.2820</td>\n",
       "      <td>-126.8329</td>\n",
       "      <td>68.31</td>\n",
       "      <td>57</td>\n",
       "      <td>87</td>\n",
       "      <td>15.39</td>\n",
       "      <td>CA</td>\n",
       "      <td>1627250913</td>\n",
       "    </tr>\n",
       "    <tr>\n",
       "      <th>4</th>\n",
       "      <td>husavik</td>\n",
       "      <td>66.0449</td>\n",
       "      <td>-17.3389</td>\n",
       "      <td>56.23</td>\n",
       "      <td>63</td>\n",
       "      <td>92</td>\n",
       "      <td>14.85</td>\n",
       "      <td>IS</td>\n",
       "      <td>1627250913</td>\n",
       "    </tr>\n",
       "  </tbody>\n",
       "</table>\n",
       "</div>"
      ],
      "text/plain": [
       "            City      Lat       Lng  Max Temp  Humidity  Cloudiness  \\\n",
       "0        rikitea -23.1203 -134.9692     71.01        67          19   \n",
       "1  saint anthony  45.0205  -93.2180     94.14        24           1   \n",
       "2         acarau  -2.8856  -40.1200     78.55        75          15   \n",
       "3   norman wells  65.2820 -126.8329     68.31        57          87   \n",
       "4        husavik  66.0449  -17.3389     56.23        63          92   \n",
       "\n",
       "   Wind Speed Country        Date  \n",
       "0        4.70      PF  1627250911  \n",
       "1       11.50      US  1627250912  \n",
       "2       15.55      BR  1627250912  \n",
       "3       15.39      CA  1627250913  \n",
       "4       14.85      IS  1627250913  "
      ]
     },
     "execution_count": 4,
     "metadata": {},
     "output_type": "execute_result"
    }
   ],
   "source": [
    "#create data frame\n",
    "weatherPy=pd.DataFrame({\"City\":usedCities,\"Lat\":usedLats,\"Lng\":usedLngs,\"Max Temp\":maxTemp,\"Humidity\":humidity,\"Cloudiness\":cloudiness,\"Wind Speed\":windSpeed,\"Country\":country,\"Date\":date})\n",
    "\n",
    "#export to a CSV file\n",
    "weatherPy.to_csv(\"Weather_Data.csv\", encoding=\"utf-8\", index=False)\n",
    "\n",
    "#display first 5 in data frame\n",
    "weatherPy.head()"
   ]
  },
  {
   "cell_type": "code",
   "execution_count": 5,
   "metadata": {},
   "outputs": [
    {
     "data": {
      "text/html": [
       "<div>\n",
       "<style scoped>\n",
       "    .dataframe tbody tr th:only-of-type {\n",
       "        vertical-align: middle;\n",
       "    }\n",
       "\n",
       "    .dataframe tbody tr th {\n",
       "        vertical-align: top;\n",
       "    }\n",
       "\n",
       "    .dataframe thead th {\n",
       "        text-align: right;\n",
       "    }\n",
       "</style>\n",
       "<table border=\"1\" class=\"dataframe\">\n",
       "  <thead>\n",
       "    <tr style=\"text-align: right;\">\n",
       "      <th></th>\n",
       "      <th>Lat</th>\n",
       "      <th>Lng</th>\n",
       "      <th>Max Temp</th>\n",
       "      <th>Humidity</th>\n",
       "      <th>Cloudiness</th>\n",
       "      <th>Wind Speed</th>\n",
       "      <th>Date</th>\n",
       "    </tr>\n",
       "  </thead>\n",
       "  <tbody>\n",
       "    <tr>\n",
       "      <th>count</th>\n",
       "      <td>585.000000</td>\n",
       "      <td>585.000000</td>\n",
       "      <td>585.000000</td>\n",
       "      <td>585.000000</td>\n",
       "      <td>585.000000</td>\n",
       "      <td>585.000000</td>\n",
       "      <td>5.850000e+02</td>\n",
       "    </tr>\n",
       "    <tr>\n",
       "      <th>mean</th>\n",
       "      <td>20.217172</td>\n",
       "      <td>15.351052</td>\n",
       "      <td>68.829744</td>\n",
       "      <td>70.769231</td>\n",
       "      <td>52.652991</td>\n",
       "      <td>7.469350</td>\n",
       "      <td>1.627251e+09</td>\n",
       "    </tr>\n",
       "    <tr>\n",
       "      <th>std</th>\n",
       "      <td>33.361532</td>\n",
       "      <td>88.536293</td>\n",
       "      <td>14.627613</td>\n",
       "      <td>20.980415</td>\n",
       "      <td>38.650005</td>\n",
       "      <td>5.163659</td>\n",
       "      <td>9.698049e+01</td>\n",
       "    </tr>\n",
       "    <tr>\n",
       "      <th>min</th>\n",
       "      <td>-54.800000</td>\n",
       "      <td>-179.166700</td>\n",
       "      <td>33.460000</td>\n",
       "      <td>5.000000</td>\n",
       "      <td>0.000000</td>\n",
       "      <td>0.000000</td>\n",
       "      <td>1.627250e+09</td>\n",
       "    </tr>\n",
       "    <tr>\n",
       "      <th>25%</th>\n",
       "      <td>-7.381700</td>\n",
       "      <td>-63.141400</td>\n",
       "      <td>56.300000</td>\n",
       "      <td>60.000000</td>\n",
       "      <td>12.000000</td>\n",
       "      <td>3.580000</td>\n",
       "      <td>1.627251e+09</td>\n",
       "    </tr>\n",
       "    <tr>\n",
       "      <th>50%</th>\n",
       "      <td>22.678300</td>\n",
       "      <td>23.041200</td>\n",
       "      <td>70.050000</td>\n",
       "      <td>76.000000</td>\n",
       "      <td>56.000000</td>\n",
       "      <td>6.110000</td>\n",
       "      <td>1.627251e+09</td>\n",
       "    </tr>\n",
       "    <tr>\n",
       "      <th>75%</th>\n",
       "      <td>49.116800</td>\n",
       "      <td>88.397200</td>\n",
       "      <td>80.060000</td>\n",
       "      <td>87.000000</td>\n",
       "      <td>90.000000</td>\n",
       "      <td>10.360000</td>\n",
       "      <td>1.627251e+09</td>\n",
       "    </tr>\n",
       "    <tr>\n",
       "      <th>max</th>\n",
       "      <td>78.218600</td>\n",
       "      <td>179.316700</td>\n",
       "      <td>108.010000</td>\n",
       "      <td>100.000000</td>\n",
       "      <td>100.000000</td>\n",
       "      <td>27.850000</td>\n",
       "      <td>1.627251e+09</td>\n",
       "    </tr>\n",
       "  </tbody>\n",
       "</table>\n",
       "</div>"
      ],
      "text/plain": [
       "              Lat         Lng    Max Temp    Humidity  Cloudiness  Wind Speed  \\\n",
       "count  585.000000  585.000000  585.000000  585.000000  585.000000  585.000000   \n",
       "mean    20.217172   15.351052   68.829744   70.769231   52.652991    7.469350   \n",
       "std     33.361532   88.536293   14.627613   20.980415   38.650005    5.163659   \n",
       "min    -54.800000 -179.166700   33.460000    5.000000    0.000000    0.000000   \n",
       "25%     -7.381700  -63.141400   56.300000   60.000000   12.000000    3.580000   \n",
       "50%     22.678300   23.041200   70.050000   76.000000   56.000000    6.110000   \n",
       "75%     49.116800   88.397200   80.060000   87.000000   90.000000   10.360000   \n",
       "max     78.218600  179.316700  108.010000  100.000000  100.000000   27.850000   \n",
       "\n",
       "               Date  \n",
       "count  5.850000e+02  \n",
       "mean   1.627251e+09  \n",
       "std    9.698049e+01  \n",
       "min    1.627250e+09  \n",
       "25%    1.627251e+09  \n",
       "50%    1.627251e+09  \n",
       "75%    1.627251e+09  \n",
       "max    1.627251e+09  "
      ]
     },
     "execution_count": 5,
     "metadata": {},
     "output_type": "execute_result"
    }
   ],
   "source": [
    "#show all stats available for data frame\n",
    "weatherPy.describe()"
   ]
  },
  {
   "cell_type": "markdown",
   "metadata": {},
   "source": [
    "## Inspect the data and remove the cities where the humidity > 100%.\n",
    "----\n"
   ]
  },
  {
   "cell_type": "code",
   "execution_count": 6,
   "metadata": {},
   "outputs": [
    {
     "data": {
      "text/html": [
       "<div>\n",
       "<style scoped>\n",
       "    .dataframe tbody tr th:only-of-type {\n",
       "        vertical-align: middle;\n",
       "    }\n",
       "\n",
       "    .dataframe tbody tr th {\n",
       "        vertical-align: top;\n",
       "    }\n",
       "\n",
       "    .dataframe thead th {\n",
       "        text-align: right;\n",
       "    }\n",
       "</style>\n",
       "<table border=\"1\" class=\"dataframe\">\n",
       "  <thead>\n",
       "    <tr style=\"text-align: right;\">\n",
       "      <th></th>\n",
       "      <th>index</th>\n",
       "      <th>City</th>\n",
       "      <th>Lat</th>\n",
       "      <th>Lng</th>\n",
       "      <th>Max Temp</th>\n",
       "      <th>Humidity</th>\n",
       "      <th>Cloudiness</th>\n",
       "      <th>Wind Speed</th>\n",
       "      <th>Country</th>\n",
       "      <th>Date</th>\n",
       "    </tr>\n",
       "  </thead>\n",
       "  <tbody>\n",
       "    <tr>\n",
       "      <th>0</th>\n",
       "      <td>192</td>\n",
       "      <td>maceio</td>\n",
       "      <td>-9.6658</td>\n",
       "      <td>-35.7353</td>\n",
       "      <td>72.84</td>\n",
       "      <td>100</td>\n",
       "      <td>75</td>\n",
       "      <td>4.61</td>\n",
       "      <td>BR</td>\n",
       "      <td>1627250939</td>\n",
       "    </tr>\n",
       "    <tr>\n",
       "      <th>1</th>\n",
       "      <td>30</td>\n",
       "      <td>clyde river</td>\n",
       "      <td>70.4692</td>\n",
       "      <td>-68.5914</td>\n",
       "      <td>35.83</td>\n",
       "      <td>100</td>\n",
       "      <td>90</td>\n",
       "      <td>5.75</td>\n",
       "      <td>CA</td>\n",
       "      <td>1627250925</td>\n",
       "    </tr>\n",
       "    <tr>\n",
       "      <th>2</th>\n",
       "      <td>364</td>\n",
       "      <td>chute-aux-outardes</td>\n",
       "      <td>49.1168</td>\n",
       "      <td>-68.3990</td>\n",
       "      <td>66.51</td>\n",
       "      <td>100</td>\n",
       "      <td>90</td>\n",
       "      <td>8.05</td>\n",
       "      <td>CA</td>\n",
       "      <td>1627251080</td>\n",
       "    </tr>\n",
       "    <tr>\n",
       "      <th>3</th>\n",
       "      <td>550</td>\n",
       "      <td>tamboril</td>\n",
       "      <td>19.4854</td>\n",
       "      <td>-70.6110</td>\n",
       "      <td>82.89</td>\n",
       "      <td>100</td>\n",
       "      <td>75</td>\n",
       "      <td>9.22</td>\n",
       "      <td>DO</td>\n",
       "      <td>1627251167</td>\n",
       "    </tr>\n",
       "    <tr>\n",
       "      <th>4</th>\n",
       "      <td>556</td>\n",
       "      <td>mae sai</td>\n",
       "      <td>20.4335</td>\n",
       "      <td>99.8762</td>\n",
       "      <td>74.44</td>\n",
       "      <td>100</td>\n",
       "      <td>100</td>\n",
       "      <td>0.69</td>\n",
       "      <td>TH</td>\n",
       "      <td>1627251014</td>\n",
       "    </tr>\n",
       "  </tbody>\n",
       "</table>\n",
       "</div>"
      ],
      "text/plain": [
       "   index                City      Lat      Lng  Max Temp  Humidity  \\\n",
       "0    192              maceio  -9.6658 -35.7353     72.84       100   \n",
       "1     30         clyde river  70.4692 -68.5914     35.83       100   \n",
       "2    364  chute-aux-outardes  49.1168 -68.3990     66.51       100   \n",
       "3    550            tamboril  19.4854 -70.6110     82.89       100   \n",
       "4    556             mae sai  20.4335  99.8762     74.44       100   \n",
       "\n",
       "   Cloudiness  Wind Speed Country        Date  \n",
       "0          75        4.61      BR  1627250939  \n",
       "1          90        5.75      CA  1627250925  \n",
       "2          90        8.05      CA  1627251080  \n",
       "3          75        9.22      DO  1627251167  \n",
       "4         100        0.69      TH  1627251014  "
      ]
     },
     "execution_count": 6,
     "metadata": {},
     "output_type": "execute_result"
    }
   ],
   "source": [
    "#upload from the CSV file\n",
    "weatherPyCSV=pd.read_csv('Weather_Data.csv')\n",
    "\n",
    "#sort value by humidity %\n",
    "weatherPyCSV=weatherPyCSV.sort_values(\"Humidity\", ascending=False).reset_index()\n",
    "weatherPyCSV.head()"
   ]
  },
  {
   "cell_type": "code",
   "execution_count": 7,
   "metadata": {},
   "outputs": [],
   "source": [
    "#  Get the indices of cities that have humidity over 100%.\n",
    "HumidityIndices=weatherPyCSV['City'].where(weatherPyCSV['Humidity'] > 100).to_frame(name='Humidity > 100')\n",
    "\n",
    "indexList=HumidityIndices.index[HumidityIndices['Humidity > 100'].notnull()].tolist()\n"
   ]
  },
  {
   "cell_type": "code",
   "execution_count": 8,
   "metadata": {},
   "outputs": [
    {
     "name": "stdout",
     "output_type": "stream",
     "text": [
      "There are no columns to drop\n"
     ]
    }
   ],
   "source": [
    "# Make a new DataFrame equal to the city data to drop all humidity outliers by index.\n",
    "# Passing \"inplace=False\" will make a copy of the city_data DataFrame, which we call \"clean_city_data\".\n",
    "if len(indexList)!=0:\n",
    "    print(f\"There are columns to drop: {indexList}\")\n",
    "    for x in indexList:\n",
    "        cleanWeatherPy=WeatherPyCSV.drop(indexList , inplace=False)\n",
    "else:\n",
    "    print(\"There are no columns to drop\")"
   ]
  },
  {
   "cell_type": "code",
   "execution_count": 9,
   "metadata": {},
   "outputs": [
    {
     "data": {
      "text/html": [
       "<div>\n",
       "<style scoped>\n",
       "    .dataframe tbody tr th:only-of-type {\n",
       "        vertical-align: middle;\n",
       "    }\n",
       "\n",
       "    .dataframe tbody tr th {\n",
       "        vertical-align: top;\n",
       "    }\n",
       "\n",
       "    .dataframe thead th {\n",
       "        text-align: right;\n",
       "    }\n",
       "</style>\n",
       "<table border=\"1\" class=\"dataframe\">\n",
       "  <thead>\n",
       "    <tr style=\"text-align: right;\">\n",
       "      <th></th>\n",
       "      <th>index</th>\n",
       "      <th>City</th>\n",
       "      <th>Lat</th>\n",
       "      <th>Lng</th>\n",
       "      <th>Max Temp</th>\n",
       "      <th>Humidity</th>\n",
       "      <th>Cloudiness</th>\n",
       "      <th>Wind Speed</th>\n",
       "      <th>Country</th>\n",
       "      <th>Date</th>\n",
       "    </tr>\n",
       "  </thead>\n",
       "  <tbody>\n",
       "    <tr>\n",
       "      <th>0</th>\n",
       "      <td>192</td>\n",
       "      <td>maceio</td>\n",
       "      <td>-9.6658</td>\n",
       "      <td>-35.7353</td>\n",
       "      <td>72.84</td>\n",
       "      <td>100</td>\n",
       "      <td>75</td>\n",
       "      <td>4.61</td>\n",
       "      <td>BR</td>\n",
       "      <td>1627250939</td>\n",
       "    </tr>\n",
       "    <tr>\n",
       "      <th>1</th>\n",
       "      <td>30</td>\n",
       "      <td>clyde river</td>\n",
       "      <td>70.4692</td>\n",
       "      <td>-68.5914</td>\n",
       "      <td>35.83</td>\n",
       "      <td>100</td>\n",
       "      <td>90</td>\n",
       "      <td>5.75</td>\n",
       "      <td>CA</td>\n",
       "      <td>1627250925</td>\n",
       "    </tr>\n",
       "    <tr>\n",
       "      <th>2</th>\n",
       "      <td>364</td>\n",
       "      <td>chute-aux-outardes</td>\n",
       "      <td>49.1168</td>\n",
       "      <td>-68.3990</td>\n",
       "      <td>66.51</td>\n",
       "      <td>100</td>\n",
       "      <td>90</td>\n",
       "      <td>8.05</td>\n",
       "      <td>CA</td>\n",
       "      <td>1627251080</td>\n",
       "    </tr>\n",
       "    <tr>\n",
       "      <th>3</th>\n",
       "      <td>550</td>\n",
       "      <td>tamboril</td>\n",
       "      <td>19.4854</td>\n",
       "      <td>-70.6110</td>\n",
       "      <td>82.89</td>\n",
       "      <td>100</td>\n",
       "      <td>75</td>\n",
       "      <td>9.22</td>\n",
       "      <td>DO</td>\n",
       "      <td>1627251167</td>\n",
       "    </tr>\n",
       "    <tr>\n",
       "      <th>4</th>\n",
       "      <td>556</td>\n",
       "      <td>mae sai</td>\n",
       "      <td>20.4335</td>\n",
       "      <td>99.8762</td>\n",
       "      <td>74.44</td>\n",
       "      <td>100</td>\n",
       "      <td>100</td>\n",
       "      <td>0.69</td>\n",
       "      <td>TH</td>\n",
       "      <td>1627251014</td>\n",
       "    </tr>\n",
       "  </tbody>\n",
       "</table>\n",
       "</div>"
      ],
      "text/plain": [
       "   index                City      Lat      Lng  Max Temp  Humidity  \\\n",
       "0    192              maceio  -9.6658 -35.7353     72.84       100   \n",
       "1     30         clyde river  70.4692 -68.5914     35.83       100   \n",
       "2    364  chute-aux-outardes  49.1168 -68.3990     66.51       100   \n",
       "3    550            tamboril  19.4854 -70.6110     82.89       100   \n",
       "4    556             mae sai  20.4335  99.8762     74.44       100   \n",
       "\n",
       "   Cloudiness  Wind Speed Country        Date  \n",
       "0          75        4.61      BR  1627250939  \n",
       "1          90        5.75      CA  1627250925  \n",
       "2          90        8.05      CA  1627251080  \n",
       "3          75        9.22      DO  1627251167  \n",
       "4         100        0.69      TH  1627251014  "
      ]
     },
     "execution_count": 9,
     "metadata": {},
     "output_type": "execute_result"
    }
   ],
   "source": [
    "#display cleaned data\n",
    "weatherPyCSV.head()"
   ]
  },
  {
   "cell_type": "markdown",
   "metadata": {},
   "source": [
    "# Plotting the Data"
   ]
  },
  {
   "cell_type": "markdown",
   "metadata": {},
   "source": [
    "## Latitude vs. Temperature Plot"
   ]
  },
  {
   "cell_type": "code",
   "execution_count": 10,
   "metadata": {
    "scrolled": true
   },
   "outputs": [
    {
     "data": {
      "text/plain": [
       "<matplotlib.collections.PathCollection at 0x2adb6cf1c50>"
      ]
     },
     "execution_count": 10,
     "metadata": {},
     "output_type": "execute_result"
    },
    {
     "data": {
      "image/png": "[encoded data removed]",
      "text/plain": [
       "<Figure size 432x288 with 1 Axes>"
      ]
     },
     "metadata": {
      "needs_background": "light"
     },
     "output_type": "display_data"
    }
   ],
   "source": [
    "plt.title(\"City Latitude vs. Max Temperature (10/27/2020)\")\n",
    "plt.xlabel(\"Latitude\")\n",
    "plt.ylabel(\"Max Temperature (F)\")\n",
    "plt.scatter(weatherPyCSV[\"Lat\"], weatherPyCSV[\"Max Temp\"], marker=\"o\", facecolors=\"blue\", edgecolors=\"black\")"
   ]
  },
  {
   "cell_type": "markdown",
   "metadata": {},
   "source": [
    "#### The above scatter plot shows latitude in relation to the location's Max temperature. We can see that the northern hemisphere\n",
    "#### (to the right of 0 on the latitude line) gets colder the futher north you get. Conversely, the southern hemisphere gets\n",
    "#### colder the further south you get from the equator."
   ]
  },
  {
   "cell_type": "markdown",
   "metadata": {},
   "source": [
    "## Latitude vs. Humidity Plot"
   ]
  },
  {
   "cell_type": "code",
   "execution_count": 11,
   "metadata": {},
   "outputs": [
    {
     "data": {
      "text/plain": [
       "<matplotlib.collections.PathCollection at 0x2adb7047dd8>"
      ]
     },
     "execution_count": 11,
     "metadata": {},
     "output_type": "execute_result"
    },
    {
     "data": {
      "image/png": "[encoded data removed]",
      "text/plain": [
       "<Figure size 432x288 with 1 Axes>"
      ]
     },
     "metadata": {
      "needs_background": "light"
     },
     "output_type": "display_data"
    }
   ],
   "source": [
    "plt.title(\"City Latitude vs. Humidity (10/27/2020)\")\n",
    "plt.xlabel(\"Latitude\")\n",
    "plt.ylabel(\"Humidity (%)\")\n",
    "plt.scatter(weatherPyCSV[\"Lat\"], weatherPyCSV[\"Humidity\"], marker=\"o\", facecolors=\"blue\", edgecolors=\"black\")"
   ]
  },
  {
   "cell_type": "markdown",
   "metadata": {},
   "source": [
    "#### The above scatter plot shows latitude in relation to the location's humidity. There's little correlation, but there does seem\n",
    "#### to be many (visually more than 3/4of the data set) that have humidity higher than 50%. These locations are spread fairly evenly\n",
    "#### between the northern and southern hemispheres."
   ]
  },
  {
   "cell_type": "markdown",
   "metadata": {},
   "source": [
    "## Latitude vs. Cloudiness Plot"
   ]
  },
  {
   "cell_type": "code",
   "execution_count": 12,
   "metadata": {},
   "outputs": [
    {
     "data": {
      "text/plain": [
       "<matplotlib.collections.PathCollection at 0x2adb70b8470>"
      ]
     },
     "execution_count": 12,
     "metadata": {},
     "output_type": "execute_result"
    },
    {
     "data": {
      "image/png": "[encoded data removed]",
      "text/plain": [
       "<Figure size 432x288 with 1 Axes>"
      ]
     },
     "metadata": {
      "needs_background": "light"
     },
     "output_type": "display_data"
    }
   ],
   "source": [
    "plt.title(\"City Latitude vs. Cloudiness (10/27/2020)\")\n",
    "plt.xlabel(\"Latitude\")\n",
    "plt.ylabel(\"Cloudiness (%)\")\n",
    "plt.scatter(weatherPyCSV[\"Lat\"], weatherPyCSV[\"Cloudiness\"], marker=\"o\", facecolors=\"blue\", edgecolors=\"black\")"
   ]
  },
  {
   "cell_type": "markdown",
   "metadata": {},
   "source": [
    "#### The above scatter plot show latitude in relation to cloudiness. There seems to be absolutely no relation between a location\n",
    "#### and the amount of cloudiness it received."
   ]
  },
  {
   "cell_type": "markdown",
   "metadata": {},
   "source": [
    "## Latitude vs. Wind Speed Plot"
   ]
  },
  {
   "cell_type": "code",
   "execution_count": 13,
   "metadata": {},
   "outputs": [
    {
     "data": {
      "text/plain": [
       "<matplotlib.collections.PathCollection at 0x2adb711dba8>"
      ]
     },
     "execution_count": 13,
     "metadata": {},
     "output_type": "execute_result"
    },
    {
     "data": {
      "image/png": "[encoded data removed]",
      "text/plain": [
       "<Figure size 432x288 with 1 Axes>"
      ]
     },
     "metadata": {
      "needs_background": "light"
     },
     "output_type": "display_data"
    }
   ],
   "source": [
    "plt.title(\"City Latitude vs. Wind Speed (10/27/2020)\")\n",
    "plt.xlabel(\"Latitude\")\n",
    "plt.ylabel(\"Wind Speed (mph)\")\n",
    "plt.scatter(weatherPyCSV[\"Lat\"], weatherPyCSV[\"Wind Speed\"], marker=\"o\", facecolors=\"blue\", edgecolors=\"black\")"
   ]
  },
  {
   "cell_type": "markdown",
   "metadata": {},
   "source": [
    "#### The above scatter plot shows latitude in relation to the locations wind speed (mph). There doesn't seem to be much relation\n",
    "#### for wind speed compared to location, however, visually it seems that more than 3/4 of the locations experience wind speeds of\n",
    "#### 15mph or less."
   ]
  },
  {
   "cell_type": "markdown",
   "metadata": {},
   "source": [
    "# Linear Regression"
   ]
  },
  {
   "cell_type": "code",
   "execution_count": 14,
   "metadata": {},
   "outputs": [],
   "source": [
    "northernDF=weatherPyCSV[weatherPyCSV[\"Lat\"]>=0]\n",
    "southernDF=weatherPyCSV[weatherPyCSV[\"Lat\"]<=0]"
   ]
  },
  {
   "cell_type": "markdown",
   "metadata": {},
   "source": [
    "##  Northern Hemisphere - Max Temp vs. Latitude Linear Regression"
   ]
  },
  {
   "cell_type": "code",
   "execution_count": 15,
   "metadata": {},
   "outputs": [
    {
     "name": "stdout",
     "output_type": "stream",
     "text": [
      "The r-value is: -0.6435352640256061\n"
     ]
    },
    {
     "data": {
      "image/png": "[encoded data removed]",
      "text/plain": [
       "<Figure size 432x288 with 1 Axes>"
      ]
     },
     "metadata": {
      "needs_background": "light"
     },
     "output_type": "display_data"
    }
   ],
   "source": [
    "plt.title(\"Northern Hemisphere: City Latitude vs. Max Temp (10/27/2020)\")\n",
    "plt.xlabel(\"Latitude\")\n",
    "plt.ylabel(\"Max Temp (F)\")\n",
    "(slope, intercept, rvalue, pvalue, stderr) = linregress(northernDF[\"Lat\"], northernDF[\"Max Temp\"])\n",
    "print(f\"The r-value is: {rvalue}\")\n",
    "regress_values = northernDF[\"Lat\"] * slope + intercept\n",
    "line_eq = \"y = \" + str(round(slope,2)) + \"x + \" + str(round(intercept,2))\n",
    "plt.scatter(northernDF[\"Lat\"], northernDF[\"Max Temp\"], marker=\"o\", facecolors=\"blue\", edgecolors=\"black\")\n",
    "plt.plot(northernDF[\"Lat\"],regress_values,\"r-\")\n",
    "plt.annotate(line_eq,(10,0),fontsize=15,color=\"red\")\n",
    "plt.show()"
   ]
  },
  {
   "cell_type": "markdown",
   "metadata": {},
   "source": [
    "##  Southern Hemisphere - Max Temp vs. Latitude Linear Regression"
   ]
  },
  {
   "cell_type": "code",
   "execution_count": 16,
   "metadata": {},
   "outputs": [
    {
     "name": "stdout",
     "output_type": "stream",
     "text": [
      "The r-value is: 0.7040997595627262\n"
     ]
    },
    {
     "data": {
      "image/png": "[encoded data removed]",
      "text/plain": [
       "<Figure size 432x288 with 1 Axes>"
      ]
     },
     "metadata": {
      "needs_background": "light"
     },
     "output_type": "display_data"
    }
   ],
   "source": [
    "plt.title(\"Southern Hemisphere: City Latitude vs. Max Temp (10/27/2020)\")\n",
    "plt.xlabel(\"Latitude\")\n",
    "plt.ylabel(\"Max Temp (F)\")\n",
    "(slope, intercept, rvalue, pvalue, stderr) = linregress(southernDF[\"Lat\"], southernDF[\"Max Temp\"])\n",
    "print(f\"The r-value is: {rvalue}\")\n",
    "regress_values = southernDF[\"Lat\"] * slope + intercept\n",
    "line_eq = \"y = \" + str(round(slope,2)) + \"x + \" + str(round(intercept,2))\n",
    "plt.scatter(southernDF[\"Lat\"], southernDF[\"Max Temp\"], marker=\"o\", facecolors=\"blue\", edgecolors=\"black\")\n",
    "plt.plot(southernDF[\"Lat\"],regress_values,\"r-\")\n",
    "plt.annotate(line_eq,(-55,85),fontsize=15,color=\"red\")\n",
    "plt.show()"
   ]
  },
  {
   "cell_type": "markdown",
   "metadata": {},
   "source": [
    "#### The above two scatter plots show the norther and southern hemispheres, respectively, compared to the max temp in each location.\n",
    "#### There is a relatively strong relation for each hemisphere and it's max temps, where northern hemisphere locations get colder\n",
    "#### further north, while the southern hemisphere has colder temps further south."
   ]
  },
  {
   "cell_type": "markdown",
   "metadata": {},
   "source": [
    "##  Northern Hemisphere - Humidity (%) vs. Latitude Linear Regression"
   ]
  },
  {
   "cell_type": "code",
   "execution_count": 17,
   "metadata": {},
   "outputs": [
    {
     "name": "stdout",
     "output_type": "stream",
     "text": [
      "The r-value is: 0.0029504885477440114\n"
     ]
    },
    {
     "data": {
      "image/png": "[encoded data removed]",
      "text/plain": [
       "<Figure size 432x288 with 1 Axes>"
      ]
     },
     "metadata": {
      "needs_background": "light"
     },
     "output_type": "display_data"
    }
   ],
   "source": [
    "plt.title(\"Northern Hemisphere: City Latitude vs. Humidity (10/27/2020)\")\n",
    "plt.xlabel(\"Latitude\")\n",
    "plt.ylabel(\"Humidity (%)\")\n",
    "(slope, intercept, rvalue, pvalue, stderr) = linregress(northernDF[\"Lat\"], northernDF[\"Humidity\"])\n",
    "print(f\"The r-value is: {rvalue}\")\n",
    "regress_values = northernDF[\"Lat\"] * slope + intercept\n",
    "line_eq = \"y = \" + str(round(slope,2)) + \"x + \" + str(round(intercept,2))\n",
    "plt.scatter(northernDF[\"Lat\"], northernDF[\"Humidity\"], marker=\"o\", facecolors=\"blue\", edgecolors=\"black\")\n",
    "plt.plot(northernDF[\"Lat\"],regress_values,\"r-\")\n",
    "plt.annotate(line_eq,(45,10),fontsize=15,color=\"red\")\n",
    "plt.show()"
   ]
  },
  {
   "cell_type": "markdown",
   "metadata": {},
   "source": [
    "##  Southern Hemisphere - Humidity (%) vs. Latitude Linear Regression"
   ]
  },
  {
   "cell_type": "code",
   "execution_count": 18,
   "metadata": {},
   "outputs": [
    {
     "name": "stdout",
     "output_type": "stream",
     "text": [
      "The r-value is: -0.02965314919222938\n"
     ]
    },
    {
     "data": {
      "image/png": "[encoded data removed]",
      "text/plain": [
       "<Figure size 432x288 with 1 Axes>"
      ]
     },
     "metadata": {
      "needs_background": "light"
     },
     "output_type": "display_data"
    }
   ],
   "source": [
    "plt.title(\"Southern Hemisphere: City Latitude vs. Humidity (10/27/2020)\")\n",
    "plt.xlabel(\"Latitude\")\n",
    "plt.ylabel(\"Humidity (%)\")\n",
    "(slope, intercept, rvalue, pvalue, stderr) = linregress(southernDF[\"Lat\"], southernDF[\"Humidity\"])\n",
    "print(f\"The r-value is: {rvalue}\")\n",
    "regress_values = southernDF[\"Lat\"] * slope + intercept\n",
    "line_eq = \"y = \" + str(round(slope,2)) + \"x + \" + str(round(intercept,2))\n",
    "plt.scatter(southernDF[\"Lat\"], southernDF[\"Humidity\"], marker=\"o\", facecolors=\"blue\", edgecolors=\"black\")\n",
    "plt.plot(southernDF[\"Lat\"],regress_values,\"r-\")\n",
    "plt.annotate(line_eq,(-55,15),fontsize=15,color=\"red\")\n",
    "plt.show()"
   ]
  },
  {
   "cell_type": "markdown",
   "metadata": {},
   "source": [
    "#### The above two scatter plots show latitude vs humidity for both the northern and southern hemispheres. Neither hemisphere has\n",
    "#### a strong relation between the two, however, the southern hemisphere has  the vast majority of cities with humidity over 50%\n",
    "#### while the norther hemisphere has a lot more occurences of cities with humidity below 50% (however, the vast majority of  \n",
    "#### cities still have humidity over 50%).\n",
    " "
   ]
  },
  {
   "cell_type": "markdown",
   "metadata": {},
   "source": [
    "##  Northern Hemisphere - Cloudiness (%) vs. Latitude Linear Regression"
   ]
  },
  {
   "cell_type": "code",
   "execution_count": 19,
   "metadata": {},
   "outputs": [
    {
     "name": "stdout",
     "output_type": "stream",
     "text": [
      "The r-value is: -0.029799089576623954\n"
     ]
    },
    {
     "data": {
      "image/png": "[encoded data removed]",
      "text/plain": [
       "<Figure size 432x288 with 1 Axes>"
      ]
     },
     "metadata": {
      "needs_background": "light"
     },
     "output_type": "display_data"
    }
   ],
   "source": [
    "plt.title(\"Northern Hemisphere: City Latitude vs. Cloudiness (10/27/2020)\")\n",
    "plt.xlabel(\"Latitude\")\n",
    "plt.ylabel(\"Cloudiness (%)\")\n",
    "(slope, intercept, rvalue, pvalue, stderr) = linregress(northernDF[\"Lat\"], northernDF[\"Cloudiness\"])\n",
    "print(f\"The r-value is: {rvalue}\")\n",
    "regress_values = northernDF[\"Lat\"] * slope + intercept\n",
    "line_eq = \"y = \" + str(round(slope,2)) + \"x + \" + str(round(intercept,2))\n",
    "plt.scatter(northernDF[\"Lat\"], northernDF[\"Cloudiness\"], marker=\"o\", facecolors=\"blue\", edgecolors=\"black\")\n",
    "plt.plot(northernDF[\"Lat\"],regress_values,\"r-\")\n",
    "plt.annotate(line_eq,(15,25),fontsize=15,color=\"red\")\n",
    "plt.show()"
   ]
  },
  {
   "cell_type": "markdown",
   "metadata": {},
   "source": [
    "##  Southern Hemisphere - Cloudiness (%) vs. Latitude Linear Regression"
   ]
  },
  {
   "cell_type": "code",
   "execution_count": 20,
   "metadata": {},
   "outputs": [
    {
     "name": "stdout",
     "output_type": "stream",
     "text": [
      "The r-value is: -0.18668471475774995\n"
     ]
    },
    {
     "data": {
      "image/png": "[encoded data removed]",
      "text/plain": [
       "<Figure size 432x288 with 1 Axes>"
      ]
     },
     "metadata": {
      "needs_background": "light"
     },
     "output_type": "display_data"
    }
   ],
   "source": [
    "plt.title(\"Southern Hemisphere: City Latitude vs. Cloudiness (10/27/2020)\")\n",
    "plt.xlabel(\"Latitude\")\n",
    "plt.ylabel(\"Cloudiness (%)\")\n",
    "(slope, intercept, rvalue, pvalue, stderr) = linregress(southernDF[\"Lat\"], southernDF[\"Cloudiness\"])\n",
    "print(f\"The r-value is: {rvalue}\")\n",
    "regress_values = southernDF[\"Lat\"] * slope + intercept\n",
    "line_eq = \"y = \" + str(round(slope,2)) + \"x + \" + str(round(intercept,2))\n",
    "plt.scatter(southernDF[\"Lat\"], southernDF[\"Cloudiness\"], marker=\"o\", facecolors=\"blue\", edgecolors=\"black\")\n",
    "plt.plot(southernDF[\"Lat\"],regress_values,\"r-\")\n",
    "plt.annotate(line_eq,(-55,15),fontsize=15,color=\"red\")\n",
    "plt.show()"
   ]
  },
  {
   "cell_type": "markdown",
   "metadata": {},
   "source": [
    "#### The above two scatter plots show the relation between latitude and cloudiness for both the northern and southern hemispheres.\n",
    "#### There is little to no relationship between these two variables. The number of places with cloudiness greater than 50% seems \n",
    "#### to be balanced with the number of places with cloudiness less than 50%, and both are spread evenly over all latitudes."
   ]
  },
  {
   "cell_type": "markdown",
   "metadata": {},
   "source": [
    "##  Northern Hemisphere - Wind Speed (mph) vs. Latitude Linear Regression"
   ]
  },
  {
   "cell_type": "code",
   "execution_count": 21,
   "metadata": {},
   "outputs": [
    {
     "name": "stdout",
     "output_type": "stream",
     "text": [
      "The r-value is: -0.12089706173953225\n"
     ]
    },
    {
     "data": {
      "image/png": "[encoded data removed]",
      "text/plain": [
       "<Figure size 432x288 with 1 Axes>"
      ]
     },
     "metadata": {
      "needs_background": "light"
     },
     "output_type": "display_data"
    }
   ],
   "source": [
    "plt.title(\"Northern Hemisphere: City Latitude vs. Wind Speed (10/27/2020)\")\n",
    "plt.xlabel(\"Latitude\")\n",
    "plt.ylabel(\"Wind Speed (mph)\")\n",
    "(slope, intercept, rvalue, pvalue, stderr) = linregress(northernDF[\"Lat\"], northernDF[\"Wind Speed\"])\n",
    "print(f\"The r-value is: {rvalue}\")\n",
    "regress_values = northernDF[\"Lat\"] * slope + intercept\n",
    "line_eq = \"y = \" + str(round(slope,2)) + \"x + \" + str(round(intercept,2))\n",
    "plt.scatter(northernDF[\"Lat\"], northernDF[\"Wind Speed\"], marker=\"o\", facecolors=\"blue\", edgecolors=\"black\")\n",
    "plt.plot(northernDF[\"Lat\"],regress_values,\"r-\")\n",
    "plt.annotate(line_eq,(48,30),fontsize=15,color=\"red\")\n",
    "plt.show()"
   ]
  },
  {
   "cell_type": "markdown",
   "metadata": {},
   "source": [
    "##  Southern Hemisphere - Wind Speed (mph) vs. Latitude Linear Regression"
   ]
  },
  {
   "cell_type": "code",
   "execution_count": 22,
   "metadata": {},
   "outputs": [
    {
     "name": "stdout",
     "output_type": "stream",
     "text": [
      "The r-value is: -0.20425183257510382\n"
     ]
    },
    {
     "data": {
      "image/png": "[encoded data removed]",
      "text/plain": [
       "<Figure size 432x288 with 1 Axes>"
      ]
     },
     "metadata": {
      "needs_background": "light"
     },
     "output_type": "display_data"
    }
   ],
   "source": [
    "plt.title(\"Southern Hemisphere: City Latitude vs. Wind Speed (10/27/2020)\")\n",
    "plt.xlabel(\"Latitude\")\n",
    "plt.ylabel(\"Wind Speed (mph)\")\n",
    "(slope, intercept, rvalue, pvalue, stderr) = linregress(southernDF[\"Lat\"], southernDF[\"Wind Speed\"])\n",
    "print(f\"The r-value is: {rvalue}\")\n",
    "regress_values = southernDF[\"Lat\"] * slope + intercept\n",
    "line_eq = \"y = \" + str(round(slope,2)) + \"x + \" + str(round(intercept,2))\n",
    "plt.scatter(southernDF[\"Lat\"], southernDF[\"Wind Speed\"], marker=\"o\", facecolors=\"blue\", edgecolors=\"black\")\n",
    "plt.plot(southernDF[\"Lat\"],regress_values,\"r-\")\n",
    "plt.annotate(line_eq,(-55,25),fontsize=15,color=\"red\")\n",
    "plt.show()"
   ]
  },
  {
   "cell_type": "markdown",
   "metadata": {},
   "source": [
    "#### The above two scatter plots show the relationship between latitude and wind speed for the nothern and southern hemispheres.\n",
    "#### There doesn't seem to be a huge relation between the two for the northern or southern hemispheres, however but have a majority\n",
    "#### of locations with wind speed of 15mph or less. "
   ]
  },
  {
   "cell_type": "code",
   "execution_count": null,
   "metadata": {},
   "outputs": [],
   "source": []
  }
 ],
 "metadata": {
  "anaconda-cloud": {},
  "kernel_info": {
   "name": "python3"
  },
  "kernelspec": {
   "display_name": "Python [conda env:PythonData] *",
   "language": "python",
   "name": "conda-env-PythonData-py"
  },
  "language_info": {
   "codemirror_mode": {
    "name": "ipython",
    "version": 3
   },
   "file_extension": ".py",
   "mimetype": "text/x-python",
   "name": "python",
   "nbconvert_exporter": "python",
   "pygments_lexer": "ipython3",
   "version": "3.7.1"
  },
  "latex_envs": {
   "LaTeX_envs_menu_present": true,
   "autoclose": false,
   "autocomplete": true,
   "bibliofile": "biblio.bib",
   "cite_by": "apalike",
   "current_citInitial": 1,
   "eqLabelWithNumbers": true,
   "eqNumInitial": 1,
   "hotkeys": {
    "equation": "Ctrl-E",
    "itemize": "Ctrl-I"
   },
   "labels_anchors": false,
   "latex_user_defs": false,
   "report_style_numbering": false,
   "user_envs_cfg": false
  },
  "nteract": {
   "version": "0.12.3"
  }
 },
 "nbformat": 4,
 "nbformat_minor": 2
}
