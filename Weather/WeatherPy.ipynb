{
 "cells": [
  {
   "cell_type": "markdown",
   "metadata": {},
   "source": [
    "# WeatherPy\n",
    "----\n",
    "\n",
    "#### Observations\n",
    "* 1. There is a strong correlation between latitude and max temp for both hemispheres. Northern hemisphere gets colder the further north you go from he equator while the southern hemisphere gets colder the further south you go from the equator.\n",
    "* 2. The vast majority of locations have a humidity percentage of over 50%. This has little to no reliance on latitude. \n",
    "* 3. The vast majority of locations have a wind speed of 15mph or less. This also has little to no reliance on latitude.\n",
    "* 4. Cloudiness is completely unaffected by the latitude of a location. "
   ]
  },
  {
   "cell_type": "code",
   "execution_count": 2,
   "metadata": {
    "scrolled": true
   },
   "outputs": [],
   "source": [
    "# Dependencies and Setup\n",
    "import matplotlib.pyplot as plt\n",
    "import pandas as pd\n",
    "import numpy as np\n",
    "import requests\n",
    "import time\n",
    "from scipy.stats import linregress\n",
    "\n",
    "# Import API key\n",
    "from api_keys import weather_api_key\n",
    "\n",
    "# Incorporate citipy to determine city based on latitude and longitude\n",
    "from citipy import citipy\n",
    "\n",
    "# Output File (CSV)\n",
    "output_data_file = \"output_data/cities.csv\"\n",
    "\n",
    "# Range of latitudes and longitudes\n",
    "lat_range = (-90, 90)\n",
    "lng_range = (-180, 180)"
   ]
  },
  {
   "cell_type": "markdown",
   "metadata": {},
   "source": [
    "## Generate Cities List"
   ]
  },
  {
   "cell_type": "code",
   "execution_count": 3,
   "metadata": {},
   "outputs": [
    {
     "data": {
      "text/plain": [
       "609"
      ]
     },
     "execution_count": 3,
     "metadata": {},
     "output_type": "execute_result"
    }
   ],
   "source": [
    "# List for holding lat_lngs and cities\n",
    "lat_lngs = []\n",
    "cities = []\n",
    "\n",
    "# Create a set of random lat and lng combinations\n",
    "lats = np.random.uniform(lat_range[0], lat_range[1], size=1500) #size should be 1500 in this and below\n",
    "lngs = np.random.uniform(lng_range[0], lng_range[1], size=1500)\n",
    "lat_lngs = zip(lats, lngs)\n",
    "\n",
    "# Identify nearest city for each lat, lng combination\n",
    "for lat_lng in lat_lngs:\n",
    "    city = citipy.nearest_city(lat_lng[0], lat_lng[1]).city_name\n",
    "    \n",
    "    # If statement that determines if the city is unique, then adds it to a our cities list (only if unique)\n",
    "    if city not in cities:\n",
    "        cities.append(city)\n",
    "\n",
    "# Print the city count to confirm sufficient count\n",
    "len(cities)"
   ]
  },
  {
   "cell_type": "markdown",
   "metadata": {},
   "source": [
    "### Perform API Calls\n",
    "* Perform a weather check on each city using a series of successive API calls.\n",
    "* Include a print log of each city as it'sbeing processed (with the city number and city name).\n"
   ]
  },
  {
   "cell_type": "code",
   "execution_count": 4,
   "metadata": {
    "scrolled": true
   },
   "outputs": [
    {
     "name": "stdout",
     "output_type": "stream",
     "text": [
      "Beginning Data Retrieval\n",
      "-------------------------------\n",
      "Processing Record 1 of Set 1 | methoni\n",
      "The city, palabuhanratu, was not found. Skipping...\n",
      "Processing Record 3 of Set 1 | popondetta\n",
      "Processing Record 4 of Set 1 | busselton\n",
      "Processing Record 5 of Set 1 | hermanus\n",
      "Processing Record 6 of Set 1 | oriximina\n",
      "Processing Record 7 of Set 1 | port elizabeth\n",
      "Processing Record 8 of Set 1 | mataura\n",
      "Processing Record 9 of Set 1 | havelock\n",
      "Processing Record 10 of Set 1 | touros\n",
      "Processing Record 11 of Set 1 | porosozero\n",
      "Processing Record 12 of Set 1 | east london\n",
      "Processing Record 13 of Set 1 | yellowknife\n",
      "Processing Record 14 of Set 1 | upernavik\n",
      "Processing Record 15 of Set 1 | arraial do cabo\n",
      "Processing Record 16 of Set 1 | constitucion\n",
      "Processing Record 17 of Set 1 | cidreira\n",
      "Processing Record 18 of Set 1 | otukpo\n",
      "The city, belushya guba, was not found. Skipping...\n",
      "Processing Record 20 of Set 1 | rikitea\n",
      "Processing Record 21 of Set 1 | tiksi\n",
      "Processing Record 22 of Set 1 | bairiki\n",
      "Processing Record 23 of Set 1 | hilo\n",
      "Processing Record 24 of Set 1 | hobart\n",
      "Processing Record 25 of Set 1 | punta arenas\n",
      "Processing Record 26 of Set 1 | sawtell\n",
      "Processing Record 27 of Set 1 | vaini\n",
      "The city, nizhneyansk, was not found. Skipping...\n",
      "Processing Record 29 of Set 1 | saldanha\n",
      "Processing Record 30 of Set 1 | manica\n",
      "Processing Record 31 of Set 1 | arlit\n",
      "Processing Record 32 of Set 1 | katsuura\n",
      "Processing Record 33 of Set 1 | hasaki\n",
      "Processing Record 34 of Set 1 | pemberton\n",
      "Processing Record 35 of Set 1 | marawi\n",
      "Processing Record 36 of Set 1 | agadir\n",
      "Processing Record 37 of Set 1 | ushuaia\n",
      "Processing Record 38 of Set 1 | albany\n",
      "Processing Record 39 of Set 1 | bogorodskoye\n",
      "Processing Record 40 of Set 1 | high level\n",
      "Processing Record 41 of Set 1 | carnarvon\n",
      "Processing Record 42 of Set 1 | jamestown\n",
      "Processing Record 43 of Set 1 | jibuti\n",
      "Processing Record 44 of Set 1 | barrow\n",
      "Processing Record 45 of Set 1 | cape town\n",
      "Processing Record 46 of Set 1 | torbay\n",
      "Processing Record 47 of Set 1 | hofn\n",
      "Processing Record 48 of Set 1 | thunder bay\n",
      "Processing Record 49 of Set 1 | port alfred\n",
      "Processing Record 50 of Set 1 | victoria\n",
      "Processing Record 51 of Set 1 | forestville\n",
      "The city, burica, was not found. Skipping...\n",
      "The city, amderma, was not found. Skipping...\n",
      "Processing Record 54 of Set 1 | udachnyy\n",
      "Processing Record 55 of Set 1 | cherskiy\n",
      "Processing Record 56 of Set 1 | new norfolk\n",
      "Processing Record 57 of Set 1 | jalu\n",
      "Processing Record 58 of Set 1 | wonthaggi\n",
      "Processing Record 59 of Set 1 | bagdarin\n",
      "Processing Record 60 of Set 1 | anadyr\n",
      "Processing Record 61 of Set 1 | nizwa\n",
      "Processing Record 62 of Set 1 | kilindoni\n",
      "The city, taolanaro, was not found. Skipping...\n",
      "Processing Record 64 of Set 1 | terrace\n",
      "Processing Record 65 of Set 1 | freeport\n",
      "Processing Record 66 of Set 1 | georgetown\n",
      "Processing Record 67 of Set 1 | qasigiannguit\n",
      "Processing Record 68 of Set 1 | makakilo city\n",
      "Processing Record 69 of Set 1 | bowen\n",
      "Processing Record 70 of Set 1 | khatanga\n",
      "Processing Record 71 of Set 1 | ryotsu\n",
      "Processing Record 72 of Set 1 | avarua\n",
      "Processing Record 73 of Set 1 | dhidhdhoo\n",
      "Processing Record 74 of Set 1 | berlevag\n",
      "Processing Record 75 of Set 1 | dikson\n",
      "Processing Record 76 of Set 1 | chute-aux-outardes\n",
      "Processing Record 77 of Set 1 | placido de castro\n",
      "Processing Record 78 of Set 1 | sur\n",
      "Processing Record 79 of Set 1 | tarakan\n",
      "Processing Record 80 of Set 1 | nioro\n",
      "Processing Record 81 of Set 1 | san agustin\n",
      "Processing Record 82 of Set 1 | woodbridge\n",
      "Processing Record 83 of Set 1 | bambous virieux\n",
      "Processing Record 84 of Set 1 | saint-philippe\n",
      "Processing Record 85 of Set 1 | inhambane\n",
      "Processing Record 86 of Set 1 | fairfield\n",
      "Processing Record 87 of Set 1 | cabo san lucas\n",
      "Processing Record 88 of Set 1 | chuy\n",
      "Processing Record 89 of Set 1 | mount gambier\n",
      "Processing Record 90 of Set 1 | sola\n",
      "Processing Record 91 of Set 1 | esperance\n",
      "The city, ngukurr, was not found. Skipping...\n",
      "Processing Record 93 of Set 1 | mount isa\n",
      "Processing Record 94 of Set 1 | bethel\n",
      "Processing Record 95 of Set 1 | rabo de peixe\n",
      "Processing Record 96 of Set 1 | bluff\n",
      "Processing Record 97 of Set 1 | xining\n",
      "Processing Record 98 of Set 1 | paciran\n",
      "Processing Record 99 of Set 1 | cockburn town\n",
      "Processing Record 100 of Set 1 | bitung\n",
      "Processing Record 101 of Set 1 | kavaratti\n",
      "Processing Record 102 of Set 1 | humaita\n",
      "Processing Record 103 of Set 1 | tuktoyaktuk\n",
      "Processing Record 104 of Set 1 | tancheng\n",
      "Processing Record 105 of Set 1 | coxim\n",
      "Processing Record 106 of Set 1 | havoysund\n",
      "Processing Record 107 of Set 1 | berdigestyakh\n",
      "Processing Record 108 of Set 1 | saint george\n",
      "Processing Record 109 of Set 1 | tupanatinga\n",
      "Processing Record 110 of Set 1 | tocopilla\n",
      "Processing Record 111 of Set 1 | lebu\n",
      "Processing Record 112 of Set 1 | caravelas\n",
      "Processing Record 113 of Set 1 | provideniya\n",
      "Processing Record 114 of Set 1 | ullapool\n",
      "Processing Record 115 of Set 1 | komsomolskiy\n",
      "Processing Record 116 of Set 1 | manyana\n",
      "Processing Record 117 of Set 1 | ancud\n",
      "Processing Record 118 of Set 1 | atuona\n",
      "Processing Record 119 of Set 1 | tasiilaq\n",
      "Processing Record 120 of Set 1 | guerrero negro\n",
      "Processing Record 121 of Set 1 | labuhan\n",
      "Processing Record 122 of Set 1 | susanville\n",
      "The city, tasbuget, was not found. Skipping...\n",
      "Processing Record 124 of Set 1 | sao filipe\n",
      "Processing Record 125 of Set 1 | butaritari\n",
      "Processing Record 126 of Set 1 | acapulco\n",
      "Processing Record 127 of Set 1 | haines junction\n",
      "Processing Record 128 of Set 1 | mantua\n",
      "Processing Record 129 of Set 1 | ciudad bolivar\n",
      "Processing Record 130 of Set 1 | vila\n",
      "Processing Record 131 of Set 1 | bratsk\n",
      "Processing Record 132 of Set 1 | nouakchott\n",
      "Processing Record 133 of Set 1 | rowlett\n",
      "Processing Record 134 of Set 1 | castro\n",
      "Processing Record 135 of Set 1 | quimper\n",
      "Processing Record 136 of Set 1 | san policarpo\n",
      "Processing Record 137 of Set 1 | fort nelson\n",
      "Processing Record 138 of Set 1 | bulungu\n",
      "Processing Record 139 of Set 1 | limbuhan\n",
      "Processing Record 140 of Set 1 | bubaque\n",
      "Processing Record 141 of Set 1 | bengkulu\n",
      "Processing Record 142 of Set 1 | vigrestad\n",
      "Processing Record 143 of Set 1 | phangnga\n",
      "Processing Record 144 of Set 1 | bushehr\n",
      "Processing Record 145 of Set 1 | portland\n",
      "Processing Record 146 of Set 1 | lompoc\n",
      "Processing Record 147 of Set 1 | mathathane\n",
      "Processing Record 148 of Set 1 | ponta do sol\n",
      "The city, illoqqortoormiut, was not found. Skipping...\n",
      "Processing Record 150 of Set 1 | ostrovnoy\n",
      "Processing Record 151 of Set 1 | stornoway\n",
      "Processing Record 152 of Set 1 | puerto cabezas\n",
      "Processing Record 153 of Set 1 | egvekinot\n",
      "Processing Record 154 of Set 1 | chapada dos guimaraes\n",
      "The city, sentyabrskiy, was not found. Skipping...\n",
      "Processing Record 156 of Set 1 | westport\n",
      "Processing Record 157 of Set 1 | ornskoldsvik\n",
      "Processing Record 158 of Set 1 | souillac\n",
      "Processing Record 159 of Set 1 | chandur bazar\n",
      "Processing Record 160 of Set 1 | puerto ayora\n",
      "Processing Record 161 of Set 1 | san jose\n",
      "Processing Record 162 of Set 1 | mar del plata\n",
      "The city, samusu, was not found. Skipping...\n",
      "Processing Record 164 of Set 1 | san rafael\n",
      "Processing Record 165 of Set 1 | qaanaaq\n",
      "Processing Record 166 of Set 1 | kirakira\n",
      "Processing Record 167 of Set 1 | narsaq\n",
      "Processing Record 168 of Set 1 | pacific grove\n",
      "Processing Record 169 of Set 1 | port keats\n",
      "Processing Record 170 of Set 1 | longyearbyen\n",
      "Processing Record 171 of Set 1 | coquimbo\n",
      "Processing Record 172 of Set 1 | puerto escondido\n",
      "Processing Record 173 of Set 1 | somerset east\n",
      "Processing Record 174 of Set 1 | ntungamo\n",
      "Processing Record 175 of Set 1 | lockhart\n",
      "Processing Record 176 of Set 1 | palmer\n",
      "Processing Record 177 of Set 1 | kavieng\n",
      "Processing Record 178 of Set 1 | richards bay\n",
      "Processing Record 179 of Set 1 | magdeburg\n",
      "Processing Record 180 of Set 1 | danville\n",
      "Processing Record 181 of Set 1 | bodden town\n",
      "Processing Record 182 of Set 1 | ziarat\n",
      "Processing Record 183 of Set 1 | bredasdorp\n",
      "Processing Record 184 of Set 1 | rawson\n",
      "Processing Record 185 of Set 1 | sitka\n",
      "Processing Record 186 of Set 1 | salalah\n",
      "Processing Record 187 of Set 1 | kapaa\n",
      "Processing Record 188 of Set 1 | tambo\n",
      "The city, barentsburg, was not found. Skipping...\n",
      "Processing Record 190 of Set 1 | lagoa\n",
      "Processing Record 191 of Set 1 | qaqortoq\n"
     ]
    },
    {
     "name": "stdout",
     "output_type": "stream",
     "text": [
      "Processing Record 192 of Set 1 | pevek\n",
      "Processing Record 193 of Set 1 | hamilton\n",
      "Processing Record 194 of Set 1 | beitbridge\n",
      "Processing Record 195 of Set 1 | semnan\n",
      "Processing Record 196 of Set 1 | uige\n",
      "Processing Record 197 of Set 1 | pisco\n",
      "Processing Record 198 of Set 1 | santa rosalia\n",
      "Processing Record 199 of Set 1 | alofi\n",
      "Processing Record 200 of Set 1 | sai buri\n",
      "Processing Record 201 of Set 1 | cayenne\n",
      "Processing Record 202 of Set 1 | miri\n",
      "Processing Record 203 of Set 1 | ilulissat\n",
      "Processing Record 204 of Set 1 | kaitangata\n",
      "Processing Record 205 of Set 1 | abalak\n",
      "Processing Record 206 of Set 1 | port macquarie\n",
      "Processing Record 207 of Set 1 | shache\n",
      "Processing Record 208 of Set 1 | toamasina\n",
      "Processing Record 209 of Set 1 | miramar\n",
      "Processing Record 210 of Set 1 | shimoda\n",
      "Processing Record 211 of Set 1 | riyadh\n",
      "Processing Record 212 of Set 1 | biltine\n",
      "Processing Record 213 of Set 1 | port hardy\n",
      "Processing Record 214 of Set 1 | kamenka\n",
      "Processing Record 215 of Set 1 | nikolskoye\n",
      "Processing Record 216 of Set 1 | jipijapa\n",
      "Processing Record 217 of Set 1 | condado\n",
      "Processing Record 218 of Set 1 | binzhou\n",
      "Processing Record 219 of Set 1 | mahebourg\n",
      "The city, mys shmidta, was not found. Skipping...\n",
      "Processing Record 221 of Set 1 | aden\n",
      "The city, of, was not found. Skipping...\n",
      "Processing Record 223 of Set 1 | juazeiro do norte\n",
      "Processing Record 224 of Set 1 | hovd\n",
      "Processing Record 225 of Set 1 | faanui\n",
      "Processing Record 226 of Set 1 | clyde river\n",
      "The city, tsihombe, was not found. Skipping...\n",
      "Processing Record 228 of Set 1 | mbumi\n",
      "Processing Record 229 of Set 1 | bahia blanca\n",
      "Processing Record 230 of Set 1 | ndele\n",
      "Processing Record 231 of Set 1 | zheleznodorozhnyy\n",
      "Processing Record 232 of Set 1 | beyneu\n",
      "Processing Record 233 of Set 1 | homer\n",
      "Processing Record 234 of Set 1 | dawson creek\n",
      "Processing Record 235 of Set 1 | puro\n",
      "Processing Record 236 of Set 1 | bolshaya rechka\n",
      "Processing Record 237 of Set 1 | handan\n",
      "Processing Record 238 of Set 1 | sri aman\n",
      "Processing Record 239 of Set 1 | luderitz\n",
      "Processing Record 240 of Set 1 | tete\n",
      "The city, rolim de moura, was not found. Skipping...\n",
      "Processing Record 242 of Set 1 | tilichiki\n",
      "Processing Record 243 of Set 1 | los llanos de aridane\n",
      "Processing Record 244 of Set 1 | tevriz\n",
      "Processing Record 245 of Set 1 | bacolod\n",
      "Processing Record 246 of Set 1 | comodoro rivadavia\n",
      "Processing Record 247 of Set 1 | campbell river\n",
      "Processing Record 248 of Set 1 | ayacucho\n",
      "Processing Record 249 of Set 1 | limenaria\n",
      "Processing Record 250 of Set 1 | svetlaya\n",
      "The city, ji-parana, was not found. Skipping...\n",
      "Processing Record 252 of Set 1 | borogontsy\n",
      "The city, utiroa, was not found. Skipping...\n",
      "Processing Record 254 of Set 1 | paratinga\n",
      "Processing Record 255 of Set 1 | havre-saint-pierre\n",
      "Processing Record 256 of Set 1 | benguela\n",
      "Processing Record 257 of Set 1 | formby\n",
      "Processing Record 258 of Set 1 | ponta delgada\n",
      "Processing Record 259 of Set 1 | lorengau\n",
      "Processing Record 260 of Set 1 | kultuk\n",
      "Processing Record 261 of Set 1 | nabire\n",
      "Processing Record 262 of Set 1 | camacha\n",
      "Processing Record 263 of Set 1 | moyale\n",
      "Processing Record 264 of Set 1 | bathsheba\n",
      "Processing Record 265 of Set 1 | knysna\n",
      "Processing Record 266 of Set 1 | sinnamary\n",
      "The city, wahran, was not found. Skipping...\n",
      "Processing Record 268 of Set 1 | santa cruz de la palma\n",
      "Processing Record 269 of Set 1 | gamboula\n",
      "Processing Record 270 of Set 1 | reconquista\n",
      "Processing Record 271 of Set 1 | abapo\n",
      "The city, sumbawa, was not found. Skipping...\n",
      "Processing Record 273 of Set 1 | grand-santi\n",
      "Processing Record 274 of Set 1 | praia da vitoria\n",
      "Processing Record 275 of Set 1 | jutai\n",
      "Processing Record 276 of Set 1 | saskylakh\n",
      "Processing Record 277 of Set 1 | lander\n",
      "Processing Record 278 of Set 1 | olafsvik\n",
      "Processing Record 279 of Set 1 | fangshan\n",
      "Processing Record 280 of Set 1 | fortuna\n",
      "Processing Record 281 of Set 1 | dunedin\n",
      "Processing Record 282 of Set 1 | kashi\n",
      "The city, grand river south east, was not found. Skipping...\n",
      "Processing Record 284 of Set 1 | broome\n",
      "Processing Record 285 of Set 1 | fare\n",
      "Processing Record 286 of Set 1 | thompson\n",
      "Processing Record 287 of Set 1 | maxixe\n",
      "Processing Record 288 of Set 1 | labytnangi\n",
      "Processing Record 289 of Set 1 | bulgan\n",
      "Processing Record 290 of Set 1 | barabai\n",
      "The city, fort saint john, was not found. Skipping...\n",
      "Processing Record 292 of Set 1 | koumac\n",
      "Processing Record 293 of Set 1 | kabare\n",
      "Processing Record 294 of Set 1 | coihaique\n",
      "Processing Record 295 of Set 1 | illela\n",
      "Processing Record 296 of Set 1 | cabra\n",
      "Processing Record 297 of Set 1 | namikupa\n",
      "The city, ye, was not found. Skipping...\n",
      "Processing Record 299 of Set 1 | grand gaube\n",
      "Processing Record 300 of Set 1 | saint-augustin\n",
      "Processing Record 301 of Set 1 | tessalit\n",
      "Processing Record 302 of Set 1 | norman wells\n",
      "Processing Record 303 of Set 1 | rocha\n",
      "Processing Record 304 of Set 1 | tahe\n",
      "Processing Record 305 of Set 1 | lewisville\n",
      "Processing Record 306 of Set 1 | ulaangom\n",
      "The city, kebemer, was not found. Skipping...\n",
      "Processing Record 308 of Set 1 | purwakarta\n",
      "Processing Record 309 of Set 1 | san cristobal\n",
      "Processing Record 310 of Set 1 | sorland\n",
      "Processing Record 311 of Set 1 | ust-kuyga\n",
      "Processing Record 312 of Set 1 | abu kamal\n",
      "Processing Record 313 of Set 1 | kiama\n",
      "Processing Record 314 of Set 1 | taoudenni\n",
      "Processing Record 315 of Set 1 | cururupu\n",
      "Processing Record 316 of Set 1 | da nang\n",
      "Processing Record 317 of Set 1 | chokurdakh\n",
      "Processing Record 318 of Set 1 | kodiak\n",
      "Processing Record 319 of Set 1 | liku\n",
      "Processing Record 320 of Set 1 | abilene\n",
      "Processing Record 321 of Set 1 | beaupre\n",
      "Processing Record 322 of Set 1 | champerico\n",
      "Processing Record 323 of Set 1 | brae\n",
      "Processing Record 324 of Set 1 | floro\n",
      "Processing Record 325 of Set 1 | chibuto\n",
      "Processing Record 326 of Set 1 | vidim\n",
      "Processing Record 327 of Set 1 | mananara\n",
      "Processing Record 328 of Set 1 | ahipara\n",
      "Processing Record 329 of Set 1 | nesebar\n",
      "Processing Record 330 of Set 1 | cubuk\n",
      "Processing Record 331 of Set 1 | dharmanagar\n",
      "Processing Record 332 of Set 1 | san jose de rio tinto\n",
      "Processing Record 333 of Set 1 | sorong\n",
      "Processing Record 334 of Set 1 | ribeira grande\n",
      "Processing Record 335 of Set 1 | ardakan\n",
      "Processing Record 336 of Set 1 | evensk\n",
      "Processing Record 337 of Set 1 | hobyo\n",
      "Processing Record 338 of Set 1 | altus\n",
      "Processing Record 339 of Set 1 | karratha\n",
      "Processing Record 340 of Set 1 | sibolga\n",
      "Processing Record 341 of Set 1 | sterling\n",
      "Processing Record 342 of Set 1 | busca\n",
      "The city, sedelnikovo, was not found. Skipping...\n",
      "Processing Record 344 of Set 1 | sayyan\n",
      "The city, tumannyy, was not found. Skipping...\n",
      "Processing Record 346 of Set 1 | whitianga\n",
      "Processing Record 347 of Set 1 | carballo\n",
      "Processing Record 348 of Set 1 | beyla\n",
      "The city, attawapiskat, was not found. Skipping...\n",
      "Processing Record 350 of Set 1 | bandiagara\n",
      "Processing Record 351 of Set 1 | kyren\n",
      "Processing Record 352 of Set 1 | rena\n",
      "Processing Record 353 of Set 1 | piacabucu\n",
      "Processing Record 354 of Set 1 | kambileyevskoye\n",
      "Processing Record 355 of Set 1 | clyde\n",
      "Processing Record 356 of Set 1 | serebryanyy bor\n",
      "Processing Record 357 of Set 1 | sabha\n",
      "Processing Record 358 of Set 1 | barinas\n",
      "Processing Record 359 of Set 1 | marrakesh\n",
      "Processing Record 360 of Set 1 | soure\n",
      "The city, dubenskiy, was not found. Skipping...\n",
      "Processing Record 362 of Set 1 | dafeng\n",
      "Processing Record 363 of Set 1 | poum\n",
      "Processing Record 364 of Set 1 | meulaboh\n",
      "Processing Record 365 of Set 1 | muros\n",
      "Processing Record 366 of Set 1 | takanabe\n",
      "Processing Record 367 of Set 1 | oksfjord\n",
      "Processing Record 368 of Set 1 | flinders\n",
      "Processing Record 369 of Set 1 | ribas do rio pardo\n",
      "Processing Record 370 of Set 1 | kununurra\n",
      "Processing Record 371 of Set 1 | buzdyak\n",
      "Processing Record 372 of Set 1 | russell\n",
      "Processing Record 373 of Set 1 | mackenzie\n",
      "Processing Record 374 of Set 1 | payakumbuh\n",
      "Processing Record 375 of Set 1 | bud\n",
      "Processing Record 376 of Set 1 | faya\n",
      "Processing Record 377 of Set 1 | codrington\n",
      "Processing Record 378 of Set 1 | hithadhoo\n",
      "Processing Record 379 of Set 1 | abu samrah\n",
      "Processing Record 380 of Set 1 | porto santo\n",
      "Processing Record 381 of Set 1 | talnakh\n",
      "Processing Record 382 of Set 1 | ambon\n",
      "Processing Record 383 of Set 1 | christchurch\n"
     ]
    },
    {
     "name": "stdout",
     "output_type": "stream",
     "text": [
      "Processing Record 384 of Set 1 | phan thiet\n",
      "Processing Record 385 of Set 1 | redlands\n",
      "Processing Record 386 of Set 1 | hirara\n",
      "Processing Record 387 of Set 1 | mayna\n",
      "Processing Record 388 of Set 1 | arandis\n",
      "Processing Record 389 of Set 1 | nantucket\n",
      "Processing Record 390 of Set 1 | boddam\n",
      "Processing Record 391 of Set 1 | icatu\n",
      "Processing Record 392 of Set 1 | hervey bay\n",
      "The city, alotau, was not found. Skipping...\n",
      "Processing Record 394 of Set 1 | severobaykalsk\n",
      "Processing Record 395 of Set 1 | te anau\n",
      "Processing Record 396 of Set 1 | midland\n",
      "Processing Record 397 of Set 1 | umba\n",
      "Processing Record 398 of Set 1 | byron bay\n",
      "Processing Record 399 of Set 1 | port lincoln\n",
      "Processing Record 400 of Set 1 | kampong cham\n",
      "Processing Record 401 of Set 1 | bandarbeyla\n",
      "Processing Record 402 of Set 1 | leningradskiy\n",
      "Processing Record 403 of Set 1 | tecoanapa\n",
      "Processing Record 404 of Set 1 | fairbanks\n",
      "Processing Record 405 of Set 1 | river falls\n",
      "Processing Record 406 of Set 1 | zhigansk\n",
      "Processing Record 407 of Set 1 | college\n",
      "Processing Record 408 of Set 1 | tautira\n",
      "Processing Record 409 of Set 1 | ixtapa\n",
      "Processing Record 410 of Set 1 | munsingen\n",
      "Processing Record 411 of Set 1 | zhezkazgan\n",
      "Processing Record 412 of Set 1 | ayagoz\n",
      "Processing Record 413 of Set 1 | pietersburg\n",
      "The city, nguiu, was not found. Skipping...\n",
      "Processing Record 415 of Set 1 | awjilah\n",
      "Processing Record 416 of Set 1 | mandali\n",
      "Processing Record 417 of Set 1 | san quintin\n",
      "Processing Record 418 of Set 1 | kungurtug\n",
      "Processing Record 419 of Set 1 | nelson bay\n",
      "Processing Record 420 of Set 1 | yulara\n",
      "Processing Record 421 of Set 1 | rajauri\n",
      "Processing Record 422 of Set 1 | chitungwiza\n",
      "Processing Record 423 of Set 1 | abha\n",
      "Processing Record 424 of Set 1 | bosanska gradiska\n",
      "The city, vaitupu, was not found. Skipping...\n",
      "Processing Record 426 of Set 1 | kayerkan\n",
      "Processing Record 427 of Set 1 | shakawe\n",
      "Processing Record 428 of Set 1 | altagracia de orituco\n",
      "Processing Record 429 of Set 1 | antalaha\n",
      "Processing Record 430 of Set 1 | asau\n",
      "Processing Record 431 of Set 1 | bull savanna\n",
      "Processing Record 432 of Set 1 | kruisfontein\n",
      "Processing Record 433 of Set 1 | moose factory\n",
      "Processing Record 434 of Set 1 | srednekolymsk\n",
      "Processing Record 435 of Set 1 | asyut\n",
      "The city, louisbourg, was not found. Skipping...\n",
      "Processing Record 437 of Set 1 | nouadhibou\n",
      "Processing Record 438 of Set 1 | palanga\n",
      "Processing Record 439 of Set 1 | harper\n",
      "Processing Record 440 of Set 1 | winslow\n",
      "Processing Record 441 of Set 1 | ngunguru\n",
      "Processing Record 442 of Set 1 | kulhudhuffushi\n",
      "Processing Record 443 of Set 1 | adrar\n",
      "Processing Record 444 of Set 1 | tabligbo\n",
      "Processing Record 445 of Set 1 | ankang\n",
      "Processing Record 446 of Set 1 | vila franca do campo\n",
      "Processing Record 447 of Set 1 | scarborough\n",
      "Processing Record 448 of Set 1 | savonlinna\n",
      "Processing Record 449 of Set 1 | naze\n",
      "Processing Record 450 of Set 1 | macroom\n",
      "Processing Record 451 of Set 1 | bereda\n",
      "Processing Record 452 of Set 1 | klaksvik\n",
      "Processing Record 453 of Set 1 | salamiyah\n",
      "Processing Record 454 of Set 1 | laguna\n",
      "Processing Record 455 of Set 1 | vaxjo\n",
      "The city, hvammstangi, was not found. Skipping...\n",
      "Processing Record 457 of Set 1 | genhe\n",
      "The city, tungkang, was not found. Skipping...\n",
      "Processing Record 459 of Set 1 | binabalian\n",
      "Processing Record 460 of Set 1 | airai\n",
      "Processing Record 461 of Set 1 | las vegas\n",
      "Processing Record 462 of Set 1 | ahuimanu\n",
      "Processing Record 463 of Set 1 | sobolevo\n",
      "Processing Record 464 of Set 1 | pittsburg\n",
      "Processing Record 465 of Set 1 | itoman\n",
      "Processing Record 466 of Set 1 | salaverry\n",
      "Processing Record 467 of Set 1 | pascagoula\n",
      "Processing Record 468 of Set 1 | nalut\n",
      "Processing Record 469 of Set 1 | tuatapere\n",
      "Processing Record 470 of Set 1 | hof\n",
      "Processing Record 471 of Set 1 | belmonte\n",
      "Processing Record 472 of Set 1 | zandvoort\n",
      "Processing Record 473 of Set 1 | dasuya\n",
      "Processing Record 474 of Set 1 | minatitlan\n",
      "Processing Record 475 of Set 1 | geraldton\n",
      "Processing Record 476 of Set 1 | hargeysa\n",
      "Processing Record 477 of Set 1 | caldwell\n",
      "Processing Record 478 of Set 1 | muhos\n",
      "Processing Record 479 of Set 1 | flin flon\n",
      "Processing Record 480 of Set 1 | ulaanbaatar\n",
      "Processing Record 481 of Set 1 | ha tinh\n",
      "Processing Record 482 of Set 1 | saint anthony\n",
      "Processing Record 483 of Set 1 | nome\n",
      "Processing Record 484 of Set 1 | sao jose da coroa grande\n",
      "Processing Record 485 of Set 1 | pokosnoye\n",
      "Processing Record 486 of Set 1 | nuuk\n",
      "Processing Record 487 of Set 1 | sumbe\n",
      "Processing Record 488 of Set 1 | san patricio\n",
      "Processing Record 489 of Set 1 | petauke\n",
      "Processing Record 490 of Set 1 | diamantino\n",
      "Processing Record 491 of Set 1 | korla\n",
      "Processing Record 492 of Set 1 | kutum\n",
      "Processing Record 493 of Set 1 | porto nacional\n",
      "Processing Record 494 of Set 1 | takoradi\n",
      "Processing Record 495 of Set 1 | padang\n",
      "Processing Record 496 of Set 1 | osakarovka\n",
      "Processing Record 497 of Set 1 | sioux lookout\n",
      "Processing Record 498 of Set 1 | rosetta\n",
      "Processing Record 499 of Set 1 | gambissara\n",
      "Processing Record 500 of Set 1 | tupaciguara\n",
      "Processing Record 501 of Set 1 | bien hoa\n",
      "Processing Record 502 of Set 1 | harij\n",
      "Processing Record 503 of Set 1 | hokitika\n",
      "Processing Record 504 of Set 1 | yumen\n",
      "Processing Record 505 of Set 1 | ndola\n",
      "Processing Record 506 of Set 1 | touba\n",
      "Processing Record 507 of Set 1 | copiapo\n",
      "Processing Record 508 of Set 1 | iqaluit\n",
      "Processing Record 509 of Set 1 | requena\n",
      "Processing Record 510 of Set 1 | saint-francois\n",
      "Processing Record 511 of Set 1 | ercis\n",
      "Processing Record 512 of Set 1 | vao\n",
      "Processing Record 513 of Set 1 | pangnirtung\n",
      "Processing Record 514 of Set 1 | kovernino\n",
      "The city, perustica, was not found. Skipping...\n",
      "Processing Record 516 of Set 1 | mitu\n",
      "Processing Record 517 of Set 1 | chapais\n",
      "Processing Record 518 of Set 1 | zhangjiakou\n",
      "Processing Record 519 of Set 1 | prichard\n",
      "Processing Record 520 of Set 1 | kyzyl-suu\n",
      "Processing Record 521 of Set 1 | banda aceh\n",
      "Processing Record 522 of Set 1 | negombo\n",
      "Processing Record 523 of Set 1 | cadereyta\n",
      "Processing Record 524 of Set 1 | kalmunai\n",
      "Processing Record 525 of Set 1 | synya\n",
      "Processing Record 526 of Set 1 | lambari\n",
      "Processing Record 527 of Set 1 | pangoa\n",
      "Processing Record 528 of Set 1 | tagusao\n",
      "Processing Record 529 of Set 1 | chitose\n",
      "Processing Record 530 of Set 1 | sal rei\n",
      "Processing Record 531 of Set 1 | hukuntsi\n",
      "The city, wulanhaote, was not found. Skipping...\n",
      "Processing Record 533 of Set 1 | hami\n",
      "Processing Record 534 of Set 1 | katobu\n",
      "Processing Record 535 of Set 1 | valparaiso\n",
      "Processing Record 536 of Set 1 | simpang\n",
      "Processing Record 537 of Set 1 | roma\n",
      "Processing Record 538 of Set 1 | hanstholm\n",
      "Processing Record 539 of Set 1 | atherton\n",
      "Processing Record 540 of Set 1 | weatherford\n",
      "Processing Record 541 of Set 1 | san juan\n",
      "Processing Record 542 of Set 1 | urumqi\n",
      "Processing Record 543 of Set 1 | puerto del rosario\n",
      "The city, makung, was not found. Skipping...\n",
      "Processing Record 545 of Set 1 | atar\n",
      "Processing Record 546 of Set 1 | lindi\n",
      "Processing Record 547 of Set 1 | hakodate\n",
      "Processing Record 548 of Set 1 | lasa\n",
      "Processing Record 549 of Set 1 | namatanai\n",
      "Processing Record 550 of Set 1 | okhotsk\n",
      "Processing Record 551 of Set 1 | nanortalik\n",
      "Processing Record 552 of Set 1 | burnie\n",
      "Processing Record 553 of Set 1 | moussoro\n",
      "Processing Record 554 of Set 1 | tahta\n",
      "Processing Record 555 of Set 1 | namibe\n",
      "Processing Record 556 of Set 1 | manadhoo\n",
      "Processing Record 557 of Set 1 | kaohsiung\n",
      "Processing Record 558 of Set 1 | buala\n",
      "Processing Record 559 of Set 1 | acheng\n",
      "Processing Record 560 of Set 1 | huarmey\n",
      "Processing Record 561 of Set 1 | aswan\n",
      "Processing Record 562 of Set 1 | husavik\n",
      "The city, satitoa, was not found. Skipping...\n",
      "Processing Record 564 of Set 1 | kapoeta\n",
      "Processing Record 565 of Set 1 | solnechnyy\n",
      "Processing Record 566 of Set 1 | dingle\n",
      "Processing Record 567 of Set 1 | veraval\n",
      "The city, rungata, was not found. Skipping...\n",
      "Processing Record 569 of Set 1 | tucuman\n",
      "Processing Record 570 of Set 1 | samarai\n",
      "Processing Record 571 of Set 1 | khartoum\n",
      "Processing Record 572 of Set 1 | aklavik\n",
      "Processing Record 573 of Set 1 | jha jha\n",
      "Processing Record 574 of Set 1 | yining\n",
      "Processing Record 575 of Set 1 | sagua la grande\n",
      "Processing Record 576 of Set 1 | laem sing\n",
      "Processing Record 577 of Set 1 | aleksandrovsk-sakhalinskiy\n"
     ]
    },
    {
     "name": "stdout",
     "output_type": "stream",
     "text": [
      "Processing Record 578 of Set 1 | ranong\n",
      "Processing Record 579 of Set 1 | usinsk\n",
      "Processing Record 580 of Set 1 | grindavik\n",
      "Processing Record 581 of Set 1 | port hawkesbury\n",
      "Processing Record 582 of Set 1 | porbandar\n",
      "The city, rawannawi, was not found. Skipping...\n",
      "Processing Record 584 of Set 1 | port augusta\n",
      "Processing Record 585 of Set 1 | skegness\n",
      "Processing Record 586 of Set 1 | alibunar\n",
      "Processing Record 587 of Set 1 | milkovo\n",
      "Processing Record 588 of Set 1 | cervo\n",
      "Processing Record 589 of Set 1 | chimbote\n",
      "Processing Record 590 of Set 1 | general roca\n",
      "Processing Record 591 of Set 1 | kurchum\n",
      "Processing Record 592 of Set 1 | rio gallegos\n",
      "Processing Record 593 of Set 1 | jabinyanah\n",
      "Processing Record 594 of Set 1 | longfeng\n",
      "Processing Record 595 of Set 1 | tall kayf\n",
      "Processing Record 596 of Set 1 | trairi\n",
      "Processing Record 597 of Set 1 | terney\n",
      "The city, kazalinsk, was not found. Skipping...\n",
      "Processing Record 599 of Set 1 | mandera\n",
      "Processing Record 600 of Set 1 | yenangyaung\n",
      "Processing Record 601 of Set 1 | kalengwa\n",
      "Processing Record 602 of Set 1 | kabompo\n",
      "Processing Record 603 of Set 1 | north ogden\n",
      "Processing Record 604 of Set 1 | tomatlan\n",
      "Processing Record 605 of Set 1 | marzuq\n",
      "Processing Record 606 of Set 1 | auki\n",
      "Processing Record 607 of Set 1 | luanda\n",
      "Processing Record 608 of Set 1 | esmeraldas\n",
      "Processing Record 609 of Set 1 | manaus\n"
     ]
    }
   ],
   "source": [
    "#empty lists to store info\n",
    "usedLats=[]\n",
    "usedLngs=[]\n",
    "maxTemp=[]\n",
    "humidity=[]\n",
    "cloudiness=[]\n",
    "windSpeed=[]\n",
    "country=[]\n",
    "date=[]\n",
    "usedCities=[]\n",
    "\n",
    "# Set up API call information\n",
    "url = \"http://api.openweathermap.org/data/2.5/weather?\"\n",
    "units = \"imperial\"\n",
    "query_url = f\"{url}appid={weather_api_key}&units={units}&q=\"\n",
    "\n",
    "\n",
    "print(\"Beginning Data Retrieval\")\n",
    "print(\"-------------------------------\")\n",
    "\n",
    "#iterate through each city\n",
    "for city in cities:\n",
    "    \n",
    "    #send the request\n",
    "    response = requests.get(query_url + city).json()\n",
    "    \n",
    "    #track record number\n",
    "    recordNum=cities.index(city)+1  \n",
    "    \n",
    "    try: \n",
    "        #append info to corresponding list above\n",
    "        usedLats.append(response['coord']['lat'])\n",
    "        usedLngs.append(response['coord']['lon'])\n",
    "        maxTemp.append(response['main']['temp_max'])     \n",
    "        humidity.append(response['main']['humidity'])\n",
    "        cloudiness.append(response['clouds']['all'])\n",
    "        windSpeed.append(response['wind']['speed'])\n",
    "        country.append(response['sys']['country'])\n",
    "        date.append(response['dt'])\n",
    "        usedCities.append(city)\n",
    "        \n",
    "        #print to make it known it was successful\n",
    "        print(f\"Processing Record {recordNum} of Set 1 | {city}\")\n",
    "        \n",
    "    except:\n",
    "        #if unable to retrieve some info, show skipping message\n",
    "        print(f\"The city, {city}, was not found. Skipping...\")    \n",
    "        \n"
   ]
  },
  {
   "cell_type": "markdown",
   "metadata": {},
   "source": [
    "### Convert Raw Data to DataFrame\n",
    "* Export the city data into a .csv\n",
    "* Display the DataFrame"
   ]
  },
  {
   "cell_type": "code",
   "execution_count": 5,
   "metadata": {},
   "outputs": [
    {
     "data": {
      "text/html": [
       "<div>\n",
       "<style scoped>\n",
       "    .dataframe tbody tr th:only-of-type {\n",
       "        vertical-align: middle;\n",
       "    }\n",
       "\n",
       "    .dataframe tbody tr th {\n",
       "        vertical-align: top;\n",
       "    }\n",
       "\n",
       "    .dataframe thead th {\n",
       "        text-align: right;\n",
       "    }\n",
       "</style>\n",
       "<table border=\"1\" class=\"dataframe\">\n",
       "  <thead>\n",
       "    <tr style=\"text-align: right;\">\n",
       "      <th></th>\n",
       "      <th>City</th>\n",
       "      <th>Lat</th>\n",
       "      <th>Lng</th>\n",
       "      <th>Max Temp</th>\n",
       "      <th>Humidity</th>\n",
       "      <th>Cloudiness</th>\n",
       "      <th>Wind Speed</th>\n",
       "      <th>Country</th>\n",
       "      <th>Date</th>\n",
       "    </tr>\n",
       "  </thead>\n",
       "  <tbody>\n",
       "    <tr>\n",
       "      <th>0</th>\n",
       "      <td>methoni</td>\n",
       "      <td>36.8197</td>\n",
       "      <td>21.7049</td>\n",
       "      <td>81.21</td>\n",
       "      <td>62</td>\n",
       "      <td>0</td>\n",
       "      <td>5.66</td>\n",
       "      <td>GR</td>\n",
       "      <td>1627248070</td>\n",
       "    </tr>\n",
       "    <tr>\n",
       "      <th>1</th>\n",
       "      <td>popondetta</td>\n",
       "      <td>-8.7537</td>\n",
       "      <td>148.2534</td>\n",
       "      <td>72.77</td>\n",
       "      <td>96</td>\n",
       "      <td>100</td>\n",
       "      <td>1.59</td>\n",
       "      <td>PG</td>\n",
       "      <td>1627248071</td>\n",
       "    </tr>\n",
       "    <tr>\n",
       "      <th>2</th>\n",
       "      <td>busselton</td>\n",
       "      <td>-33.6500</td>\n",
       "      <td>115.3333</td>\n",
       "      <td>58.08</td>\n",
       "      <td>65</td>\n",
       "      <td>22</td>\n",
       "      <td>20.89</td>\n",
       "      <td>AU</td>\n",
       "      <td>1627248071</td>\n",
       "    </tr>\n",
       "    <tr>\n",
       "      <th>3</th>\n",
       "      <td>hermanus</td>\n",
       "      <td>-34.4187</td>\n",
       "      <td>19.2345</td>\n",
       "      <td>60.91</td>\n",
       "      <td>53</td>\n",
       "      <td>100</td>\n",
       "      <td>10.00</td>\n",
       "      <td>ZA</td>\n",
       "      <td>1627248072</td>\n",
       "    </tr>\n",
       "    <tr>\n",
       "      <th>4</th>\n",
       "      <td>oriximina</td>\n",
       "      <td>-1.7656</td>\n",
       "      <td>-55.8661</td>\n",
       "      <td>88.43</td>\n",
       "      <td>44</td>\n",
       "      <td>99</td>\n",
       "      <td>4.43</td>\n",
       "      <td>BR</td>\n",
       "      <td>1627248072</td>\n",
       "    </tr>\n",
       "  </tbody>\n",
       "</table>\n",
       "</div>"
      ],
      "text/plain": [
       "         City      Lat       Lng  Max Temp  Humidity  Cloudiness  Wind Speed  \\\n",
       "0     methoni  36.8197   21.7049     81.21        62           0        5.66   \n",
       "1  popondetta  -8.7537  148.2534     72.77        96         100        1.59   \n",
       "2   busselton -33.6500  115.3333     58.08        65          22       20.89   \n",
       "3    hermanus -34.4187   19.2345     60.91        53         100       10.00   \n",
       "4   oriximina  -1.7656  -55.8661     88.43        44          99        4.43   \n",
       "\n",
       "  Country        Date  \n",
       "0      GR  1627248070  \n",
       "1      PG  1627248071  \n",
       "2      AU  1627248071  \n",
       "3      ZA  1627248072  \n",
       "4      BR  1627248072  "
      ]
     },
     "execution_count": 5,
     "metadata": {},
     "output_type": "execute_result"
    }
   ],
   "source": [
    "#create data frame\n",
    "weatherPy=pd.DataFrame({\"City\":usedCities,\"Lat\":usedLats,\"Lng\":usedLngs,\"Max Temp\":maxTemp,\"Humidity\":humidity,\"Cloudiness\":cloudiness,\"Wind Speed\":windSpeed,\"Country\":country,\"Date\":date})\n",
    "\n",
    "#export to a CSV file\n",
    "weatherPy.to_csv(\"Weather_Data.csv\", encoding=\"utf-8\", index=False)\n",
    "\n",
    "#display first 5 in data frame\n",
    "weatherPy.head()"
   ]
  },
  {
   "cell_type": "code",
   "execution_count": 6,
   "metadata": {},
   "outputs": [
    {
     "data": {
      "text/html": [
       "<div>\n",
       "<style scoped>\n",
       "    .dataframe tbody tr th:only-of-type {\n",
       "        vertical-align: middle;\n",
       "    }\n",
       "\n",
       "    .dataframe tbody tr th {\n",
       "        vertical-align: top;\n",
       "    }\n",
       "\n",
       "    .dataframe thead th {\n",
       "        text-align: right;\n",
       "    }\n",
       "</style>\n",
       "<table border=\"1\" class=\"dataframe\">\n",
       "  <thead>\n",
       "    <tr style=\"text-align: right;\">\n",
       "      <th></th>\n",
       "      <th>Lat</th>\n",
       "      <th>Lng</th>\n",
       "      <th>Max Temp</th>\n",
       "      <th>Humidity</th>\n",
       "      <th>Cloudiness</th>\n",
       "      <th>Wind Speed</th>\n",
       "      <th>Date</th>\n",
       "    </tr>\n",
       "  </thead>\n",
       "  <tbody>\n",
       "    <tr>\n",
       "      <th>count</th>\n",
       "      <td>568.000000</td>\n",
       "      <td>568.000000</td>\n",
       "      <td>568.000000</td>\n",
       "      <td>568.000000</td>\n",
       "      <td>568.000000</td>\n",
       "      <td>568.000000</td>\n",
       "      <td>5.680000e+02</td>\n",
       "    </tr>\n",
       "    <tr>\n",
       "      <th>mean</th>\n",
       "      <td>19.328104</td>\n",
       "      <td>15.704874</td>\n",
       "      <td>70.657324</td>\n",
       "      <td>68.843310</td>\n",
       "      <td>49.301056</td>\n",
       "      <td>7.784736</td>\n",
       "      <td>1.627248e+09</td>\n",
       "    </tr>\n",
       "    <tr>\n",
       "      <th>std</th>\n",
       "      <td>32.910448</td>\n",
       "      <td>90.247199</td>\n",
       "      <td>14.918341</td>\n",
       "      <td>21.637019</td>\n",
       "      <td>38.827923</td>\n",
       "      <td>5.198268</td>\n",
       "      <td>1.051107e+02</td>\n",
       "    </tr>\n",
       "    <tr>\n",
       "      <th>min</th>\n",
       "      <td>-54.800000</td>\n",
       "      <td>-179.166700</td>\n",
       "      <td>34.930000</td>\n",
       "      <td>5.000000</td>\n",
       "      <td>0.000000</td>\n",
       "      <td>0.000000</td>\n",
       "      <td>1.627247e+09</td>\n",
       "    </tr>\n",
       "    <tr>\n",
       "      <th>25%</th>\n",
       "      <td>-8.363300</td>\n",
       "      <td>-65.879725</td>\n",
       "      <td>59.047500</td>\n",
       "      <td>57.000000</td>\n",
       "      <td>6.000000</td>\n",
       "      <td>3.880000</td>\n",
       "      <td>1.627248e+09</td>\n",
       "    </tr>\n",
       "    <tr>\n",
       "      <th>50%</th>\n",
       "      <td>22.647300</td>\n",
       "      <td>19.637400</td>\n",
       "      <td>71.720000</td>\n",
       "      <td>74.000000</td>\n",
       "      <td>45.000000</td>\n",
       "      <td>6.910000</td>\n",
       "      <td>1.627248e+09</td>\n",
       "    </tr>\n",
       "    <tr>\n",
       "      <th>75%</th>\n",
       "      <td>46.419875</td>\n",
       "      <td>99.168250</td>\n",
       "      <td>80.935000</td>\n",
       "      <td>86.000000</td>\n",
       "      <td>90.000000</td>\n",
       "      <td>10.540000</td>\n",
       "      <td>1.627248e+09</td>\n",
       "    </tr>\n",
       "    <tr>\n",
       "      <th>max</th>\n",
       "      <td>78.218600</td>\n",
       "      <td>178.416700</td>\n",
       "      <td>106.430000</td>\n",
       "      <td>100.000000</td>\n",
       "      <td>100.000000</td>\n",
       "      <td>28.660000</td>\n",
       "      <td>1.627248e+09</td>\n",
       "    </tr>\n",
       "  </tbody>\n",
       "</table>\n",
       "</div>"
      ],
      "text/plain": [
       "              Lat         Lng    Max Temp    Humidity  Cloudiness  Wind Speed  \\\n",
       "count  568.000000  568.000000  568.000000  568.000000  568.000000  568.000000   \n",
       "mean    19.328104   15.704874   70.657324   68.843310   49.301056    7.784736   \n",
       "std     32.910448   90.247199   14.918341   21.637019   38.827923    5.198268   \n",
       "min    -54.800000 -179.166700   34.930000    5.000000    0.000000    0.000000   \n",
       "25%     -8.363300  -65.879725   59.047500   57.000000    6.000000    3.880000   \n",
       "50%     22.647300   19.637400   71.720000   74.000000   45.000000    6.910000   \n",
       "75%     46.419875   99.168250   80.935000   86.000000   90.000000   10.540000   \n",
       "max     78.218600  178.416700  106.430000  100.000000  100.000000   28.660000   \n",
       "\n",
       "               Date  \n",
       "count  5.680000e+02  \n",
       "mean   1.627248e+09  \n",
       "std    1.051107e+02  \n",
       "min    1.627247e+09  \n",
       "25%    1.627248e+09  \n",
       "50%    1.627248e+09  \n",
       "75%    1.627248e+09  \n",
       "max    1.627248e+09  "
      ]
     },
     "execution_count": 6,
     "metadata": {},
     "output_type": "execute_result"
    }
   ],
   "source": [
    "#show all stats available for data frame\n",
    "weatherPy.describe()"
   ]
  },
  {
   "cell_type": "markdown",
   "metadata": {},
   "source": [
    "## Inspect the data and remove the cities where the humidity > 100%.\n",
    "----\n"
   ]
  },
  {
   "cell_type": "code",
   "execution_count": 8,
   "metadata": {},
   "outputs": [
    {
     "data": {
      "text/html": [
       "<div>\n",
       "<style scoped>\n",
       "    .dataframe tbody tr th:only-of-type {\n",
       "        vertical-align: middle;\n",
       "    }\n",
       "\n",
       "    .dataframe tbody tr th {\n",
       "        vertical-align: top;\n",
       "    }\n",
       "\n",
       "    .dataframe thead th {\n",
       "        text-align: right;\n",
       "    }\n",
       "</style>\n",
       "<table border=\"1\" class=\"dataframe\">\n",
       "  <thead>\n",
       "    <tr style=\"text-align: right;\">\n",
       "      <th></th>\n",
       "      <th>index</th>\n",
       "      <th>City</th>\n",
       "      <th>Lat</th>\n",
       "      <th>Lng</th>\n",
       "      <th>Max Temp</th>\n",
       "      <th>Humidity</th>\n",
       "      <th>Cloudiness</th>\n",
       "      <th>Wind Speed</th>\n",
       "      <th>Country</th>\n",
       "      <th>Date</th>\n",
       "    </tr>\n",
       "  </thead>\n",
       "  <tbody>\n",
       "    <tr>\n",
       "      <th>0</th>\n",
       "      <td>69</td>\n",
       "      <td>chute-aux-outardes</td>\n",
       "      <td>49.1168</td>\n",
       "      <td>-68.3990</td>\n",
       "      <td>66.51</td>\n",
       "      <td>100</td>\n",
       "      <td>90</td>\n",
       "      <td>9.22</td>\n",
       "      <td>CA</td>\n",
       "      <td>1627248100</td>\n",
       "    </tr>\n",
       "    <tr>\n",
       "      <th>1</th>\n",
       "      <td>126</td>\n",
       "      <td>quimper</td>\n",
       "      <td>48.0000</td>\n",
       "      <td>-4.1000</td>\n",
       "      <td>62.67</td>\n",
       "      <td>100</td>\n",
       "      <td>44</td>\n",
       "      <td>6.91</td>\n",
       "      <td>FR</td>\n",
       "      <td>1627248125</td>\n",
       "    </tr>\n",
       "    <tr>\n",
       "      <th>2</th>\n",
       "      <td>211</td>\n",
       "      <td>clyde river</td>\n",
       "      <td>70.4692</td>\n",
       "      <td>-68.5914</td>\n",
       "      <td>35.83</td>\n",
       "      <td>100</td>\n",
       "      <td>90</td>\n",
       "      <td>6.91</td>\n",
       "      <td>CA</td>\n",
       "      <td>1627248159</td>\n",
       "    </tr>\n",
       "    <tr>\n",
       "      <th>3</th>\n",
       "      <td>222</td>\n",
       "      <td>sri aman</td>\n",
       "      <td>1.2376</td>\n",
       "      <td>111.4621</td>\n",
       "      <td>75.25</td>\n",
       "      <td>100</td>\n",
       "      <td>75</td>\n",
       "      <td>1.14</td>\n",
       "      <td>MY</td>\n",
       "      <td>1627248165</td>\n",
       "    </tr>\n",
       "    <tr>\n",
       "      <th>4</th>\n",
       "      <td>536</td>\n",
       "      <td>laem sing</td>\n",
       "      <td>12.4816</td>\n",
       "      <td>102.0738</td>\n",
       "      <td>79.95</td>\n",
       "      <td>99</td>\n",
       "      <td>100</td>\n",
       "      <td>10.36</td>\n",
       "      <td>TH</td>\n",
       "      <td>1627248306</td>\n",
       "    </tr>\n",
       "  </tbody>\n",
       "</table>\n",
       "</div>"
      ],
      "text/plain": [
       "   index                City      Lat       Lng  Max Temp  Humidity  \\\n",
       "0     69  chute-aux-outardes  49.1168  -68.3990     66.51       100   \n",
       "1    126             quimper  48.0000   -4.1000     62.67       100   \n",
       "2    211         clyde river  70.4692  -68.5914     35.83       100   \n",
       "3    222            sri aman   1.2376  111.4621     75.25       100   \n",
       "4    536           laem sing  12.4816  102.0738     79.95        99   \n",
       "\n",
       "   Cloudiness  Wind Speed Country        Date  \n",
       "0          90        9.22      CA  1627248100  \n",
       "1          44        6.91      FR  1627248125  \n",
       "2          90        6.91      CA  1627248159  \n",
       "3          75        1.14      MY  1627248165  \n",
       "4         100       10.36      TH  1627248306  "
      ]
     },
     "execution_count": 8,
     "metadata": {},
     "output_type": "execute_result"
    }
   ],
   "source": [
    "#upload from the CSV file\n",
    "weatherPyCSV=pd.read_csv('Weather_Data.csv')\n",
    "\n",
    "#sort value by humidity %\n",
    "weatherPyCSV=weatherPyCSV.sort_values(\"Humidity\", ascending=False).reset_index()\n",
    "weatherPyCSV.head()"
   ]
  },
  {
   "cell_type": "code",
   "execution_count": 9,
   "metadata": {},
   "outputs": [],
   "source": [
    "#  Get the indices of cities that have humidity over 100%.\n",
    "HumidityIndices=weatherPyCSV['City'].where(weatherPyCSV['Humidity'] > 100).to_frame(name='Humidity > 100')\n",
    "\n",
    "indexList=HumidityIndices.index[HumidityIndices['Humidity > 100'].notnull()].tolist()\n"
   ]
  },
  {
   "cell_type": "code",
   "execution_count": 10,
   "metadata": {},
   "outputs": [
    {
     "name": "stdout",
     "output_type": "stream",
     "text": [
      "There are no columns to drop\n"
     ]
    }
   ],
   "source": [
    "# Make a new DataFrame equal to the city data to drop all humidity outliers by index.\n",
    "# Passing \"inplace=False\" will make a copy of the city_data DataFrame, which we call \"clean_city_data\".\n",
    "if len(indexList)!=0:\n",
    "    print(f\"There are columns to drop: {indexList}\")\n",
    "    for x in indexList:\n",
    "        cleanWeatherPy=WeatherPyCSV.drop(indexList , inplace=False)\n",
    "else:\n",
    "    print(\"There are no columns to drop\")"
   ]
  },
  {
   "cell_type": "code",
   "execution_count": 12,
   "metadata": {},
   "outputs": [
    {
     "data": {
      "text/html": [
       "<div>\n",
       "<style scoped>\n",
       "    .dataframe tbody tr th:only-of-type {\n",
       "        vertical-align: middle;\n",
       "    }\n",
       "\n",
       "    .dataframe tbody tr th {\n",
       "        vertical-align: top;\n",
       "    }\n",
       "\n",
       "    .dataframe thead th {\n",
       "        text-align: right;\n",
       "    }\n",
       "</style>\n",
       "<table border=\"1\" class=\"dataframe\">\n",
       "  <thead>\n",
       "    <tr style=\"text-align: right;\">\n",
       "      <th></th>\n",
       "      <th>index</th>\n",
       "      <th>City</th>\n",
       "      <th>Lat</th>\n",
       "      <th>Lng</th>\n",
       "      <th>Max Temp</th>\n",
       "      <th>Humidity</th>\n",
       "      <th>Cloudiness</th>\n",
       "      <th>Wind Speed</th>\n",
       "      <th>Country</th>\n",
       "      <th>Date</th>\n",
       "    </tr>\n",
       "  </thead>\n",
       "  <tbody>\n",
       "    <tr>\n",
       "      <th>0</th>\n",
       "      <td>69</td>\n",
       "      <td>chute-aux-outardes</td>\n",
       "      <td>49.1168</td>\n",
       "      <td>-68.3990</td>\n",
       "      <td>66.51</td>\n",
       "      <td>100</td>\n",
       "      <td>90</td>\n",
       "      <td>9.22</td>\n",
       "      <td>CA</td>\n",
       "      <td>1627248100</td>\n",
       "    </tr>\n",
       "    <tr>\n",
       "      <th>1</th>\n",
       "      <td>126</td>\n",
       "      <td>quimper</td>\n",
       "      <td>48.0000</td>\n",
       "      <td>-4.1000</td>\n",
       "      <td>62.67</td>\n",
       "      <td>100</td>\n",
       "      <td>44</td>\n",
       "      <td>6.91</td>\n",
       "      <td>FR</td>\n",
       "      <td>1627248125</td>\n",
       "    </tr>\n",
       "    <tr>\n",
       "      <th>2</th>\n",
       "      <td>211</td>\n",
       "      <td>clyde river</td>\n",
       "      <td>70.4692</td>\n",
       "      <td>-68.5914</td>\n",
       "      <td>35.83</td>\n",
       "      <td>100</td>\n",
       "      <td>90</td>\n",
       "      <td>6.91</td>\n",
       "      <td>CA</td>\n",
       "      <td>1627248159</td>\n",
       "    </tr>\n",
       "    <tr>\n",
       "      <th>3</th>\n",
       "      <td>222</td>\n",
       "      <td>sri aman</td>\n",
       "      <td>1.2376</td>\n",
       "      <td>111.4621</td>\n",
       "      <td>75.25</td>\n",
       "      <td>100</td>\n",
       "      <td>75</td>\n",
       "      <td>1.14</td>\n",
       "      <td>MY</td>\n",
       "      <td>1627248165</td>\n",
       "    </tr>\n",
       "    <tr>\n",
       "      <th>4</th>\n",
       "      <td>536</td>\n",
       "      <td>laem sing</td>\n",
       "      <td>12.4816</td>\n",
       "      <td>102.0738</td>\n",
       "      <td>79.95</td>\n",
       "      <td>99</td>\n",
       "      <td>100</td>\n",
       "      <td>10.36</td>\n",
       "      <td>TH</td>\n",
       "      <td>1627248306</td>\n",
       "    </tr>\n",
       "  </tbody>\n",
       "</table>\n",
       "</div>"
      ],
      "text/plain": [
       "   index                City      Lat       Lng  Max Temp  Humidity  \\\n",
       "0     69  chute-aux-outardes  49.1168  -68.3990     66.51       100   \n",
       "1    126             quimper  48.0000   -4.1000     62.67       100   \n",
       "2    211         clyde river  70.4692  -68.5914     35.83       100   \n",
       "3    222            sri aman   1.2376  111.4621     75.25       100   \n",
       "4    536           laem sing  12.4816  102.0738     79.95        99   \n",
       "\n",
       "   Cloudiness  Wind Speed Country        Date  \n",
       "0          90        9.22      CA  1627248100  \n",
       "1          44        6.91      FR  1627248125  \n",
       "2          90        6.91      CA  1627248159  \n",
       "3          75        1.14      MY  1627248165  \n",
       "4         100       10.36      TH  1627248306  "
      ]
     },
     "execution_count": 12,
     "metadata": {},
     "output_type": "execute_result"
    }
   ],
   "source": [
    "#display cleaned data\n",
    "weatherPyCSV.head()"
   ]
  },
  {
   "cell_type": "markdown",
   "metadata": {},
   "source": [
    "# Plotting the Data"
   ]
  },
  {
   "cell_type": "markdown",
   "metadata": {},
   "source": [
    "## Latitude vs. Temperature Plot"
   ]
  },
  {
   "cell_type": "code",
   "execution_count": 14,
   "metadata": {
    "scrolled": true
   },
   "outputs": [
    {
     "data": {
      "text/plain": [
       "<matplotlib.collections.PathCollection at 0x14e20f58748>"
      ]
     },
     "execution_count": 14,
     "metadata": {},
     "output_type": "execute_result"
    },
    {
     "data": {
      "image/png": "[encoded data removed]",
      "text/plain": [
       "<Figure size 432x288 with 1 Axes>"
      ]
     },
     "metadata": {
      "needs_background": "light"
     },
     "output_type": "display_data"
    }
   ],
   "source": [
    "plt.title(\"City Latitude vs. Max Temperature (10/27/2020)\")\n",
    "plt.xlabel(\"Latitude\")\n",
    "plt.ylabel(\"Max Temperature (F)\")\n",
    "plt.scatter(weatherPyCSV[\"Lat\"], weatherPyCSV[\"Max Temp\"], marker=\"o\", facecolors=\"blue\", edgecolors=\"black\")"
   ]
  },
  {
   "cell_type": "markdown",
   "metadata": {},
   "source": [
    "#### The above scatter plot shows latitude in relation to the location's Max temperature. We can see that the northern hemisphere\n",
    "#### (to the right of 0 on the latitude line) gets colder the futher north you get. Conversely, the southern hemisphere gets\n",
    "#### colder the further south you get from the equator."
   ]
  },
  {
   "cell_type": "markdown",
   "metadata": {},
   "source": [
    "## Latitude vs. Humidity Plot"
   ]
  },
  {
   "cell_type": "code",
   "execution_count": 15,
   "metadata": {},
   "outputs": [
    {
     "data": {
      "text/plain": [
       "<matplotlib.collections.PathCollection at 0x14e20fc4358>"
      ]
     },
     "execution_count": 15,
     "metadata": {},
     "output_type": "execute_result"
    },
    {
     "data": {
      "image/png": "[encoded data removed]",
      "text/plain": [
       "<Figure size 432x288 with 1 Axes>"
      ]
     },
     "metadata": {
      "needs_background": "light"
     },
     "output_type": "display_data"
    }
   ],
   "source": [
    "plt.title(\"City Latitude vs. Humidity (10/27/2020)\")\n",
    "plt.xlabel(\"Latitude\")\n",
    "plt.ylabel(\"Humidity (%)\")\n",
    "plt.scatter(weatherPyCSV[\"Lat\"], weatherPyCSV[\"Humidity\"], marker=\"o\", facecolors=\"blue\", edgecolors=\"black\")"
   ]
  },
  {
   "cell_type": "markdown",
   "metadata": {},
   "source": [
    "#### The above scatter plot shows latitude in relation to the location's humidity. There's little correlation, but there does seem\n",
    "#### to be many (visually more than 3/4of the data set) that have humidity higher than 50%. These locations are spread fairly evenly\n",
    "#### between the northern and southern hemispheres."
   ]
  },
  {
   "cell_type": "markdown",
   "metadata": {},
   "source": [
    "## Latitude vs. Cloudiness Plot"
   ]
  },
  {
   "cell_type": "code",
   "execution_count": 16,
   "metadata": {},
   "outputs": [
    {
     "data": {
      "text/plain": [
       "<matplotlib.collections.PathCollection at 0x14e210380b8>"
      ]
     },
     "execution_count": 16,
     "metadata": {},
     "output_type": "execute_result"
    },
    {
     "data": {
      "image/png": "[encoded data removed]",
      "text/plain": [
       "<Figure size 432x288 with 1 Axes>"
      ]
     },
     "metadata": {
      "needs_background": "light"
     },
     "output_type": "display_data"
    }
   ],
   "source": [
    "plt.title(\"City Latitude vs. Cloudiness (10/27/2020)\")\n",
    "plt.xlabel(\"Latitude\")\n",
    "plt.ylabel(\"Cloudiness (%)\")\n",
    "plt.scatter(weatherPyCSV[\"Lat\"], weatherPyCSV[\"Cloudiness\"], marker=\"o\", facecolors=\"blue\", edgecolors=\"black\")"
   ]
  },
  {
   "cell_type": "markdown",
   "metadata": {},
   "source": [
    "#### The above scatter plot show latitude in relation to cloudiness. There seems to be absolutely no relation between a location\n",
    "#### and the amount of cloudiness it received."
   ]
  },
  {
   "cell_type": "markdown",
   "metadata": {},
   "source": [
    "## Latitude vs. Wind Speed Plot"
   ]
  },
  {
   "cell_type": "code",
   "execution_count": 17,
   "metadata": {},
   "outputs": [
    {
     "data": {
      "text/plain": [
       "<matplotlib.collections.PathCollection at 0x14e21099748>"
      ]
     },
     "execution_count": 17,
     "metadata": {},
     "output_type": "execute_result"
    },
    {
     "data": {
      "image/png": "[encoded data removed]",
      "text/plain": [
       "<Figure size 432x288 with 1 Axes>"
      ]
     },
     "metadata": {
      "needs_background": "light"
     },
     "output_type": "display_data"
    }
   ],
   "source": [
    "plt.title(\"City Latitude vs. Wind Speed (10/27/2020)\")\n",
    "plt.xlabel(\"Latitude\")\n",
    "plt.ylabel(\"Wind Speed (mph)\")\n",
    "plt.scatter(weatherPyCSV[\"Lat\"], weatherPyCSV[\"Wind Speed\"], marker=\"o\", facecolors=\"blue\", edgecolors=\"black\")"
   ]
  },
  {
   "cell_type": "markdown",
   "metadata": {},
   "source": [
    "#### The above scatter plot shows latitude in relation to the locations wind speed (mph). There doesn't seem to be much relation\n",
    "#### for wind speed compared to location, however, visually it seems that more than 3/4 of the locations experience wind speeds of\n",
    "#### 15mph or less."
   ]
  },
  {
   "cell_type": "markdown",
   "metadata": {},
   "source": [
    "# Linear Regression"
   ]
  },
  {
   "cell_type": "code",
   "execution_count": 19,
   "metadata": {},
   "outputs": [],
   "source": [
    "northernDF=weatherPyCSV[weatherPyCSV[\"Lat\"]>=0]\n",
    "southernDF=weatherPyCSV[weatherPyCSV[\"Lat\"]<=0]"
   ]
  },
  {
   "cell_type": "markdown",
   "metadata": {},
   "source": [
    "##  Northern Hemisphere - Max Temp vs. Latitude Linear Regression"
   ]
  },
  {
   "cell_type": "code",
   "execution_count": 20,
   "metadata": {},
   "outputs": [
    {
     "name": "stdout",
     "output_type": "stream",
     "text": [
      "The r-value is: -0.6402173224571459\n"
     ]
    },
    {
     "data": {
      "image/png": "[encoded data removed]",
      "text/plain": [
       "<Figure size 432x288 with 1 Axes>"
      ]
     },
     "metadata": {
      "needs_background": "light"
     },
     "output_type": "display_data"
    }
   ],
   "source": [
    "plt.title(\"Northern Hemisphere: City Latitude vs. Max Temp (10/27/2020)\")\n",
    "plt.xlabel(\"Latitude\")\n",
    "plt.ylabel(\"Max Temp (F)\")\n",
    "(slope, intercept, rvalue, pvalue, stderr) = linregress(northernDF[\"Lat\"], northernDF[\"Max Temp\"])\n",
    "print(f\"The r-value is: {rvalue}\")\n",
    "regress_values = northernDF[\"Lat\"] * slope + intercept\n",
    "line_eq = \"y = \" + str(round(slope,2)) + \"x + \" + str(round(intercept,2))\n",
    "plt.scatter(northernDF[\"Lat\"], northernDF[\"Max Temp\"], marker=\"o\", facecolors=\"blue\", edgecolors=\"black\")\n",
    "plt.plot(northernDF[\"Lat\"],regress_values,\"r-\")\n",
    "plt.annotate(line_eq,(10,0),fontsize=15,color=\"red\")\n",
    "plt.show()"
   ]
  },
  {
   "cell_type": "markdown",
   "metadata": {},
   "source": [
    "##  Southern Hemisphere - Max Temp vs. Latitude Linear Regression"
   ]
  },
  {
   "cell_type": "code",
   "execution_count": 21,
   "metadata": {},
   "outputs": [
    {
     "name": "stdout",
     "output_type": "stream",
     "text": [
      "The r-value is: 0.7413783943405955\n"
     ]
    },
    {
     "data": {
      "image/png": "[encoded data removed]",
      "text/plain": [
       "<Figure size 432x288 with 1 Axes>"
      ]
     },
     "metadata": {
      "needs_background": "light"
     },
     "output_type": "display_data"
    }
   ],
   "source": [
    "plt.title(\"Southern Hemisphere: City Latitude vs. Max Temp (10/27/2020)\")\n",
    "plt.xlabel(\"Latitude\")\n",
    "plt.ylabel(\"Max Temp (F)\")\n",
    "(slope, intercept, rvalue, pvalue, stderr) = linregress(southernDF[\"Lat\"], southernDF[\"Max Temp\"])\n",
    "print(f\"The r-value is: {rvalue}\")\n",
    "regress_values = southernDF[\"Lat\"] * slope + intercept\n",
    "line_eq = \"y = \" + str(round(slope,2)) + \"x + \" + str(round(intercept,2))\n",
    "plt.scatter(southernDF[\"Lat\"], southernDF[\"Max Temp\"], marker=\"o\", facecolors=\"blue\", edgecolors=\"black\")\n",
    "plt.plot(southernDF[\"Lat\"],regress_values,\"r-\")\n",
    "plt.annotate(line_eq,(-55,85),fontsize=15,color=\"red\")\n",
    "plt.show()"
   ]
  },
  {
   "cell_type": "markdown",
   "metadata": {},
   "source": [
    "#### The above two scatter plots show the norther and southern hemispheres, respectively, compared to the max temp in each location.\n",
    "#### There is a relatively strong relation for each hemisphere and it's max temps, where northern hemisphere locations get colder\n",
    "#### further north, while the southern hemisphere has colder temps further south."
   ]
  },
  {
   "cell_type": "markdown",
   "metadata": {},
   "source": [
    "##  Northern Hemisphere - Humidity (%) vs. Latitude Linear Regression"
   ]
  },
  {
   "cell_type": "code",
   "execution_count": 22,
   "metadata": {},
   "outputs": [
    {
     "name": "stdout",
     "output_type": "stream",
     "text": [
      "The r-value is: 0.011614914856420445\n"
     ]
    },
    {
     "data": {
      "image/png": "[encoded data removed]",
      "text/plain": [
       "<Figure size 432x288 with 1 Axes>"
      ]
     },
     "metadata": {
      "needs_background": "light"
     },
     "output_type": "display_data"
    }
   ],
   "source": [
    "plt.title(\"Northern Hemisphere: City Latitude vs. Humidity (10/27/2020)\")\n",
    "plt.xlabel(\"Latitude\")\n",
    "plt.ylabel(\"Humidity (%)\")\n",
    "(slope, intercept, rvalue, pvalue, stderr) = linregress(northernDF[\"Lat\"], northernDF[\"Humidity\"])\n",
    "print(f\"The r-value is: {rvalue}\")\n",
    "regress_values = northernDF[\"Lat\"] * slope + intercept\n",
    "line_eq = \"y = \" + str(round(slope,2)) + \"x + \" + str(round(intercept,2))\n",
    "plt.scatter(northernDF[\"Lat\"], northernDF[\"Humidity\"], marker=\"o\", facecolors=\"blue\", edgecolors=\"black\")\n",
    "plt.plot(northernDF[\"Lat\"],regress_values,\"r-\")\n",
    "plt.annotate(line_eq,(45,10),fontsize=15,color=\"red\")\n",
    "plt.show()"
   ]
  },
  {
   "cell_type": "markdown",
   "metadata": {},
   "source": [
    "##  Southern Hemisphere - Humidity (%) vs. Latitude Linear Regression"
   ]
  },
  {
   "cell_type": "code",
   "execution_count": 23,
   "metadata": {},
   "outputs": [
    {
     "name": "stdout",
     "output_type": "stream",
     "text": [
      "The r-value is: 0.011148456191659247\n"
     ]
    },
    {
     "data": {
      "image/png": "[encoded data removed]",
      "text/plain": [
       "<Figure size 432x288 with 1 Axes>"
      ]
     },
     "metadata": {
      "needs_background": "light"
     },
     "output_type": "display_data"
    }
   ],
   "source": [
    "plt.title(\"Southern Hemisphere: City Latitude vs. Humidity (10/27/2020)\")\n",
    "plt.xlabel(\"Latitude\")\n",
    "plt.ylabel(\"Humidity (%)\")\n",
    "(slope, intercept, rvalue, pvalue, stderr) = linregress(southernDF[\"Lat\"], southernDF[\"Humidity\"])\n",
    "print(f\"The r-value is: {rvalue}\")\n",
    "regress_values = southernDF[\"Lat\"] * slope + intercept\n",
    "line_eq = \"y = \" + str(round(slope,2)) + \"x + \" + str(round(intercept,2))\n",
    "plt.scatter(southernDF[\"Lat\"], southernDF[\"Humidity\"], marker=\"o\", facecolors=\"blue\", edgecolors=\"black\")\n",
    "plt.plot(southernDF[\"Lat\"],regress_values,\"r-\")\n",
    "plt.annotate(line_eq,(-55,15),fontsize=15,color=\"red\")\n",
    "plt.show()"
   ]
  },
  {
   "cell_type": "markdown",
   "metadata": {},
   "source": [
    "#### The above two scatter plots show latitude vs humidity for both the northern and southern hemispheres. Neither hemisphere has\n",
    "#### a strong relation between the two, however, the southern hemisphere has  the vast majority of cities with humidity over 50%\n",
    "#### while the norther hemisphere has a lot more occurences of cities with humidity below 50% (however, the vast majority of  \n",
    "#### cities still have humidity over 50%).\n",
    " "
   ]
  },
  {
   "cell_type": "markdown",
   "metadata": {},
   "source": [
    "##  Northern Hemisphere - Cloudiness (%) vs. Latitude Linear Regression"
   ]
  },
  {
   "cell_type": "code",
   "execution_count": 24,
   "metadata": {},
   "outputs": [
    {
     "name": "stdout",
     "output_type": "stream",
     "text": [
      "The r-value is: -0.015236648392587893\n"
     ]
    },
    {
     "data": {
      "image/png": "[encoded data removed]",
      "text/plain": [
       "<Figure size 432x288 with 1 Axes>"
      ]
     },
     "metadata": {
      "needs_background": "light"
     },
     "output_type": "display_data"
    }
   ],
   "source": [
    "plt.title(\"Northern Hemisphere: City Latitude vs. Cloudiness (10/27/2020)\")\n",
    "plt.xlabel(\"Latitude\")\n",
    "plt.ylabel(\"Cloudiness (%)\")\n",
    "(slope, intercept, rvalue, pvalue, stderr) = linregress(northernDF[\"Lat\"], northernDF[\"Cloudiness\"])\n",
    "print(f\"The r-value is: {rvalue}\")\n",
    "regress_values = northernDF[\"Lat\"] * slope + intercept\n",
    "line_eq = \"y = \" + str(round(slope,2)) + \"x + \" + str(round(intercept,2))\n",
    "plt.scatter(northernDF[\"Lat\"], northernDF[\"Cloudiness\"], marker=\"o\", facecolors=\"blue\", edgecolors=\"black\")\n",
    "plt.plot(northernDF[\"Lat\"],regress_values,\"r-\")\n",
    "plt.annotate(line_eq,(15,25),fontsize=15,color=\"red\")\n",
    "plt.show()"
   ]
  },
  {
   "cell_type": "markdown",
   "metadata": {},
   "source": [
    "##  Southern Hemisphere - Cloudiness (%) vs. Latitude Linear Regression"
   ]
  },
  {
   "cell_type": "code",
   "execution_count": 25,
   "metadata": {},
   "outputs": [
    {
     "name": "stdout",
     "output_type": "stream",
     "text": [
      "The r-value is: 0.006035095986738265\n"
     ]
    },
    {
     "data": {
      "image/png": "[encoded data removed]",
      "text/plain": [
       "<Figure size 432x288 with 1 Axes>"
      ]
     },
     "metadata": {
      "needs_background": "light"
     },
     "output_type": "display_data"
    }
   ],
   "source": [
    "plt.title(\"Southern Hemisphere: City Latitude vs. Cloudiness (10/27/2020)\")\n",
    "plt.xlabel(\"Latitude\")\n",
    "plt.ylabel(\"Cloudiness (%)\")\n",
    "(slope, intercept, rvalue, pvalue, stderr) = linregress(southernDF[\"Lat\"], southernDF[\"Cloudiness\"])\n",
    "print(f\"The r-value is: {rvalue}\")\n",
    "regress_values = southernDF[\"Lat\"] * slope + intercept\n",
    "line_eq = \"y = \" + str(round(slope,2)) + \"x + \" + str(round(intercept,2))\n",
    "plt.scatter(southernDF[\"Lat\"], southernDF[\"Cloudiness\"], marker=\"o\", facecolors=\"blue\", edgecolors=\"black\")\n",
    "plt.plot(southernDF[\"Lat\"],regress_values,\"r-\")\n",
    "plt.annotate(line_eq,(-55,15),fontsize=15,color=\"red\")\n",
    "plt.show()"
   ]
  },
  {
   "cell_type": "markdown",
   "metadata": {},
   "source": [
    "#### The above two scatter plots show the relation between latitude and cloudiness for both the northern and southern hemispheres.\n",
    "#### There is little to no relationship between these two variables. The number of places with cloudiness greater than 50% seems \n",
    "#### to be balanced with the number of places with cloudiness less than 50%, and both are spread evenly over all latitudes."
   ]
  },
  {
   "cell_type": "markdown",
   "metadata": {},
   "source": [
    "##  Northern Hemisphere - Wind Speed (mph) vs. Latitude Linear Regression"
   ]
  },
  {
   "cell_type": "code",
   "execution_count": 26,
   "metadata": {},
   "outputs": [
    {
     "name": "stdout",
     "output_type": "stream",
     "text": [
      "The r-value is: -0.10852956752151927\n"
     ]
    },
    {
     "data": {
      "image/png": "[encoded data removed]",
      "text/plain": [
       "<Figure size 432x288 with 1 Axes>"
      ]
     },
     "metadata": {
      "needs_background": "light"
     },
     "output_type": "display_data"
    }
   ],
   "source": [
    "plt.title(\"Northern Hemisphere: City Latitude vs. Wind Speed (10/27/2020)\")\n",
    "plt.xlabel(\"Latitude\")\n",
    "plt.ylabel(\"Wind Speed (mph)\")\n",
    "(slope, intercept, rvalue, pvalue, stderr) = linregress(northernDF[\"Lat\"], northernDF[\"Wind Speed\"])\n",
    "print(f\"The r-value is: {rvalue}\")\n",
    "regress_values = northernDF[\"Lat\"] * slope + intercept\n",
    "line_eq = \"y = \" + str(round(slope,2)) + \"x + \" + str(round(intercept,2))\n",
    "plt.scatter(northernDF[\"Lat\"], northernDF[\"Wind Speed\"], marker=\"o\", facecolors=\"blue\", edgecolors=\"black\")\n",
    "plt.plot(northernDF[\"Lat\"],regress_values,\"r-\")\n",
    "plt.annotate(line_eq,(48,30),fontsize=15,color=\"red\")\n",
    "plt.show()"
   ]
  },
  {
   "cell_type": "markdown",
   "metadata": {},
   "source": [
    "##  Southern Hemisphere - Wind Speed (mph) vs. Latitude Linear Regression"
   ]
  },
  {
   "cell_type": "code",
   "execution_count": 27,
   "metadata": {},
   "outputs": [
    {
     "name": "stdout",
     "output_type": "stream",
     "text": [
      "The r-value is: -0.2472817451851475\n"
     ]
    },
    {
     "data": {
      "image/png": "[encoded data removed]",
      "text/plain": [
       "<Figure size 432x288 with 1 Axes>"
      ]
     },
     "metadata": {
      "needs_background": "light"
     },
     "output_type": "display_data"
    }
   ],
   "source": [
    "plt.title(\"Southern Hemisphere: City Latitude vs. Wind Speed (10/27/2020)\")\n",
    "plt.xlabel(\"Latitude\")\n",
    "plt.ylabel(\"Wind Speed (mph)\")\n",
    "(slope, intercept, rvalue, pvalue, stderr) = linregress(southernDF[\"Lat\"], southernDF[\"Wind Speed\"])\n",
    "print(f\"The r-value is: {rvalue}\")\n",
    "regress_values = southernDF[\"Lat\"] * slope + intercept\n",
    "line_eq = \"y = \" + str(round(slope,2)) + \"x + \" + str(round(intercept,2))\n",
    "plt.scatter(southernDF[\"Lat\"], southernDF[\"Wind Speed\"], marker=\"o\", facecolors=\"blue\", edgecolors=\"black\")\n",
    "plt.plot(southernDF[\"Lat\"],regress_values,\"r-\")\n",
    "plt.annotate(line_eq,(-55,25),fontsize=15,color=\"red\")\n",
    "plt.show()"
   ]
  },
  {
   "cell_type": "markdown",
   "metadata": {},
   "source": [
    "#### The above two scatter plots show the relationship between latitude and wind speed for the nothern and southern hemispheres.\n",
    "#### There doesn't seem to be a huge relation between the two for the northern or southern hemispheres, however but have a majority\n",
    "#### of locations with wind speed of 15mph or less. "
   ]
  },
  {
   "cell_type": "code",
   "execution_count": null,
   "metadata": {},
   "outputs": [],
   "source": []
  }
 ],
 "metadata": {
  "anaconda-cloud": {},
  "kernel_info": {
   "name": "python3"
  },
  "kernelspec": {
   "display_name": "Python [conda env:PythonData] *",
   "language": "python",
   "name": "conda-env-PythonData-py"
  },
  "language_info": {
   "codemirror_mode": {
    "name": "ipython",
    "version": 3
   },
   "file_extension": ".py",
   "mimetype": "text/x-python",
   "name": "python",
   "nbconvert_exporter": "python",
   "pygments_lexer": "ipython3",
   "version": "3.7.1"
  },
  "latex_envs": {
   "LaTeX_envs_menu_present": true,
   "autoclose": false,
   "autocomplete": true,
   "bibliofile": "biblio.bib",
   "cite_by": "apalike",
   "current_citInitial": 1,
   "eqLabelWithNumbers": true,
   "eqNumInitial": 1,
   "hotkeys": {
    "equation": "Ctrl-E",
    "itemize": "Ctrl-I"
   },
   "labels_anchors": false,
   "latex_user_defs": false,
   "report_style_numbering": false,
   "user_envs_cfg": false
  },
  "nteract": {
   "version": "0.12.3"
  }
 },
 "nbformat": 4,
 "nbformat_minor": 2
}
