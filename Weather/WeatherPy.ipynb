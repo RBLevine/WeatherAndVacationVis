{
 "cells": [
  {
   "cell_type": "markdown",
   "metadata": {},
   "source": [
    "# WeatherPy\n",
    "----\n",
    "\n",
    "#### Observations\n",
    "* 1. There is a strong correlation between latitude and max temp for both hemispheres. Northern hemisphere gets colder the further north you go from he equator while the southern hemisphere gets colder the further south you go from the equator.\n",
    "* 2. The vast majority of locations have a humidity percentage of over 50%. This has little to no reliance on latitude. \n",
    "* 3. The vast majority of locations have a wind speed of 15mph or less. This also has little to no reliance on latitude.\n",
    "* 4. Cloudiness is completely unaffected by the latitude of a location. "
   ]
  },
  {
   "cell_type": "code",
   "execution_count": 1,
   "metadata": {
    "scrolled": true
   },
   "outputs": [],
   "source": [
    "# Dependencies and Setup\n",
    "import matplotlib.pyplot as plt\n",
    "import pandas as pd\n",
    "import numpy as np\n",
    "import requests\n",
    "import time\n",
    "from scipy.stats import linregress\n",
    "\n",
    "# Import API key\n",
    "from api_keys import weather_api_key\n",
    "\n",
    "# Incorporate citipy to determine city based on latitude and longitude\n",
    "from citipy import citipy\n",
    "\n",
    "# Output File (CSV)\n",
    "output_data_file = \"output_data/cities.csv\"\n",
    "\n",
    "# Range of latitudes and longitudes\n",
    "lat_range = (-90, 90)\n",
    "lng_range = (-180, 180)"
   ]
  },
  {
   "cell_type": "markdown",
   "metadata": {},
   "source": [
    "## Generate Cities List"
   ]
  },
  {
   "cell_type": "code",
   "execution_count": 2,
   "metadata": {},
   "outputs": [
    {
     "data": {
      "text/plain": [
       "611"
      ]
     },
     "execution_count": 2,
     "metadata": {},
     "output_type": "execute_result"
    }
   ],
   "source": [
    "# List for holding lat_lngs and cities\n",
    "lat_lngs = []\n",
    "cities = []\n",
    "\n",
    "# Create a set of random lat and lng combinations\n",
    "lats = np.random.uniform(lat_range[0], lat_range[1], size=1500) #size should be 1500 in this and below\n",
    "lngs = np.random.uniform(lng_range[0], lng_range[1], size=1500)\n",
    "lat_lngs = zip(lats, lngs)\n",
    "\n",
    "# Identify nearest city for each lat, lng combination\n",
    "for lat_lng in lat_lngs:\n",
    "    city = citipy.nearest_city(lat_lng[0], lat_lng[1]).city_name\n",
    "    \n",
    "    # If statement that determines if the city is unique, then adds it to a our cities list (only if unique)\n",
    "    if city not in cities:\n",
    "        cities.append(city)\n",
    "\n",
    "# Print the city count to confirm sufficient count\n",
    "len(cities)"
   ]
  },
  {
   "cell_type": "markdown",
   "metadata": {},
   "source": [
    "### Perform API Calls\n",
    "* Perform a weather check on each city using a series of successive API calls.\n",
    "* Include a print log of each city as it'sbeing processed (with the city number and city name).\n"
   ]
  },
  {
   "cell_type": "code",
   "execution_count": 3,
   "metadata": {
    "scrolled": true
   },
   "outputs": [
    {
     "name": "stdout",
     "output_type": "stream",
     "text": [
      "Beginning Data Retrieval\n",
      "-------------------------------\n",
      "Processing Record 1 of Set 1 | rikitea\n",
      "Processing Record 2 of Set 1 | atuona\n",
      "The city, taolanaro, was not found. Skipping...\n",
      "Processing Record 4 of Set 1 | kabare\n",
      "Processing Record 5 of Set 1 | pemangkat\n",
      "Processing Record 6 of Set 1 | ribeira grande\n",
      "Processing Record 7 of Set 1 | svetlogorsk\n",
      "Processing Record 8 of Set 1 | sitka\n",
      "Processing Record 9 of Set 1 | gairo\n",
      "Processing Record 10 of Set 1 | bredasdorp\n",
      "Processing Record 11 of Set 1 | vaini\n",
      "Processing Record 12 of Set 1 | bolobo\n",
      "Processing Record 13 of Set 1 | san\n",
      "The city, amderma, was not found. Skipping...\n",
      "Processing Record 15 of Set 1 | samarai\n",
      "Processing Record 16 of Set 1 | vysokogornyy\n",
      "Processing Record 17 of Set 1 | cherskiy\n",
      "Processing Record 18 of Set 1 | avarua\n",
      "Processing Record 19 of Set 1 | tuktoyaktuk\n",
      "Processing Record 20 of Set 1 | rabak\n",
      "Processing Record 21 of Set 1 | visnes\n",
      "Processing Record 22 of Set 1 | kalabo\n",
      "Processing Record 23 of Set 1 | mataura\n",
      "Processing Record 24 of Set 1 | taoudenni\n",
      "Processing Record 25 of Set 1 | vardo\n",
      "Processing Record 26 of Set 1 | torbay\n",
      "Processing Record 27 of Set 1 | luanda\n",
      "Processing Record 28 of Set 1 | cape town\n",
      "The city, mys shmidta, was not found. Skipping...\n",
      "Processing Record 30 of Set 1 | ixtapa\n",
      "Processing Record 31 of Set 1 | hachinohe\n",
      "Processing Record 32 of Set 1 | esperance\n",
      "The city, meyungs, was not found. Skipping...\n",
      "The city, yanchukan, was not found. Skipping...\n",
      "Processing Record 35 of Set 1 | mar del plata\n",
      "Processing Record 36 of Set 1 | coihaique\n",
      "Processing Record 37 of Set 1 | lebu\n",
      "Processing Record 38 of Set 1 | jamestown\n",
      "Processing Record 39 of Set 1 | zwedru\n",
      "Processing Record 40 of Set 1 | oriximina\n",
      "Processing Record 41 of Set 1 | albion\n",
      "Processing Record 42 of Set 1 | urumqi\n",
      "Processing Record 43 of Set 1 | saskylakh\n",
      "Processing Record 44 of Set 1 | las vegas\n",
      "Processing Record 45 of Set 1 | jizan\n",
      "Processing Record 46 of Set 1 | kaitangata\n",
      "Processing Record 47 of Set 1 | butaritari\n",
      "Processing Record 48 of Set 1 | turmalina\n",
      "Processing Record 49 of Set 1 | saint-augustin\n",
      "Processing Record 50 of Set 1 | dunedin\n",
      "Processing Record 51 of Set 1 | pisco\n",
      "The city, sentyabrskiy, was not found. Skipping...\n",
      "Processing Record 53 of Set 1 | smithers\n",
      "Processing Record 54 of Set 1 | veraval\n",
      "Processing Record 55 of Set 1 | nicoya\n",
      "Processing Record 56 of Set 1 | vostok\n",
      "Processing Record 57 of Set 1 | alofi\n",
      "Processing Record 58 of Set 1 | yumen\n",
      "Processing Record 59 of Set 1 | westport\n",
      "Processing Record 60 of Set 1 | albany\n",
      "Processing Record 61 of Set 1 | punta arenas\n",
      "Processing Record 62 of Set 1 | qaanaaq\n",
      "The city, barentsburg, was not found. Skipping...\n",
      "Processing Record 64 of Set 1 | port alfred\n",
      "Processing Record 65 of Set 1 | ushuaia\n",
      "Processing Record 66 of Set 1 | laviana\n",
      "Processing Record 67 of Set 1 | shimoda\n",
      "Processing Record 68 of Set 1 | busselton\n",
      "Processing Record 69 of Set 1 | tevaitoa\n",
      "Processing Record 70 of Set 1 | balkhash\n",
      "Processing Record 71 of Set 1 | whyalla\n",
      "Processing Record 72 of Set 1 | san cristobal\n",
      "The city, illoqqortoormiut, was not found. Skipping...\n",
      "Processing Record 74 of Set 1 | hithadhoo\n",
      "Processing Record 75 of Set 1 | puerto ayora\n",
      "Processing Record 76 of Set 1 | norman wells\n",
      "Processing Record 77 of Set 1 | yellowknife\n",
      "Processing Record 78 of Set 1 | itaituba\n",
      "Processing Record 79 of Set 1 | pilar\n",
      "The city, grand river south east, was not found. Skipping...\n",
      "Processing Record 81 of Set 1 | ossora\n",
      "Processing Record 82 of Set 1 | yeppoon\n",
      "Processing Record 83 of Set 1 | varnamo\n",
      "Processing Record 84 of Set 1 | petropavlovsk-kamchatskiy\n",
      "Processing Record 85 of Set 1 | necochea\n",
      "Processing Record 86 of Set 1 | padang\n",
      "Processing Record 87 of Set 1 | castro\n",
      "Processing Record 88 of Set 1 | tikrit\n",
      "Processing Record 89 of Set 1 | sinegorskiy\n",
      "Processing Record 90 of Set 1 | arkhara\n",
      "Processing Record 91 of Set 1 | provideniya\n",
      "Processing Record 92 of Set 1 | bathsheba\n",
      "Processing Record 93 of Set 1 | pevek\n",
      "Processing Record 94 of Set 1 | usinsk\n",
      "Processing Record 95 of Set 1 | hermanus\n",
      "Processing Record 96 of Set 1 | goundam\n",
      "Processing Record 97 of Set 1 | athabasca\n",
      "Processing Record 98 of Set 1 | georgetown\n",
      "Processing Record 99 of Set 1 | hofn\n",
      "Processing Record 100 of Set 1 | tura\n",
      "Processing Record 101 of Set 1 | ahuimanu\n",
      "Processing Record 102 of Set 1 | itarema\n",
      "Processing Record 103 of Set 1 | kahului\n",
      "The city, belushya guba, was not found. Skipping...\n",
      "Processing Record 105 of Set 1 | new norfolk\n",
      "Processing Record 106 of Set 1 | wattegama\n",
      "Processing Record 107 of Set 1 | east london\n",
      "Processing Record 108 of Set 1 | santiago\n",
      "Processing Record 109 of Set 1 | omboue\n",
      "The city, sorvag, was not found. Skipping...\n",
      "Processing Record 111 of Set 1 | bluff\n",
      "Processing Record 112 of Set 1 | bilma\n",
      "Processing Record 113 of Set 1 | sola\n",
      "Processing Record 114 of Set 1 | hobart\n",
      "Processing Record 115 of Set 1 | saint-philippe\n",
      "Processing Record 116 of Set 1 | cape canaveral\n",
      "Processing Record 117 of Set 1 | tuatapere\n",
      "Processing Record 118 of Set 1 | manokwari\n",
      "Processing Record 119 of Set 1 | pyapon\n",
      "Processing Record 120 of Set 1 | clyde river\n",
      "The city, kollumerland, was not found. Skipping...\n",
      "Processing Record 122 of Set 1 | koumac\n",
      "Processing Record 123 of Set 1 | mahebourg\n",
      "Processing Record 124 of Set 1 | grindavik\n",
      "Processing Record 125 of Set 1 | khatanga\n",
      "Processing Record 126 of Set 1 | imbituba\n",
      "Processing Record 127 of Set 1 | batagay-alyta\n",
      "Processing Record 128 of Set 1 | aksarka\n",
      "Processing Record 129 of Set 1 | nagua\n",
      "The city, kansay, was not found. Skipping...\n",
      "The city, vaitupu, was not found. Skipping...\n",
      "Processing Record 132 of Set 1 | servia\n",
      "Processing Record 133 of Set 1 | hilo\n",
      "Processing Record 134 of Set 1 | bambous virieux\n",
      "Processing Record 135 of Set 1 | nome\n",
      "Processing Record 136 of Set 1 | siniscola\n",
      "Processing Record 137 of Set 1 | el calvario\n",
      "Processing Record 138 of Set 1 | sao filipe\n",
      "Processing Record 139 of Set 1 | isangel\n",
      "Processing Record 140 of Set 1 | port lincoln\n",
      "Processing Record 141 of Set 1 | faanui\n",
      "Processing Record 142 of Set 1 | erdenet\n",
      "Processing Record 143 of Set 1 | eureka\n",
      "Processing Record 144 of Set 1 | raga\n",
      "Processing Record 145 of Set 1 | nikel\n",
      "Processing Record 146 of Set 1 | srednekolymsk\n",
      "Processing Record 147 of Set 1 | baturaja\n",
      "Processing Record 148 of Set 1 | okhotsk\n",
      "Processing Record 149 of Set 1 | bolshaya glushitsa\n",
      "Processing Record 150 of Set 1 | saint-louis\n",
      "Processing Record 151 of Set 1 | vestmannaeyjar\n",
      "Processing Record 152 of Set 1 | teguldet\n",
      "Processing Record 153 of Set 1 | san quintin\n",
      "Processing Record 154 of Set 1 | yei\n",
      "Processing Record 155 of Set 1 | palmer\n",
      "Processing Record 156 of Set 1 | karonga\n",
      "Processing Record 157 of Set 1 | san andres\n",
      "Processing Record 158 of Set 1 | talnakh\n",
      "Processing Record 159 of Set 1 | fukue\n",
      "The city, marcona, was not found. Skipping...\n",
      "Processing Record 161 of Set 1 | mae hong son\n",
      "The city, tsihombe, was not found. Skipping...\n",
      "Processing Record 163 of Set 1 | fort saint james\n",
      "Processing Record 164 of Set 1 | salalah\n",
      "Processing Record 165 of Set 1 | ponta do sol\n",
      "Processing Record 166 of Set 1 | kenai\n",
      "Processing Record 167 of Set 1 | santiago del estero\n",
      "Processing Record 168 of Set 1 | ostrovnoy\n",
      "Processing Record 169 of Set 1 | fairbanks\n",
      "Processing Record 170 of Set 1 | rorvik\n",
      "Processing Record 171 of Set 1 | kapaa\n",
      "Processing Record 172 of Set 1 | sur\n",
      "Processing Record 173 of Set 1 | hualmay\n",
      "Processing Record 174 of Set 1 | riyadh\n",
      "Processing Record 175 of Set 1 | ararat\n",
      "Processing Record 176 of Set 1 | koungou\n",
      "Processing Record 177 of Set 1 | cairns\n",
      "Processing Record 178 of Set 1 | leningradskiy\n",
      "Processing Record 179 of Set 1 | uspantan\n",
      "Processing Record 180 of Set 1 | oktyabrskiy\n",
      "Processing Record 181 of Set 1 | panvel\n",
      "Processing Record 182 of Set 1 | mangrol\n",
      "Processing Record 183 of Set 1 | cayenne\n",
      "Processing Record 184 of Set 1 | tomatlan\n",
      "Processing Record 185 of Set 1 | pacific grove\n",
      "Processing Record 186 of Set 1 | upernavik\n",
      "Processing Record 187 of Set 1 | nikolskoye\n",
      "Processing Record 188 of Set 1 | barabinsk\n",
      "The city, rungata, was not found. Skipping...\n",
      "Processing Record 190 of Set 1 | sorland\n",
      "Processing Record 191 of Set 1 | saldanha\n",
      "Processing Record 192 of Set 1 | halifax\n",
      "Processing Record 193 of Set 1 | dikson\n",
      "Processing Record 194 of Set 1 | nouakchott\n"
     ]
    },
    {
     "name": "stdout",
     "output_type": "stream",
     "text": [
      "Processing Record 195 of Set 1 | ust-ishim\n",
      "Processing Record 196 of Set 1 | adrar\n",
      "Processing Record 197 of Set 1 | ariquemes\n",
      "The city, doctor pedro p. pena, was not found. Skipping...\n",
      "Processing Record 199 of Set 1 | vanimo\n",
      "Processing Record 200 of Set 1 | pangoa\n",
      "Processing Record 201 of Set 1 | viedma\n",
      "Processing Record 202 of Set 1 | bata\n",
      "The city, fevralsk, was not found. Skipping...\n",
      "Processing Record 204 of Set 1 | barrow\n",
      "Processing Record 205 of Set 1 | los llanos de aridane\n",
      "Processing Record 206 of Set 1 | grand gaube\n",
      "Processing Record 207 of Set 1 | tasiilaq\n",
      "Processing Record 208 of Set 1 | santa cruz\n",
      "Processing Record 209 of Set 1 | souillac\n",
      "Processing Record 210 of Set 1 | havre-saint-pierre\n",
      "Processing Record 211 of Set 1 | katsuura\n",
      "Processing Record 212 of Set 1 | moron\n",
      "Processing Record 213 of Set 1 | zhuhai\n",
      "Processing Record 214 of Set 1 | beloha\n",
      "Processing Record 215 of Set 1 | touros\n",
      "Processing Record 216 of Set 1 | shitanjing\n",
      "Processing Record 217 of Set 1 | iqaluit\n",
      "Processing Record 218 of Set 1 | safut\n",
      "Processing Record 219 of Set 1 | malanje\n",
      "Processing Record 220 of Set 1 | nanortalik\n",
      "Processing Record 221 of Set 1 | kodiak\n",
      "Processing Record 222 of Set 1 | oudtshoorn\n",
      "Processing Record 223 of Set 1 | valdivia\n",
      "Processing Record 224 of Set 1 | port elizabeth\n",
      "Processing Record 225 of Set 1 | channagiri\n",
      "Processing Record 226 of Set 1 | umm lajj\n",
      "Processing Record 227 of Set 1 | tigil\n",
      "The city, attawapiskat, was not found. Skipping...\n",
      "Processing Record 229 of Set 1 | ilulissat\n",
      "Processing Record 230 of Set 1 | teknaf\n",
      "Processing Record 231 of Set 1 | wanning\n",
      "Processing Record 232 of Set 1 | batu\n",
      "Processing Record 233 of Set 1 | longyearbyen\n",
      "Processing Record 234 of Set 1 | najran\n",
      "Processing Record 235 of Set 1 | salinopolis\n",
      "Processing Record 236 of Set 1 | guerrero negro\n",
      "Processing Record 237 of Set 1 | karratha\n",
      "Processing Record 238 of Set 1 | hasaki\n",
      "Processing Record 239 of Set 1 | wajima\n",
      "Processing Record 240 of Set 1 | kruisfontein\n",
      "Processing Record 241 of Set 1 | skibbereen\n",
      "Processing Record 242 of Set 1 | rio grande\n",
      "Processing Record 243 of Set 1 | makat\n",
      "Processing Record 244 of Set 1 | sarankhola\n",
      "Processing Record 245 of Set 1 | ushirombo\n",
      "Processing Record 246 of Set 1 | rypefjord\n",
      "Processing Record 247 of Set 1 | yangcun\n",
      "Processing Record 248 of Set 1 | kapoeta\n",
      "Processing Record 249 of Set 1 | atar\n",
      "Processing Record 250 of Set 1 | pimentel\n",
      "Processing Record 251 of Set 1 | morlaix\n",
      "Processing Record 252 of Set 1 | marystown\n",
      "Processing Record 253 of Set 1 | luderitz\n",
      "Processing Record 254 of Set 1 | opuwo\n",
      "Processing Record 255 of Set 1 | honningsvag\n",
      "The city, tumannyy, was not found. Skipping...\n",
      "Processing Record 257 of Set 1 | buala\n",
      "The city, kuche, was not found. Skipping...\n",
      "Processing Record 259 of Set 1 | kirakira\n",
      "Processing Record 260 of Set 1 | namibe\n",
      "Processing Record 261 of Set 1 | ballina\n",
      "Processing Record 262 of Set 1 | gorin\n",
      "Processing Record 263 of Set 1 | stillwater\n",
      "Processing Record 264 of Set 1 | chokurdakh\n",
      "Processing Record 265 of Set 1 | rawson\n",
      "Processing Record 266 of Set 1 | panzhihua\n",
      "Processing Record 267 of Set 1 | chau doc\n",
      "The city, burica, was not found. Skipping...\n",
      "Processing Record 269 of Set 1 | ambilobe\n",
      "Processing Record 270 of Set 1 | ushtobe\n",
      "Processing Record 271 of Set 1 | bethel\n",
      "Processing Record 272 of Set 1 | annau\n",
      "Processing Record 273 of Set 1 | narsaq\n",
      "Processing Record 274 of Set 1 | cabo san lucas\n",
      "Processing Record 275 of Set 1 | bongandanga\n",
      "Processing Record 276 of Set 1 | payson\n",
      "Processing Record 277 of Set 1 | marsa matruh\n",
      "Processing Record 278 of Set 1 | victoria\n",
      "Processing Record 279 of Set 1 | puerto gaitan\n",
      "Processing Record 280 of Set 1 | rayong\n",
      "Processing Record 281 of Set 1 | quatre cocos\n",
      "Processing Record 282 of Set 1 | oistins\n",
      "Processing Record 283 of Set 1 | carnarvon\n",
      "Processing Record 284 of Set 1 | maceio\n",
      "Processing Record 285 of Set 1 | san patricio\n",
      "Processing Record 286 of Set 1 | pastavy\n",
      "The city, sento se, was not found. Skipping...\n",
      "Processing Record 288 of Set 1 | fortuna\n",
      "Processing Record 289 of Set 1 | saint george\n",
      "Processing Record 290 of Set 1 | marawi\n",
      "The city, milingimbi, was not found. Skipping...\n",
      "Processing Record 292 of Set 1 | ofunato\n",
      "Processing Record 293 of Set 1 | mitsamiouli\n",
      "Processing Record 294 of Set 1 | olpad\n",
      "Processing Record 295 of Set 1 | kutum\n",
      "Processing Record 296 of Set 1 | port hardy\n",
      "Processing Record 297 of Set 1 | mount gambier\n",
      "Processing Record 298 of Set 1 | namatanai\n",
      "Processing Record 299 of Set 1 | payakumbuh\n",
      "Processing Record 300 of Set 1 | nizhniy odes\n",
      "Processing Record 301 of Set 1 | soyo\n",
      "Processing Record 302 of Set 1 | statesboro\n",
      "Processing Record 303 of Set 1 | atambua\n",
      "Processing Record 304 of Set 1 | benguela\n",
      "Processing Record 305 of Set 1 | qujing\n",
      "Processing Record 306 of Set 1 | anadyr\n",
      "Processing Record 307 of Set 1 | hollola\n",
      "Processing Record 308 of Set 1 | solnechnyy\n",
      "Processing Record 309 of Set 1 | shingu\n",
      "Processing Record 310 of Set 1 | deputatskiy\n",
      "Processing Record 311 of Set 1 | cockburn town\n",
      "Processing Record 312 of Set 1 | tiksi\n",
      "Processing Record 313 of Set 1 | scarborough\n",
      "Processing Record 314 of Set 1 | lorengau\n",
      "Processing Record 315 of Set 1 | kununurra\n",
      "Processing Record 316 of Set 1 | ancud\n",
      "Processing Record 317 of Set 1 | chalmette\n",
      "Processing Record 318 of Set 1 | gushi\n",
      "Processing Record 319 of Set 1 | el alto\n",
      "Processing Record 320 of Set 1 | aquiraz\n",
      "Processing Record 321 of Set 1 | geraldton\n",
      "Processing Record 322 of Set 1 | gat\n",
      "Processing Record 323 of Set 1 | gap\n",
      "Processing Record 324 of Set 1 | hauterive\n",
      "Processing Record 325 of Set 1 | saint-joseph\n",
      "Processing Record 326 of Set 1 | amuntai\n",
      "Processing Record 327 of Set 1 | savyntsi\n",
      "Processing Record 328 of Set 1 | wicklow\n",
      "Processing Record 329 of Set 1 | am timan\n",
      "Processing Record 330 of Set 1 | chapleau\n",
      "Processing Record 331 of Set 1 | moree\n",
      "Processing Record 332 of Set 1 | camana\n",
      "Processing Record 333 of Set 1 | port keats\n",
      "Processing Record 334 of Set 1 | bani walid\n",
      "Processing Record 335 of Set 1 | lae\n",
      "The city, utiroa, was not found. Skipping...\n",
      "Processing Record 337 of Set 1 | aden\n",
      "Processing Record 338 of Set 1 | sangolqui\n",
      "Processing Record 339 of Set 1 | nevelsk\n",
      "Processing Record 340 of Set 1 | yulara\n",
      "Processing Record 341 of Set 1 | richards bay\n",
      "Processing Record 342 of Set 1 | lompoc\n",
      "Processing Record 343 of Set 1 | rio gallegos\n",
      "Processing Record 344 of Set 1 | porto novo\n",
      "Processing Record 345 of Set 1 | isetskoye\n",
      "Processing Record 346 of Set 1 | puerto real\n",
      "Processing Record 347 of Set 1 | nouadhibou\n",
      "Processing Record 348 of Set 1 | kyabe\n",
      "Processing Record 349 of Set 1 | pirot\n",
      "Processing Record 350 of Set 1 | gallipoli\n",
      "Processing Record 351 of Set 1 | chokwe\n",
      "Processing Record 352 of Set 1 | sawtell\n",
      "Processing Record 353 of Set 1 | sharkan\n",
      "Processing Record 354 of Set 1 | macas\n",
      "Processing Record 355 of Set 1 | olafsvik\n",
      "Processing Record 356 of Set 1 | mananara\n",
      "Processing Record 357 of Set 1 | dongying\n",
      "Processing Record 358 of Set 1 | aitape\n",
      "Processing Record 359 of Set 1 | the valley\n",
      "Processing Record 360 of Set 1 | mount isa\n",
      "Processing Record 361 of Set 1 | cardston\n",
      "Processing Record 362 of Set 1 | chapais\n",
      "Processing Record 363 of Set 1 | bilibino\n",
      "Processing Record 364 of Set 1 | bonfim\n",
      "Processing Record 365 of Set 1 | yokadouma\n",
      "Processing Record 366 of Set 1 | nemuro\n",
      "Processing Record 367 of Set 1 | arraial do cabo\n",
      "Processing Record 368 of Set 1 | jilib\n",
      "Processing Record 369 of Set 1 | kathmandu\n",
      "Processing Record 370 of Set 1 | waingapu\n",
      "Processing Record 371 of Set 1 | arrecife\n",
      "Processing Record 372 of Set 1 | morgan city\n",
      "Processing Record 373 of Set 1 | severo-kurilsk\n",
      "Processing Record 374 of Set 1 | bengkulu\n",
      "Processing Record 375 of Set 1 | berezovyy\n",
      "Processing Record 376 of Set 1 | tete\n",
      "Processing Record 377 of Set 1 | zhoucheng\n",
      "Processing Record 378 of Set 1 | klyuchi\n",
      "Processing Record 379 of Set 1 | biak\n",
      "Processing Record 380 of Set 1 | peniche\n",
      "Processing Record 381 of Set 1 | prince rupert\n",
      "Processing Record 382 of Set 1 | wagga wagga\n",
      "Processing Record 383 of Set 1 | ebbw vale\n",
      "Processing Record 384 of Set 1 | kamaishi\n",
      "Processing Record 385 of Set 1 | grande prairie\n",
      "Processing Record 386 of Set 1 | turan\n",
      "Processing Record 387 of Set 1 | greece\n",
      "Processing Record 388 of Set 1 | pedasi\n",
      "Processing Record 389 of Set 1 | seoul\n"
     ]
    },
    {
     "name": "stdout",
     "output_type": "stream",
     "text": [
      "Processing Record 390 of Set 1 | sarakhs\n",
      "Processing Record 391 of Set 1 | jurmala\n",
      "Processing Record 392 of Set 1 | constitucion\n",
      "Processing Record 393 of Set 1 | talara\n",
      "Processing Record 394 of Set 1 | hami\n",
      "Processing Record 395 of Set 1 | mocajuba\n",
      "Processing Record 396 of Set 1 | bulungu\n",
      "Processing Record 397 of Set 1 | asau\n",
      "Processing Record 398 of Set 1 | tobol\n",
      "Processing Record 399 of Set 1 | zapolyarnyy\n",
      "Processing Record 400 of Set 1 | port-gentil\n",
      "The city, karakendzha, was not found. Skipping...\n",
      "Processing Record 402 of Set 1 | kavieng\n",
      "Processing Record 403 of Set 1 | shelburne\n",
      "Processing Record 404 of Set 1 | barisal\n",
      "Processing Record 405 of Set 1 | menongue\n",
      "Processing Record 406 of Set 1 | kaupanger\n",
      "Processing Record 407 of Set 1 | batagay\n",
      "The city, saleaula, was not found. Skipping...\n",
      "Processing Record 409 of Set 1 | magistralnyy\n",
      "Processing Record 410 of Set 1 | khakhea\n",
      "Processing Record 411 of Set 1 | egvekinot\n",
      "Processing Record 412 of Set 1 | marsh harbour\n",
      "Processing Record 413 of Set 1 | alice springs\n",
      "Processing Record 414 of Set 1 | poum\n",
      "Processing Record 415 of Set 1 | virginia beach\n",
      "Processing Record 416 of Set 1 | sao joao da barra\n",
      "The city, yirol, was not found. Skipping...\n",
      "Processing Record 418 of Set 1 | pervomayskiy\n",
      "Processing Record 419 of Set 1 | robe\n",
      "Processing Record 420 of Set 1 | urdoma\n",
      "Processing Record 421 of Set 1 | ende\n",
      "The city, tarudant, was not found. Skipping...\n",
      "Processing Record 423 of Set 1 | caravelas\n",
      "Processing Record 424 of Set 1 | elat\n",
      "Processing Record 425 of Set 1 | alappuzha\n",
      "Processing Record 426 of Set 1 | aleksandrovka\n",
      "Processing Record 427 of Set 1 | pangnirtung\n",
      "Processing Record 428 of Set 1 | ambon\n",
      "Processing Record 429 of Set 1 | antiguo morelos\n",
      "Processing Record 430 of Set 1 | binzhou\n",
      "Processing Record 431 of Set 1 | chuy\n",
      "Processing Record 432 of Set 1 | maputo\n",
      "Processing Record 433 of Set 1 | huarmey\n",
      "Processing Record 434 of Set 1 | mecca\n",
      "Processing Record 435 of Set 1 | oneida\n",
      "Processing Record 436 of Set 1 | la colorada\n",
      "Processing Record 437 of Set 1 | togur\n",
      "Processing Record 438 of Set 1 | stornoway\n",
      "Processing Record 439 of Set 1 | sinnamary\n",
      "Processing Record 440 of Set 1 | korce\n",
      "The city, nepalganj, was not found. Skipping...\n",
      "Processing Record 442 of Set 1 | banjar\n",
      "Processing Record 443 of Set 1 | tacuati\n",
      "The city, dera din panah, was not found. Skipping...\n",
      "Processing Record 445 of Set 1 | saint-michel-des-saints\n",
      "Processing Record 446 of Set 1 | nanlong\n",
      "Processing Record 447 of Set 1 | ocampo\n",
      "Processing Record 448 of Set 1 | margate\n",
      "The city, samusu, was not found. Skipping...\n",
      "Processing Record 450 of Set 1 | robertsport\n",
      "Processing Record 451 of Set 1 | whitehorse\n",
      "Processing Record 452 of Set 1 | vao\n",
      "Processing Record 453 of Set 1 | maniitsoq\n",
      "The city, chelyabinsk-40, was not found. Skipping...\n",
      "Processing Record 455 of Set 1 | dongsheng\n",
      "The city, umzimvubu, was not found. Skipping...\n",
      "Processing Record 457 of Set 1 | russell\n",
      "Processing Record 458 of Set 1 | saurimo\n",
      "Processing Record 459 of Set 1 | harrismith\n",
      "Processing Record 460 of Set 1 | pavino\n",
      "The city, barbar, was not found. Skipping...\n",
      "Processing Record 462 of Set 1 | kushima\n",
      "Processing Record 463 of Set 1 | hurghada\n",
      "Processing Record 464 of Set 1 | afonso bezerra\n",
      "Processing Record 465 of Set 1 | rio verde de mato grosso\n",
      "Processing Record 466 of Set 1 | byron bay\n",
      "Processing Record 467 of Set 1 | denpasar\n",
      "Processing Record 468 of Set 1 | baker city\n",
      "The city, louisbourg, was not found. Skipping...\n",
      "Processing Record 470 of Set 1 | iquitos\n",
      "Processing Record 471 of Set 1 | usak\n",
      "Processing Record 472 of Set 1 | pangkalanbuun\n",
      "Processing Record 473 of Set 1 | jumla\n",
      "Processing Record 474 of Set 1 | varlamovo\n",
      "Processing Record 475 of Set 1 | kismayo\n",
      "Processing Record 476 of Set 1 | vila\n",
      "Processing Record 477 of Set 1 | lagoa\n",
      "Processing Record 478 of Set 1 | fomboni\n",
      "Processing Record 479 of Set 1 | volosovo\n",
      "Processing Record 480 of Set 1 | angoche\n",
      "Processing Record 481 of Set 1 | morro bay\n",
      "Processing Record 482 of Set 1 | coruripe\n",
      "Processing Record 483 of Set 1 | atasu\n",
      "Processing Record 484 of Set 1 | vartej\n",
      "Processing Record 485 of Set 1 | sioux lookout\n",
      "Processing Record 486 of Set 1 | nushki\n",
      "Processing Record 487 of Set 1 | okitipupa\n",
      "The city, xiangdong, was not found. Skipping...\n",
      "Processing Record 489 of Set 1 | mackay\n",
      "Processing Record 490 of Set 1 | naranjal\n",
      "Processing Record 491 of Set 1 | hovd\n",
      "Processing Record 492 of Set 1 | tevriz\n",
      "Processing Record 493 of Set 1 | laguna\n",
      "Processing Record 494 of Set 1 | victor harbor\n",
      "Processing Record 495 of Set 1 | rathangan\n",
      "Processing Record 496 of Set 1 | tezu\n",
      "Processing Record 497 of Set 1 | haines junction\n",
      "Processing Record 498 of Set 1 | kombissiri\n",
      "Processing Record 499 of Set 1 | sibolga\n",
      "Processing Record 500 of Set 1 | bosaso\n",
      "Processing Record 501 of Set 1 | shenjiamen\n",
      "Processing Record 502 of Set 1 | dudinka\n",
      "Processing Record 503 of Set 1 | karsava\n",
      "Processing Record 504 of Set 1 | port pirie\n",
      "Processing Record 505 of Set 1 | komsomolskiy\n",
      "Processing Record 506 of Set 1 | santa rosa\n",
      "Processing Record 507 of Set 1 | paragominas\n",
      "Processing Record 508 of Set 1 | loharu\n",
      "Processing Record 509 of Set 1 | nan\n",
      "Processing Record 510 of Set 1 | cermik\n",
      "Processing Record 511 of Set 1 | tadine\n",
      "Processing Record 512 of Set 1 | college\n",
      "Processing Record 513 of Set 1 | burhar\n",
      "Processing Record 514 of Set 1 | xochihuehuetlan\n",
      "Processing Record 515 of Set 1 | lixourion\n",
      "Processing Record 516 of Set 1 | teyateyaneng\n",
      "Processing Record 517 of Set 1 | lipari\n",
      "Processing Record 518 of Set 1 | jasper\n",
      "Processing Record 519 of Set 1 | taltal\n",
      "Processing Record 520 of Set 1 | shitkino\n",
      "Processing Record 521 of Set 1 | juegang\n",
      "Processing Record 522 of Set 1 | saint anthony\n",
      "Processing Record 523 of Set 1 | nantucket\n",
      "Processing Record 524 of Set 1 | qui nhon\n",
      "Processing Record 525 of Set 1 | kavarna\n",
      "The city, tidore, was not found. Skipping...\n",
      "Processing Record 527 of Set 1 | juneau\n",
      "Processing Record 528 of Set 1 | makakilo city\n",
      "Processing Record 529 of Set 1 | vila velha\n",
      "Processing Record 530 of Set 1 | linxia\n",
      "Processing Record 531 of Set 1 | mapiripan\n",
      "Processing Record 532 of Set 1 | mehamn\n",
      "Processing Record 533 of Set 1 | lata\n",
      "Processing Record 534 of Set 1 | hamilton\n",
      "The city, zolotinka, was not found. Skipping...\n",
      "Processing Record 536 of Set 1 | belaya gora\n",
      "Processing Record 537 of Set 1 | southbridge\n",
      "Processing Record 538 of Set 1 | evanton\n",
      "Processing Record 539 of Set 1 | zyryanka\n",
      "The city, hihifo, was not found. Skipping...\n",
      "Processing Record 541 of Set 1 | thompson\n",
      "Processing Record 542 of Set 1 | shellbrook\n",
      "Processing Record 543 of Set 1 | maumere\n",
      "Processing Record 544 of Set 1 | takoradi\n",
      "Processing Record 545 of Set 1 | morondava\n",
      "Processing Record 546 of Set 1 | cidreira\n",
      "Processing Record 547 of Set 1 | khasan\n",
      "Processing Record 548 of Set 1 | aklavik\n",
      "Processing Record 549 of Set 1 | carbonia\n",
      "Processing Record 550 of Set 1 | rocha\n",
      "Processing Record 551 of Set 1 | naryan-mar\n",
      "Processing Record 552 of Set 1 | carutapera\n",
      "Processing Record 553 of Set 1 | zhangjiakou\n",
      "Processing Record 554 of Set 1 | arman\n",
      "Processing Record 555 of Set 1 | tilichiki\n",
      "Processing Record 556 of Set 1 | rodrigues alves\n",
      "Processing Record 557 of Set 1 | uglich\n",
      "Processing Record 558 of Set 1 | palmas de monte alto\n",
      "Processing Record 559 of Set 1 | gubkinskiy\n",
      "Processing Record 560 of Set 1 | birao\n",
      "Processing Record 561 of Set 1 | kang\n",
      "Processing Record 562 of Set 1 | sagua de tanamo\n",
      "Processing Record 563 of Set 1 | udachnyy\n",
      "Processing Record 564 of Set 1 | coquimbo\n",
      "Processing Record 565 of Set 1 | basco\n",
      "Processing Record 566 of Set 1 | korla\n",
      "Processing Record 567 of Set 1 | gushikawa\n",
      "The city, khonuu, was not found. Skipping...\n",
      "Processing Record 569 of Set 1 | sukumo\n",
      "Processing Record 570 of Set 1 | zhigansk\n",
      "Processing Record 571 of Set 1 | punta alta\n",
      "Processing Record 572 of Set 1 | kokstad\n",
      "The city, azrow, was not found. Skipping...\n",
      "Processing Record 574 of Set 1 | klaksvik\n",
      "Processing Record 575 of Set 1 | indian head\n",
      "Processing Record 576 of Set 1 | brae\n",
      "Processing Record 577 of Set 1 | sharon\n",
      "Processing Record 578 of Set 1 | pandamatenga\n",
      "Processing Record 579 of Set 1 | troitskoye\n",
      "Processing Record 580 of Set 1 | sao felix do xingu\n",
      "Processing Record 581 of Set 1 | palembang\n"
     ]
    },
    {
     "name": "stdout",
     "output_type": "stream",
     "text": [
      "Processing Record 582 of Set 1 | bathurst\n",
      "Processing Record 583 of Set 1 | moindou\n",
      "Processing Record 584 of Set 1 | ternate\n",
      "Processing Record 585 of Set 1 | chichli\n",
      "Processing Record 586 of Set 1 | cap malheureux\n",
      "Processing Record 587 of Set 1 | honiton\n",
      "Processing Record 588 of Set 1 | cabra\n",
      "Processing Record 589 of Set 1 | kindu\n",
      "The city, tunduru, was not found. Skipping...\n",
      "Processing Record 591 of Set 1 | santa maria\n",
      "Processing Record 592 of Set 1 | jalu\n",
      "Processing Record 593 of Set 1 | kavaratti\n",
      "Processing Record 594 of Set 1 | borovskoy\n",
      "Processing Record 595 of Set 1 | saraland\n",
      "Processing Record 596 of Set 1 | gunjur\n",
      "Processing Record 597 of Set 1 | aykhal\n",
      "Processing Record 598 of Set 1 | burnie\n",
      "The city, nizhneyansk, was not found. Skipping...\n",
      "Processing Record 600 of Set 1 | tongliao\n",
      "Processing Record 601 of Set 1 | peringat\n",
      "Processing Record 602 of Set 1 | codrington\n",
      "Processing Record 603 of Set 1 | fort nelson\n",
      "Processing Record 604 of Set 1 | acapulco\n",
      "Processing Record 605 of Set 1 | tambovka\n",
      "Processing Record 606 of Set 1 | dargaville\n",
      "Processing Record 607 of Set 1 | urengoy\n",
      "Processing Record 608 of Set 1 | ketchikan\n",
      "Processing Record 609 of Set 1 | gunnedah\n",
      "Processing Record 610 of Set 1 | santa isabel\n",
      "Processing Record 611 of Set 1 | evensk\n"
     ]
    }
   ],
   "source": [
    "#empty lists to store info\n",
    "usedLats=[]\n",
    "usedLngs=[]\n",
    "maxTemp=[]\n",
    "humidity=[]\n",
    "cloudiness=[]\n",
    "windSpeed=[]\n",
    "country=[]\n",
    "date=[]\n",
    "usedCities=[]\n",
    "\n",
    "# Set up API call information\n",
    "url = \"http://api.openweathermap.org/data/2.5/weather?\"\n",
    "units = \"imperial\"\n",
    "query_url = f\"{url}appid={weather_api_key}&units={units}&q=\"\n",
    "\n",
    "\n",
    "print(\"Beginning Data Retrieval\")\n",
    "print(\"-------------------------------\")\n",
    "\n",
    "#iterate through each city\n",
    "for city in cities:\n",
    "    \n",
    "    #send the request\n",
    "    response = requests.get(query_url + city).json()\n",
    "    \n",
    "    #track record number\n",
    "    recordNum=cities.index(city)+1  \n",
    "    \n",
    "    try: \n",
    "        #append info to corresponding list above\n",
    "        usedLats.append(response['coord']['lat'])\n",
    "        usedLngs.append(response['coord']['lon'])\n",
    "        maxTemp.append(response['main']['temp_max'])     \n",
    "        humidity.append(response['main']['humidity'])\n",
    "        cloudiness.append(response['clouds']['all'])\n",
    "        windSpeed.append(response['wind']['speed'])\n",
    "        country.append(response['sys']['country'])\n",
    "        date.append(response['dt'])\n",
    "        usedCities.append(city)\n",
    "        \n",
    "        #print to make it known it was successful\n",
    "        print(f\"Processing Record {recordNum} of Set 1 | {city}\")\n",
    "        \n",
    "    except:\n",
    "        #if unable to retrieve some info, show skipping message\n",
    "        print(f\"The city, {city}, was not found. Skipping...\")    \n",
    "        \n"
   ]
  },
  {
   "cell_type": "markdown",
   "metadata": {},
   "source": [
    "### Convert Raw Data to DataFrame\n",
    "* Export the city data into a .csv\n",
    "* Display the DataFrame"
   ]
  },
  {
   "cell_type": "code",
   "execution_count": 4,
   "metadata": {},
   "outputs": [
    {
     "data": {
      "text/html": [
       "<div>\n",
       "<style scoped>\n",
       "    .dataframe tbody tr th:only-of-type {\n",
       "        vertical-align: middle;\n",
       "    }\n",
       "\n",
       "    .dataframe tbody tr th {\n",
       "        vertical-align: top;\n",
       "    }\n",
       "\n",
       "    .dataframe thead th {\n",
       "        text-align: right;\n",
       "    }\n",
       "</style>\n",
       "<table border=\"1\" class=\"dataframe\">\n",
       "  <thead>\n",
       "    <tr style=\"text-align: right;\">\n",
       "      <th></th>\n",
       "      <th>City</th>\n",
       "      <th>Lat</th>\n",
       "      <th>Lng</th>\n",
       "      <th>Max Temp</th>\n",
       "      <th>Humidity</th>\n",
       "      <th>Cloudiness</th>\n",
       "      <th>Wind Speed</th>\n",
       "      <th>Country</th>\n",
       "      <th>Date</th>\n",
       "    </tr>\n",
       "  </thead>\n",
       "  <tbody>\n",
       "    <tr>\n",
       "      <th>0</th>\n",
       "      <td>rikitea</td>\n",
       "      <td>-23.1203</td>\n",
       "      <td>-134.9692</td>\n",
       "      <td>71.33</td>\n",
       "      <td>73</td>\n",
       "      <td>17</td>\n",
       "      <td>5.64</td>\n",
       "      <td>PF</td>\n",
       "      <td>1627260013</td>\n",
       "    </tr>\n",
       "    <tr>\n",
       "      <th>1</th>\n",
       "      <td>atuona</td>\n",
       "      <td>-9.8000</td>\n",
       "      <td>-139.0333</td>\n",
       "      <td>78.30</td>\n",
       "      <td>72</td>\n",
       "      <td>4</td>\n",
       "      <td>23.26</td>\n",
       "      <td>PF</td>\n",
       "      <td>1627260013</td>\n",
       "    </tr>\n",
       "    <tr>\n",
       "      <th>2</th>\n",
       "      <td>kabare</td>\n",
       "      <td>-2.4683</td>\n",
       "      <td>28.8242</td>\n",
       "      <td>58.46</td>\n",
       "      <td>86</td>\n",
       "      <td>93</td>\n",
       "      <td>1.95</td>\n",
       "      <td>CD</td>\n",
       "      <td>1627260014</td>\n",
       "    </tr>\n",
       "    <tr>\n",
       "      <th>3</th>\n",
       "      <td>pemangkat</td>\n",
       "      <td>1.1667</td>\n",
       "      <td>108.9667</td>\n",
       "      <td>81.37</td>\n",
       "      <td>82</td>\n",
       "      <td>18</td>\n",
       "      <td>6.80</td>\n",
       "      <td>ID</td>\n",
       "      <td>1627259871</td>\n",
       "    </tr>\n",
       "    <tr>\n",
       "      <th>4</th>\n",
       "      <td>ribeira grande</td>\n",
       "      <td>38.5167</td>\n",
       "      <td>-28.7000</td>\n",
       "      <td>70.45</td>\n",
       "      <td>82</td>\n",
       "      <td>7</td>\n",
       "      <td>14.85</td>\n",
       "      <td>PT</td>\n",
       "      <td>1627260014</td>\n",
       "    </tr>\n",
       "  </tbody>\n",
       "</table>\n",
       "</div>"
      ],
      "text/plain": [
       "             City      Lat       Lng  Max Temp  Humidity  Cloudiness  \\\n",
       "0         rikitea -23.1203 -134.9692     71.33        73          17   \n",
       "1          atuona  -9.8000 -139.0333     78.30        72           4   \n",
       "2          kabare  -2.4683   28.8242     58.46        86          93   \n",
       "3       pemangkat   1.1667  108.9667     81.37        82          18   \n",
       "4  ribeira grande  38.5167  -28.7000     70.45        82           7   \n",
       "\n",
       "   Wind Speed Country        Date  \n",
       "0        5.64      PF  1627260013  \n",
       "1       23.26      PF  1627260013  \n",
       "2        1.95      CD  1627260014  \n",
       "3        6.80      ID  1627259871  \n",
       "4       14.85      PT  1627260014  "
      ]
     },
     "execution_count": 4,
     "metadata": {},
     "output_type": "execute_result"
    }
   ],
   "source": [
    "#create data frame\n",
    "weatherPy=pd.DataFrame({\"City\":usedCities,\"Lat\":usedLats,\"Lng\":usedLngs,\"Max Temp\":maxTemp,\"Humidity\":humidity,\"Cloudiness\":cloudiness,\"Wind Speed\":windSpeed,\"Country\":country,\"Date\":date})\n",
    "\n",
    "#export to a CSV file\n",
    "weatherPy.to_csv(\"Weather_Data.csv\", encoding=\"utf-8\", index=False)\n",
    "\n",
    "#display first 5 in data frame\n",
    "weatherPy.head()"
   ]
  },
  {
   "cell_type": "code",
   "execution_count": 5,
   "metadata": {},
   "outputs": [
    {
     "data": {
      "text/html": [
       "<div>\n",
       "<style scoped>\n",
       "    .dataframe tbody tr th:only-of-type {\n",
       "        vertical-align: middle;\n",
       "    }\n",
       "\n",
       "    .dataframe tbody tr th {\n",
       "        vertical-align: top;\n",
       "    }\n",
       "\n",
       "    .dataframe thead th {\n",
       "        text-align: right;\n",
       "    }\n",
       "</style>\n",
       "<table border=\"1\" class=\"dataframe\">\n",
       "  <thead>\n",
       "    <tr style=\"text-align: right;\">\n",
       "      <th></th>\n",
       "      <th>Lat</th>\n",
       "      <th>Lng</th>\n",
       "      <th>Max Temp</th>\n",
       "      <th>Humidity</th>\n",
       "      <th>Cloudiness</th>\n",
       "      <th>Wind Speed</th>\n",
       "      <th>Date</th>\n",
       "    </tr>\n",
       "  </thead>\n",
       "  <tbody>\n",
       "    <tr>\n",
       "      <th>count</th>\n",
       "      <td>566.000000</td>\n",
       "      <td>566.000000</td>\n",
       "      <td>566.000000</td>\n",
       "      <td>566.000000</td>\n",
       "      <td>566.000000</td>\n",
       "      <td>566.000000</td>\n",
       "      <td>5.660000e+02</td>\n",
       "    </tr>\n",
       "    <tr>\n",
       "      <th>mean</th>\n",
       "      <td>19.375932</td>\n",
       "      <td>21.505907</td>\n",
       "      <td>68.991484</td>\n",
       "      <td>71.118375</td>\n",
       "      <td>51.636042</td>\n",
       "      <td>7.757438</td>\n",
       "      <td>1.627260e+09</td>\n",
       "    </tr>\n",
       "    <tr>\n",
       "      <th>std</th>\n",
       "      <td>33.612540</td>\n",
       "      <td>90.878644</td>\n",
       "      <td>13.503019</td>\n",
       "      <td>19.346723</td>\n",
       "      <td>40.615639</td>\n",
       "      <td>5.594916</td>\n",
       "      <td>9.978769e+01</td>\n",
       "    </tr>\n",
       "    <tr>\n",
       "      <th>min</th>\n",
       "      <td>-54.800000</td>\n",
       "      <td>-179.166700</td>\n",
       "      <td>31.190000</td>\n",
       "      <td>7.000000</td>\n",
       "      <td>0.000000</td>\n",
       "      <td>0.000000</td>\n",
       "      <td>1.627259e+09</td>\n",
       "    </tr>\n",
       "    <tr>\n",
       "      <th>25%</th>\n",
       "      <td>-9.040375</td>\n",
       "      <td>-58.715150</td>\n",
       "      <td>58.540000</td>\n",
       "      <td>60.000000</td>\n",
       "      <td>6.000000</td>\n",
       "      <td>3.440000</td>\n",
       "      <td>1.627260e+09</td>\n",
       "    </tr>\n",
       "    <tr>\n",
       "      <th>50%</th>\n",
       "      <td>21.904250</td>\n",
       "      <td>25.960200</td>\n",
       "      <td>71.170000</td>\n",
       "      <td>75.000000</td>\n",
       "      <td>55.000000</td>\n",
       "      <td>6.645000</td>\n",
       "      <td>1.627260e+09</td>\n",
       "    </tr>\n",
       "    <tr>\n",
       "      <th>75%</th>\n",
       "      <td>48.011825</td>\n",
       "      <td>103.029800</td>\n",
       "      <td>79.210000</td>\n",
       "      <td>86.750000</td>\n",
       "      <td>96.000000</td>\n",
       "      <td>10.360000</td>\n",
       "      <td>1.627260e+09</td>\n",
       "    </tr>\n",
       "    <tr>\n",
       "      <th>max</th>\n",
       "      <td>78.218600</td>\n",
       "      <td>178.416700</td>\n",
       "      <td>103.910000</td>\n",
       "      <td>100.000000</td>\n",
       "      <td>100.000000</td>\n",
       "      <td>33.870000</td>\n",
       "      <td>1.627260e+09</td>\n",
       "    </tr>\n",
       "  </tbody>\n",
       "</table>\n",
       "</div>"
      ],
      "text/plain": [
       "              Lat         Lng    Max Temp    Humidity  Cloudiness  Wind Speed  \\\n",
       "count  566.000000  566.000000  566.000000  566.000000  566.000000  566.000000   \n",
       "mean    19.375932   21.505907   68.991484   71.118375   51.636042    7.757438   \n",
       "std     33.612540   90.878644   13.503019   19.346723   40.615639    5.594916   \n",
       "min    -54.800000 -179.166700   31.190000    7.000000    0.000000    0.000000   \n",
       "25%     -9.040375  -58.715150   58.540000   60.000000    6.000000    3.440000   \n",
       "50%     21.904250   25.960200   71.170000   75.000000   55.000000    6.645000   \n",
       "75%     48.011825  103.029800   79.210000   86.750000   96.000000   10.360000   \n",
       "max     78.218600  178.416700  103.910000  100.000000  100.000000   33.870000   \n",
       "\n",
       "               Date  \n",
       "count  5.660000e+02  \n",
       "mean   1.627260e+09  \n",
       "std    9.978769e+01  \n",
       "min    1.627259e+09  \n",
       "25%    1.627260e+09  \n",
       "50%    1.627260e+09  \n",
       "75%    1.627260e+09  \n",
       "max    1.627260e+09  "
      ]
     },
     "execution_count": 5,
     "metadata": {},
     "output_type": "execute_result"
    }
   ],
   "source": [
    "#show all stats available for data frame\n",
    "weatherPy.describe()"
   ]
  },
  {
   "cell_type": "markdown",
   "metadata": {},
   "source": [
    "## Inspect the data and remove the cities where the humidity > 100%.\n",
    "----\n"
   ]
  },
  {
   "cell_type": "code",
   "execution_count": 6,
   "metadata": {},
   "outputs": [
    {
     "data": {
      "text/html": [
       "<div>\n",
       "<style scoped>\n",
       "    .dataframe tbody tr th:only-of-type {\n",
       "        vertical-align: middle;\n",
       "    }\n",
       "\n",
       "    .dataframe tbody tr th {\n",
       "        vertical-align: top;\n",
       "    }\n",
       "\n",
       "    .dataframe thead th {\n",
       "        text-align: right;\n",
       "    }\n",
       "</style>\n",
       "<table border=\"1\" class=\"dataframe\">\n",
       "  <thead>\n",
       "    <tr style=\"text-align: right;\">\n",
       "      <th></th>\n",
       "      <th>index</th>\n",
       "      <th>City</th>\n",
       "      <th>Lat</th>\n",
       "      <th>Lng</th>\n",
       "      <th>Max Temp</th>\n",
       "      <th>Humidity</th>\n",
       "      <th>Cloudiness</th>\n",
       "      <th>Wind Speed</th>\n",
       "      <th>Country</th>\n",
       "      <th>Date</th>\n",
       "    </tr>\n",
       "  </thead>\n",
       "  <tbody>\n",
       "    <tr>\n",
       "      <th>0</th>\n",
       "      <td>183</td>\n",
       "      <td>bata</td>\n",
       "      <td>1.8639</td>\n",
       "      <td>9.7658</td>\n",
       "      <td>73.26</td>\n",
       "      <td>100</td>\n",
       "      <td>40</td>\n",
       "      <td>0.00</td>\n",
       "      <td>GQ</td>\n",
       "      <td>1627260066</td>\n",
       "    </tr>\n",
       "    <tr>\n",
       "      <th>1</th>\n",
       "      <td>260</td>\n",
       "      <td>maceio</td>\n",
       "      <td>-9.6658</td>\n",
       "      <td>-35.7353</td>\n",
       "      <td>72.84</td>\n",
       "      <td>100</td>\n",
       "      <td>75</td>\n",
       "      <td>3.44</td>\n",
       "      <td>BR</td>\n",
       "      <td>1627259993</td>\n",
       "    </tr>\n",
       "    <tr>\n",
       "      <th>2</th>\n",
       "      <td>470</td>\n",
       "      <td>NaN</td>\n",
       "      <td>18.8333</td>\n",
       "      <td>100.6667</td>\n",
       "      <td>73.42</td>\n",
       "      <td>100</td>\n",
       "      <td>75</td>\n",
       "      <td>2.30</td>\n",
       "      <td>TH</td>\n",
       "      <td>1627260147</td>\n",
       "    </tr>\n",
       "    <tr>\n",
       "      <th>3</th>\n",
       "      <td>108</td>\n",
       "      <td>clyde river</td>\n",
       "      <td>70.4692</td>\n",
       "      <td>-68.5914</td>\n",
       "      <td>35.83</td>\n",
       "      <td>100</td>\n",
       "      <td>90</td>\n",
       "      <td>3.44</td>\n",
       "      <td>CA</td>\n",
       "      <td>1627260043</td>\n",
       "    </tr>\n",
       "    <tr>\n",
       "      <th>4</th>\n",
       "      <td>111</td>\n",
       "      <td>grindavik</td>\n",
       "      <td>63.8424</td>\n",
       "      <td>-22.4338</td>\n",
       "      <td>48.15</td>\n",
       "      <td>100</td>\n",
       "      <td>90</td>\n",
       "      <td>19.57</td>\n",
       "      <td>IS</td>\n",
       "      <td>1627260009</td>\n",
       "    </tr>\n",
       "  </tbody>\n",
       "</table>\n",
       "</div>"
      ],
      "text/plain": [
       "   index         City      Lat       Lng  Max Temp  Humidity  Cloudiness  \\\n",
       "0    183         bata   1.8639    9.7658     73.26       100          40   \n",
       "1    260       maceio  -9.6658  -35.7353     72.84       100          75   \n",
       "2    470          NaN  18.8333  100.6667     73.42       100          75   \n",
       "3    108  clyde river  70.4692  -68.5914     35.83       100          90   \n",
       "4    111    grindavik  63.8424  -22.4338     48.15       100          90   \n",
       "\n",
       "   Wind Speed Country        Date  \n",
       "0        0.00      GQ  1627260066  \n",
       "1        3.44      BR  1627259993  \n",
       "2        2.30      TH  1627260147  \n",
       "3        3.44      CA  1627260043  \n",
       "4       19.57      IS  1627260009  "
      ]
     },
     "execution_count": 6,
     "metadata": {},
     "output_type": "execute_result"
    }
   ],
   "source": [
    "#upload from the CSV file\n",
    "weatherPyCSV=pd.read_csv('Weather_Data.csv')\n",
    "\n",
    "#sort value by humidity %\n",
    "weatherPyCSV=weatherPyCSV.sort_values(\"Humidity\", ascending=False).reset_index()\n",
    "weatherPyCSV.head()"
   ]
  },
  {
   "cell_type": "code",
   "execution_count": 7,
   "metadata": {},
   "outputs": [],
   "source": [
    "#  Get the indices of cities that have humidity over 100%.\n",
    "HumidityIndices=weatherPyCSV['City'].where(weatherPyCSV['Humidity'] > 100).to_frame(name='Humidity > 100')\n",
    "\n",
    "indexList=HumidityIndices.index[HumidityIndices['Humidity > 100'].notnull()].tolist()\n"
   ]
  },
  {
   "cell_type": "code",
   "execution_count": 8,
   "metadata": {},
   "outputs": [
    {
     "name": "stdout",
     "output_type": "stream",
     "text": [
      "There are no columns to drop\n"
     ]
    }
   ],
   "source": [
    "# Make a new DataFrame equal to the city data to drop all humidity outliers by index.\n",
    "# Passing \"inplace=False\" will make a copy of the city_data DataFrame, which we call \"clean_city_data\".\n",
    "if len(indexList)!=0:\n",
    "    print(f\"There are columns to drop: {indexList}\")\n",
    "    for x in indexList:\n",
    "        cleanWeatherPy=WeatherPyCSV.drop(indexList , inplace=False)\n",
    "else:\n",
    "    print(\"There are no columns to drop\")"
   ]
  },
  {
   "cell_type": "code",
   "execution_count": 9,
   "metadata": {},
   "outputs": [
    {
     "data": {
      "text/html": [
       "<div>\n",
       "<style scoped>\n",
       "    .dataframe tbody tr th:only-of-type {\n",
       "        vertical-align: middle;\n",
       "    }\n",
       "\n",
       "    .dataframe tbody tr th {\n",
       "        vertical-align: top;\n",
       "    }\n",
       "\n",
       "    .dataframe thead th {\n",
       "        text-align: right;\n",
       "    }\n",
       "</style>\n",
       "<table border=\"1\" class=\"dataframe\">\n",
       "  <thead>\n",
       "    <tr style=\"text-align: right;\">\n",
       "      <th></th>\n",
       "      <th>index</th>\n",
       "      <th>City</th>\n",
       "      <th>Lat</th>\n",
       "      <th>Lng</th>\n",
       "      <th>Max Temp</th>\n",
       "      <th>Humidity</th>\n",
       "      <th>Cloudiness</th>\n",
       "      <th>Wind Speed</th>\n",
       "      <th>Country</th>\n",
       "      <th>Date</th>\n",
       "    </tr>\n",
       "  </thead>\n",
       "  <tbody>\n",
       "    <tr>\n",
       "      <th>0</th>\n",
       "      <td>183</td>\n",
       "      <td>bata</td>\n",
       "      <td>1.8639</td>\n",
       "      <td>9.7658</td>\n",
       "      <td>73.26</td>\n",
       "      <td>100</td>\n",
       "      <td>40</td>\n",
       "      <td>0.00</td>\n",
       "      <td>GQ</td>\n",
       "      <td>1627260066</td>\n",
       "    </tr>\n",
       "    <tr>\n",
       "      <th>1</th>\n",
       "      <td>260</td>\n",
       "      <td>maceio</td>\n",
       "      <td>-9.6658</td>\n",
       "      <td>-35.7353</td>\n",
       "      <td>72.84</td>\n",
       "      <td>100</td>\n",
       "      <td>75</td>\n",
       "      <td>3.44</td>\n",
       "      <td>BR</td>\n",
       "      <td>1627259993</td>\n",
       "    </tr>\n",
       "    <tr>\n",
       "      <th>2</th>\n",
       "      <td>470</td>\n",
       "      <td>NaN</td>\n",
       "      <td>18.8333</td>\n",
       "      <td>100.6667</td>\n",
       "      <td>73.42</td>\n",
       "      <td>100</td>\n",
       "      <td>75</td>\n",
       "      <td>2.30</td>\n",
       "      <td>TH</td>\n",
       "      <td>1627260147</td>\n",
       "    </tr>\n",
       "    <tr>\n",
       "      <th>3</th>\n",
       "      <td>108</td>\n",
       "      <td>clyde river</td>\n",
       "      <td>70.4692</td>\n",
       "      <td>-68.5914</td>\n",
       "      <td>35.83</td>\n",
       "      <td>100</td>\n",
       "      <td>90</td>\n",
       "      <td>3.44</td>\n",
       "      <td>CA</td>\n",
       "      <td>1627260043</td>\n",
       "    </tr>\n",
       "    <tr>\n",
       "      <th>4</th>\n",
       "      <td>111</td>\n",
       "      <td>grindavik</td>\n",
       "      <td>63.8424</td>\n",
       "      <td>-22.4338</td>\n",
       "      <td>48.15</td>\n",
       "      <td>100</td>\n",
       "      <td>90</td>\n",
       "      <td>19.57</td>\n",
       "      <td>IS</td>\n",
       "      <td>1627260009</td>\n",
       "    </tr>\n",
       "  </tbody>\n",
       "</table>\n",
       "</div>"
      ],
      "text/plain": [
       "   index         City      Lat       Lng  Max Temp  Humidity  Cloudiness  \\\n",
       "0    183         bata   1.8639    9.7658     73.26       100          40   \n",
       "1    260       maceio  -9.6658  -35.7353     72.84       100          75   \n",
       "2    470          NaN  18.8333  100.6667     73.42       100          75   \n",
       "3    108  clyde river  70.4692  -68.5914     35.83       100          90   \n",
       "4    111    grindavik  63.8424  -22.4338     48.15       100          90   \n",
       "\n",
       "   Wind Speed Country        Date  \n",
       "0        0.00      GQ  1627260066  \n",
       "1        3.44      BR  1627259993  \n",
       "2        2.30      TH  1627260147  \n",
       "3        3.44      CA  1627260043  \n",
       "4       19.57      IS  1627260009  "
      ]
     },
     "execution_count": 9,
     "metadata": {},
     "output_type": "execute_result"
    }
   ],
   "source": [
    "#display cleaned data\n",
    "weatherPyCSV.head()"
   ]
  },
  {
   "cell_type": "markdown",
   "metadata": {},
   "source": [
    "# Plotting the Data"
   ]
  },
  {
   "cell_type": "markdown",
   "metadata": {},
   "source": [
    "## Latitude vs. Temperature Plot"
   ]
  },
  {
   "cell_type": "code",
   "execution_count": 10,
   "metadata": {
    "scrolled": true
   },
   "outputs": [
    {
     "data": {
      "image/png": "[encoded data removed]",
      "text/plain": [
       "<Figure size 432x288 with 1 Axes>"
      ]
     },
     "metadata": {
      "needs_background": "light"
     },
     "output_type": "display_data"
    }
   ],
   "source": [
    "plt.title(\"City Latitude vs. Max Temperature\")\n",
    "plt.xlabel(\"Latitude\")\n",
    "plt.ylabel(\"Max Temperature (F)\")\n",
    "plt.scatter(weatherPyCSV[\"Lat\"], weatherPyCSV[\"Max Temp\"], marker=\"o\", facecolors=\"blue\", edgecolors=\"black\")\n",
    "plt.savefig('../WebDesign/Resources/assets/images/latVtemp.png', dpi=150, bbox_inches='tight')"
   ]
  },
  {
   "cell_type": "markdown",
   "metadata": {},
   "source": [
    "#### The above scatter plot shows latitude in relation to the location's Max temperature. We can see that the northern hemisphere\n",
    "#### (to the right of 0 on the latitude line) gets colder the futher north you get. Conversely, the southern hemisphere gets\n",
    "#### colder the further south you get from the equator."
   ]
  },
  {
   "cell_type": "markdown",
   "metadata": {},
   "source": [
    "## Latitude vs. Humidity Plot"
   ]
  },
  {
   "cell_type": "code",
   "execution_count": 11,
   "metadata": {},
   "outputs": [
    {
     "data": {
      "image/png": "[encoded data removed]",
      "text/plain": [
       "<Figure size 432x288 with 1 Axes>"
      ]
     },
     "metadata": {
      "needs_background": "light"
     },
     "output_type": "display_data"
    }
   ],
   "source": [
    "plt.title(\"City Latitude vs. Humidity\")\n",
    "plt.xlabel(\"Latitude\")\n",
    "plt.ylabel(\"Humidity (%)\")\n",
    "plt.scatter(weatherPyCSV[\"Lat\"], weatherPyCSV[\"Humidity\"], marker=\"o\", facecolors=\"blue\", edgecolors=\"black\")\n",
    "plt.savefig('../WebDesign/Resources/assets/images/latVhumidity.png', dpi=150, bbox_inches='tight')"
   ]
  },
  {
   "cell_type": "markdown",
   "metadata": {},
   "source": [
    "#### The above scatter plot shows latitude in relation to the location's humidity. There's little correlation, but there does seem\n",
    "#### to be many (visually more than 3/4of the data set) that have humidity higher than 50%. These locations are spread fairly evenly\n",
    "#### between the northern and southern hemispheres."
   ]
  },
  {
   "cell_type": "markdown",
   "metadata": {},
   "source": [
    "## Latitude vs. Cloudiness Plot"
   ]
  },
  {
   "cell_type": "code",
   "execution_count": 12,
   "metadata": {},
   "outputs": [
    {
     "data": {
      "image/png": "[encoded data removed]",
      "text/plain": [
       "<Figure size 432x288 with 1 Axes>"
      ]
     },
     "metadata": {
      "needs_background": "light"
     },
     "output_type": "display_data"
    }
   ],
   "source": [
    "plt.title(\"City Latitude vs. Cloudiness\")\n",
    "plt.xlabel(\"Latitude\")\n",
    "plt.ylabel(\"Cloudiness (%)\")\n",
    "plt.scatter(weatherPyCSV[\"Lat\"], weatherPyCSV[\"Cloudiness\"], marker=\"o\", facecolors=\"blue\", edgecolors=\"black\")\n",
    "plt.savefig('../WebDesign/Resources/assets/images/latVcloudiness.png', dpi=150, bbox_inches='tight')"
   ]
  },
  {
   "cell_type": "markdown",
   "metadata": {},
   "source": [
    "#### The above scatter plot show latitude in relation to cloudiness. There seems to be absolutely no relation between a location\n",
    "#### and the amount of cloudiness it received."
   ]
  },
  {
   "cell_type": "markdown",
   "metadata": {},
   "source": [
    "## Latitude vs. Wind Speed Plot"
   ]
  },
  {
   "cell_type": "code",
   "execution_count": 13,
   "metadata": {},
   "outputs": [
    {
     "data": {
      "image/png": "[encoded data removed]",
      "text/plain": [
       "<Figure size 432x288 with 1 Axes>"
      ]
     },
     "metadata": {
      "needs_background": "light"
     },
     "output_type": "display_data"
    }
   ],
   "source": [
    "plt.title(\"City Latitude vs. Wind Speed\")\n",
    "plt.xlabel(\"Latitude\")\n",
    "plt.ylabel(\"Wind Speed (mph)\")\n",
    "plt.scatter(weatherPyCSV[\"Lat\"], weatherPyCSV[\"Wind Speed\"], marker=\"o\", facecolors=\"blue\", edgecolors=\"black\")\n",
    "plt.savefig('../WebDesign/Resources/assets/images/latVwind.png', dpi=150, bbox_inches='tight')"
   ]
  },
  {
   "cell_type": "markdown",
   "metadata": {},
   "source": [
    "#### The above scatter plot shows latitude in relation to the locations wind speed (mph). There doesn't seem to be much relation\n",
    "#### for wind speed compared to location, however, visually it seems that more than 3/4 of the locations experience wind speeds of\n",
    "#### 15mph or less."
   ]
  },
  {
   "cell_type": "markdown",
   "metadata": {},
   "source": [
    "# Linear Regression"
   ]
  },
  {
   "cell_type": "code",
   "execution_count": 14,
   "metadata": {},
   "outputs": [],
   "source": [
    "northernDF=weatherPyCSV[weatherPyCSV[\"Lat\"]>=0]\n",
    "southernDF=weatherPyCSV[weatherPyCSV[\"Lat\"]<=0]"
   ]
  },
  {
   "cell_type": "markdown",
   "metadata": {},
   "source": [
    "##  Northern Hemisphere - Max Temp vs. Latitude Linear Regression"
   ]
  },
  {
   "cell_type": "code",
   "execution_count": 29,
   "metadata": {},
   "outputs": [
    {
     "name": "stdout",
     "output_type": "stream",
     "text": [
      "The r-value is: -0.6435352640256061\n"
     ]
    },
    {
     "data": {
      "image/png": "[encoded data removed]",
      "text/plain": [
       "<Figure size 432x288 with 1 Axes>"
      ]
     },
     "metadata": {
      "needs_background": "light"
     },
     "output_type": "display_data"
    },
    {
     "data": {
      "text/plain": [
       "<Figure size 432x288 with 0 Axes>"
      ]
     },
     "metadata": {},
     "output_type": "display_data"
    }
   ],
   "source": [
    "plt.title(\"Northern Hemisphere: City Latitude vs. Max Temp\")\n",
    "plt.xlabel(\"Latitude\")\n",
    "plt.ylabel(\"Max Temp (F)\")\n",
    "(slope, intercept, rvalue, pvalue, stderr) = linregress(northernDF[\"Lat\"], northernDF[\"Max Temp\"])\n",
    "print(f\"The r-value is: {rvalue}\")\n",
    "regress_values = northernDF[\"Lat\"] * slope + intercept\n",
    "line_eq = \"y = \" + str(round(slope,2)) + \"x + \" + str(round(intercept,2))\n",
    "plt.scatter(northernDF[\"Lat\"], northernDF[\"Max Temp\"], marker=\"o\", facecolors=\"blue\", edgecolors=\"black\")\n",
    "plt.plot(northernDF[\"Lat\"],regress_values,\"r-\")\n",
    "plt.annotate(line_eq,(10,0),fontsize=15,color=\"red\")\n",
    "plt.show()\n",
    "plt.savefig('NHlatVtemp.png', dpi=150, bbox_inches='tight')"
   ]
  },
  {
   "cell_type": "markdown",
   "metadata": {},
   "source": [
    "##  Southern Hemisphere - Max Temp vs. Latitude Linear Regression"
   ]
  },
  {
   "cell_type": "code",
   "execution_count": 30,
   "metadata": {},
   "outputs": [
    {
     "name": "stdout",
     "output_type": "stream",
     "text": [
      "The r-value is: 0.7040997595627262\n"
     ]
    },
    {
     "data": {
      "image/png": "[encoded data removed]",
      "text/plain": [
       "<Figure size 432x288 with 1 Axes>"
      ]
     },
     "metadata": {
      "needs_background": "light"
     },
     "output_type": "display_data"
    },
    {
     "data": {
      "text/plain": [
       "<Figure size 432x288 with 0 Axes>"
      ]
     },
     "metadata": {},
     "output_type": "display_data"
    }
   ],
   "source": [
    "plt.title(\"Southern Hemisphere: City Latitude vs. Max Temp\")\n",
    "plt.xlabel(\"Latitude\")\n",
    "plt.ylabel(\"Max Temp (F)\")\n",
    "(slope, intercept, rvalue, pvalue, stderr) = linregress(southernDF[\"Lat\"], southernDF[\"Max Temp\"])\n",
    "print(f\"The r-value is: {rvalue}\")\n",
    "regress_values = southernDF[\"Lat\"] * slope + intercept\n",
    "line_eq = \"y = \" + str(round(slope,2)) + \"x + \" + str(round(intercept,2))\n",
    "plt.scatter(southernDF[\"Lat\"], southernDF[\"Max Temp\"], marker=\"o\", facecolors=\"blue\", edgecolors=\"black\")\n",
    "plt.plot(southernDF[\"Lat\"],regress_values,\"r-\")\n",
    "plt.annotate(line_eq,(-55,85),fontsize=15,color=\"red\")\n",
    "plt.show()\n",
    "plt.savefig('SHlatVtemp.png', dpi=150, bbox_inches='tight')"
   ]
  },
  {
   "cell_type": "markdown",
   "metadata": {},
   "source": [
    "#### The above two scatter plots show the norther and southern hemispheres, respectively, compared to the max temp in each location.\n",
    "#### There is a relatively strong relation for each hemisphere and it's max temps, where northern hemisphere locations get colder\n",
    "#### further north, while the southern hemisphere has colder temps further south."
   ]
  },
  {
   "cell_type": "markdown",
   "metadata": {},
   "source": [
    "##  Northern Hemisphere - Humidity (%) vs. Latitude Linear Regression"
   ]
  },
  {
   "cell_type": "code",
   "execution_count": 31,
   "metadata": {},
   "outputs": [
    {
     "name": "stdout",
     "output_type": "stream",
     "text": [
      "The r-value is: 0.0029504885477440114\n"
     ]
    },
    {
     "data": {
      "image/png": "[encoded data removed]",
      "text/plain": [
       "<Figure size 432x288 with 1 Axes>"
      ]
     },
     "metadata": {
      "needs_background": "light"
     },
     "output_type": "display_data"
    },
    {
     "data": {
      "text/plain": [
       "<Figure size 432x288 with 0 Axes>"
      ]
     },
     "metadata": {},
     "output_type": "display_data"
    }
   ],
   "source": [
    "plt.title(\"Northern Hemisphere: City Latitude vs. Humidity\")\n",
    "plt.xlabel(\"Latitude\")\n",
    "plt.ylabel(\"Humidity (%)\")\n",
    "(slope, intercept, rvalue, pvalue, stderr) = linregress(northernDF[\"Lat\"], northernDF[\"Humidity\"])\n",
    "print(f\"The r-value is: {rvalue}\")\n",
    "regress_values = northernDF[\"Lat\"] * slope + intercept\n",
    "line_eq = \"y = \" + str(round(slope,2)) + \"x + \" + str(round(intercept,2))\n",
    "plt.scatter(northernDF[\"Lat\"], northernDF[\"Humidity\"], marker=\"o\", facecolors=\"blue\", edgecolors=\"black\")\n",
    "plt.plot(northernDF[\"Lat\"],regress_values,\"r-\")\n",
    "plt.annotate(line_eq,(45,10),fontsize=15,color=\"red\")\n",
    "plt.show()\n",
    "plt.savefig('NHlatVhumidity.png', dpi=150, bbox_inches='tight')"
   ]
  },
  {
   "cell_type": "markdown",
   "metadata": {},
   "source": [
    "##  Southern Hemisphere - Humidity (%) vs. Latitude Linear Regression"
   ]
  },
  {
   "cell_type": "code",
   "execution_count": 32,
   "metadata": {},
   "outputs": [
    {
     "name": "stdout",
     "output_type": "stream",
     "text": [
      "The r-value is: -0.02965314919222938\n"
     ]
    },
    {
     "data": {
      "image/png": "[encoded data removed]",
      "text/plain": [
       "<Figure size 432x288 with 1 Axes>"
      ]
     },
     "metadata": {
      "needs_background": "light"
     },
     "output_type": "display_data"
    },
    {
     "data": {
      "text/plain": [
       "<Figure size 432x288 with 0 Axes>"
      ]
     },
     "metadata": {},
     "output_type": "display_data"
    }
   ],
   "source": [
    "plt.title(\"Southern Hemisphere: City Latitude vs. Humidity\")\n",
    "plt.xlabel(\"Latitude\")\n",
    "plt.ylabel(\"Humidity (%)\")\n",
    "(slope, intercept, rvalue, pvalue, stderr) = linregress(southernDF[\"Lat\"], southernDF[\"Humidity\"])\n",
    "print(f\"The r-value is: {rvalue}\")\n",
    "regress_values = southernDF[\"Lat\"] * slope + intercept\n",
    "line_eq = \"y = \" + str(round(slope,2)) + \"x + \" + str(round(intercept,2))\n",
    "plt.scatter(southernDF[\"Lat\"], southernDF[\"Humidity\"], marker=\"o\", facecolors=\"blue\", edgecolors=\"black\")\n",
    "plt.plot(southernDF[\"Lat\"],regress_values,\"r-\")\n",
    "plt.annotate(line_eq,(-55,15),fontsize=15,color=\"red\")\n",
    "plt.show()\n",
    "plt.savefig('SHlatVhumidity.png', dpi=150, bbox_inches='tight')"
   ]
  },
  {
   "cell_type": "markdown",
   "metadata": {},
   "source": [
    "#### The above two scatter plots show latitude vs humidity for both the northern and southern hemispheres. Neither hemisphere has\n",
    "#### a strong relation between the two, however, the southern hemisphere has  the vast majority of cities with humidity over 50%\n",
    "#### while the norther hemisphere has a lot more occurences of cities with humidity below 50% (however, the vast majority of  \n",
    "#### cities still have humidity over 50%).\n",
    " "
   ]
  },
  {
   "cell_type": "markdown",
   "metadata": {},
   "source": [
    "##  Northern Hemisphere - Cloudiness (%) vs. Latitude Linear Regression"
   ]
  },
  {
   "cell_type": "code",
   "execution_count": 33,
   "metadata": {},
   "outputs": [
    {
     "name": "stdout",
     "output_type": "stream",
     "text": [
      "The r-value is: -0.029799089576623954\n"
     ]
    },
    {
     "data": {
      "image/png": "[encoded data removed]",
      "text/plain": [
       "<Figure size 432x288 with 1 Axes>"
      ]
     },
     "metadata": {
      "needs_background": "light"
     },
     "output_type": "display_data"
    },
    {
     "data": {
      "text/plain": [
       "<Figure size 432x288 with 0 Axes>"
      ]
     },
     "metadata": {},
     "output_type": "display_data"
    }
   ],
   "source": [
    "plt.title(\"Northern Hemisphere: City Latitude vs. Cloudiness\")\n",
    "plt.xlabel(\"Latitude\")\n",
    "plt.ylabel(\"Cloudiness (%)\")\n",
    "(slope, intercept, rvalue, pvalue, stderr) = linregress(northernDF[\"Lat\"], northernDF[\"Cloudiness\"])\n",
    "print(f\"The r-value is: {rvalue}\")\n",
    "regress_values = northernDF[\"Lat\"] * slope + intercept\n",
    "line_eq = \"y = \" + str(round(slope,2)) + \"x + \" + str(round(intercept,2))\n",
    "plt.scatter(northernDF[\"Lat\"], northernDF[\"Cloudiness\"], marker=\"o\", facecolors=\"blue\", edgecolors=\"black\")\n",
    "plt.plot(northernDF[\"Lat\"],regress_values,\"r-\")\n",
    "plt.annotate(line_eq,(15,25),fontsize=15,color=\"red\")\n",
    "plt.show()\n",
    "plt.savefig('NHlatVcloudiness.png', dpi=150, bbox_inches='tight')"
   ]
  },
  {
   "cell_type": "markdown",
   "metadata": {},
   "source": [
    "##  Southern Hemisphere - Cloudiness (%) vs. Latitude Linear Regression"
   ]
  },
  {
   "cell_type": "code",
   "execution_count": 34,
   "metadata": {},
   "outputs": [
    {
     "name": "stdout",
     "output_type": "stream",
     "text": [
      "The r-value is: -0.18668471475774995\n"
     ]
    },
    {
     "data": {
      "image/png": "[encoded data removed]",
      "text/plain": [
       "<Figure size 432x288 with 1 Axes>"
      ]
     },
     "metadata": {
      "needs_background": "light"
     },
     "output_type": "display_data"
    },
    {
     "data": {
      "text/plain": [
       "<Figure size 432x288 with 0 Axes>"
      ]
     },
     "metadata": {},
     "output_type": "display_data"
    }
   ],
   "source": [
    "plt.title(\"Southern Hemisphere: City Latitude vs. Cloudiness\")\n",
    "plt.xlabel(\"Latitude\")\n",
    "plt.ylabel(\"Cloudiness (%)\")\n",
    "(slope, intercept, rvalue, pvalue, stderr) = linregress(southernDF[\"Lat\"], southernDF[\"Cloudiness\"])\n",
    "print(f\"The r-value is: {rvalue}\")\n",
    "regress_values = southernDF[\"Lat\"] * slope + intercept\n",
    "line_eq = \"y = \" + str(round(slope,2)) + \"x + \" + str(round(intercept,2))\n",
    "plt.scatter(southernDF[\"Lat\"], southernDF[\"Cloudiness\"], marker=\"o\", facecolors=\"blue\", edgecolors=\"black\")\n",
    "plt.plot(southernDF[\"Lat\"],regress_values,\"r-\")\n",
    "plt.annotate(line_eq,(-55,15),fontsize=15,color=\"red\")\n",
    "plt.show()\n",
    "plt.savefig('SHlatVcloudiness.png', dpi=150, bbox_inches='tight')"
   ]
  },
  {
   "cell_type": "markdown",
   "metadata": {},
   "source": [
    "#### The above two scatter plots show the relation between latitude and cloudiness for both the northern and southern hemispheres.\n",
    "#### There is little to no relationship between these two variables. The number of places with cloudiness greater than 50% seems \n",
    "#### to be balanced with the number of places with cloudiness less than 50%, and both are spread evenly over all latitudes."
   ]
  },
  {
   "cell_type": "markdown",
   "metadata": {},
   "source": [
    "##  Northern Hemisphere - Wind Speed (mph) vs. Latitude Linear Regression"
   ]
  },
  {
   "cell_type": "code",
   "execution_count": 35,
   "metadata": {},
   "outputs": [
    {
     "name": "stdout",
     "output_type": "stream",
     "text": [
      "The r-value is: -0.12089706173953225\n"
     ]
    },
    {
     "data": {
      "image/png": "[encoded data removed]",
      "text/plain": [
       "<Figure size 432x288 with 1 Axes>"
      ]
     },
     "metadata": {
      "needs_background": "light"
     },
     "output_type": "display_data"
    },
    {
     "data": {
      "text/plain": [
       "<Figure size 432x288 with 0 Axes>"
      ]
     },
     "metadata": {},
     "output_type": "display_data"
    }
   ],
   "source": [
    "plt.title(\"Northern Hemisphere: City Latitude vs. Wind Speed\")\n",
    "plt.xlabel(\"Latitude\")\n",
    "plt.ylabel(\"Wind Speed (mph)\")\n",
    "(slope, intercept, rvalue, pvalue, stderr) = linregress(northernDF[\"Lat\"], northernDF[\"Wind Speed\"])\n",
    "print(f\"The r-value is: {rvalue}\")\n",
    "regress_values = northernDF[\"Lat\"] * slope + intercept\n",
    "line_eq = \"y = \" + str(round(slope,2)) + \"x + \" + str(round(intercept,2))\n",
    "plt.scatter(northernDF[\"Lat\"], northernDF[\"Wind Speed\"], marker=\"o\", facecolors=\"blue\", edgecolors=\"black\")\n",
    "plt.plot(northernDF[\"Lat\"],regress_values,\"r-\")\n",
    "plt.annotate(line_eq,(48,30),fontsize=15,color=\"red\")\n",
    "plt.show()\n",
    "plt.savefig('NHlatVwind.png', dpi=150, bbox_inches='tight')"
   ]
  },
  {
   "cell_type": "markdown",
   "metadata": {},
   "source": [
    "##  Southern Hemisphere - Wind Speed (mph) vs. Latitude Linear Regression"
   ]
  },
  {
   "cell_type": "code",
   "execution_count": 36,
   "metadata": {},
   "outputs": [
    {
     "name": "stdout",
     "output_type": "stream",
     "text": [
      "The r-value is: -0.20425183257510382\n"
     ]
    },
    {
     "data": {
      "image/png": "[encoded data removed]",
      "text/plain": [
       "<Figure size 432x288 with 1 Axes>"
      ]
     },
     "metadata": {
      "needs_background": "light"
     },
     "output_type": "display_data"
    },
    {
     "data": {
      "text/plain": [
       "<Figure size 432x288 with 0 Axes>"
      ]
     },
     "metadata": {},
     "output_type": "display_data"
    }
   ],
   "source": [
    "plt.title(\"Southern Hemisphere: City Latitude vs. Wind Speed\")\n",
    "plt.xlabel(\"Latitude\")\n",
    "plt.ylabel(\"Wind Speed (mph)\")\n",
    "(slope, intercept, rvalue, pvalue, stderr) = linregress(southernDF[\"Lat\"], southernDF[\"Wind Speed\"])\n",
    "print(f\"The r-value is: {rvalue}\")\n",
    "regress_values = southernDF[\"Lat\"] * slope + intercept\n",
    "line_eq = \"y = \" + str(round(slope,2)) + \"x + \" + str(round(intercept,2))\n",
    "plt.scatter(southernDF[\"Lat\"], southernDF[\"Wind Speed\"], marker=\"o\", facecolors=\"blue\", edgecolors=\"black\")\n",
    "plt.plot(southernDF[\"Lat\"],regress_values,\"r-\")\n",
    "plt.annotate(line_eq,(-55,25),fontsize=15,color=\"red\")\n",
    "plt.show()\n",
    "plt.savefig('SHlatVwind.png', dpi=150, bbox_inches='tight')"
   ]
  },
  {
   "cell_type": "markdown",
   "metadata": {},
   "source": [
    "#### The above two scatter plots show the relationship between latitude and wind speed for the nothern and southern hemispheres.\n",
    "#### There doesn't seem to be a huge relation between the two for the northern or southern hemispheres, however but have a majority\n",
    "#### of locations with wind speed of 15mph or less. "
   ]
  },
  {
   "cell_type": "code",
   "execution_count": null,
   "metadata": {},
   "outputs": [],
   "source": []
  }
 ],
 "metadata": {
  "anaconda-cloud": {},
  "kernel_info": {
   "name": "python3"
  },
  "kernelspec": {
   "display_name": "Python [conda env:PythonData] *",
   "language": "python",
   "name": "conda-env-PythonData-py"
  },
  "language_info": {
   "codemirror_mode": {
    "name": "ipython",
    "version": 3
   },
   "file_extension": ".py",
   "mimetype": "text/x-python",
   "name": "python",
   "nbconvert_exporter": "python",
   "pygments_lexer": "ipython3",
   "version": "3.7.1"
  },
  "latex_envs": {
   "LaTeX_envs_menu_present": true,
   "autoclose": false,
   "autocomplete": true,
   "bibliofile": "biblio.bib",
   "cite_by": "apalike",
   "current_citInitial": 1,
   "eqLabelWithNumbers": true,
   "eqNumInitial": 1,
   "hotkeys": {
    "equation": "Ctrl-E",
    "itemize": "Ctrl-I"
   },
   "labels_anchors": false,
   "latex_user_defs": false,
   "report_style_numbering": false,
   "user_envs_cfg": false
  },
  "nteract": {
   "version": "0.12.3"
  }
 },
 "nbformat": 4,
 "nbformat_minor": 2
}
